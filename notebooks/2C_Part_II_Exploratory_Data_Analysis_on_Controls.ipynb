{
 "cells": [
  {
   "cell_type": "markdown",
   "id": "1b6639f4",
   "metadata": {},
   "source": [
    "# PART II Exploratory Data Analysis on Google Merchandise Store Sequence Data\n",
    "\n",
    "This part of the EDA is to understand the different potential control variables in the dataset. We might want to introduce these variables to our modeling, but we need to understand counts and conversion rates across these areas.\n",
    "\n",
    "We go ahead and start this notebook by doing some initial data prep to help with the analysis. It is up to you to answer the questions and come up with other ideas to investigate as well."
   ]
  },
  {
   "cell_type": "code",
   "execution_count": 1,
   "id": "9c431f84",
   "metadata": {},
   "outputs": [],
   "source": [
    "import pandas as pd\n",
    "import numpy as np\n",
    "\n",
    "## Visualization packages\n",
    "import plotly.express as px\n",
    "import plotly.graph_objects as go\n",
    "import seaborn as sns\n",
    "import matplotlib.pyplot as plt\n",
    "\n",
    "## Purdue colors\n",
    "purdue_colors = ['#CEB888', '#000000','#9D968D','#373A36','#C28E0E']"
   ]
  },
  {
   "cell_type": "code",
   "execution_count": 2,
   "id": "009fa7ba",
   "metadata": {},
   "outputs": [],
   "source": [
    "## Import Dataset, this time we need to pull in the visitor id table as well\n",
    "\n",
    "sequence_df = pd.read_csv('../datasets/sequence_fact.csv')\n",
    "visitor_detail_df = pd.read_csv('../datasets/visitor_detail.csv')"
   ]
  },
  {
   "cell_type": "markdown",
   "id": "16a3945a",
   "metadata": {},
   "source": [
    "Add in control variables that will be asked in some of the questions below."
   ]
  },
  {
   "cell_type": "code",
   "execution_count": 3,
   "id": "ce1eac90",
   "metadata": {},
   "outputs": [],
   "source": [
    "visitor_detail_small_df = visitor_detail_df[['fullVisitorId','device_deviceCategory','device_browser','geoNetwork_continent']]"
   ]
  },
  {
   "cell_type": "code",
   "execution_count": 4,
   "id": "4852582b",
   "metadata": {},
   "outputs": [
    {
     "data": {
      "text/html": [
       "<div>\n",
       "<style scoped>\n",
       "    .dataframe tbody tr th:only-of-type {\n",
       "        vertical-align: middle;\n",
       "    }\n",
       "\n",
       "    .dataframe tbody tr th {\n",
       "        vertical-align: top;\n",
       "    }\n",
       "\n",
       "    .dataframe thead th {\n",
       "        text-align: right;\n",
       "    }\n",
       "</style>\n",
       "<table border=\"1\" class=\"dataframe\">\n",
       "  <thead>\n",
       "    <tr style=\"text-align: right;\">\n",
       "      <th></th>\n",
       "      <th>sequence_id</th>\n",
       "      <th>fullVisitorId</th>\n",
       "      <th>event_name</th>\n",
       "      <th>event_datetime</th>\n",
       "      <th>conversion_proximity</th>\n",
       "      <th>device_deviceCategory</th>\n",
       "      <th>device_browser</th>\n",
       "      <th>geoNetwork_continent</th>\n",
       "    </tr>\n",
       "  </thead>\n",
       "  <tbody>\n",
       "    <tr>\n",
       "      <th>0</th>\n",
       "      <td>0099Rqojoj1MCXN</td>\n",
       "      <td>7343617347507729080</td>\n",
       "      <td>organic_search</td>\n",
       "      <td>2018-04-15 17:31:50</td>\n",
       "      <td>75.0</td>\n",
       "      <td>desktop</td>\n",
       "      <td>Chrome</td>\n",
       "      <td>Asia</td>\n",
       "    </tr>\n",
       "    <tr>\n",
       "      <th>1</th>\n",
       "      <td>0099Rqojoj1MCXN</td>\n",
       "      <td>7343617347507729080</td>\n",
       "      <td>dead_end</td>\n",
       "      <td>2018-04-15 17:33:05</td>\n",
       "      <td>0.0</td>\n",
       "      <td>desktop</td>\n",
       "      <td>Chrome</td>\n",
       "      <td>Asia</td>\n",
       "    </tr>\n",
       "    <tr>\n",
       "      <th>2</th>\n",
       "      <td>00A9Lkka73okUx2</td>\n",
       "      <td>89656057821147903</td>\n",
       "      <td>organic_search</td>\n",
       "      <td>2017-09-14 16:36:56</td>\n",
       "      <td>1033.0</td>\n",
       "      <td>mobile</td>\n",
       "      <td>Chrome</td>\n",
       "      <td>Asia</td>\n",
       "    </tr>\n",
       "    <tr>\n",
       "      <th>3</th>\n",
       "      <td>00A9Lkka73okUx2</td>\n",
       "      <td>89656057821147903</td>\n",
       "      <td>dead_end</td>\n",
       "      <td>2017-09-14 16:54:09</td>\n",
       "      <td>0.0</td>\n",
       "      <td>mobile</td>\n",
       "      <td>Chrome</td>\n",
       "      <td>Asia</td>\n",
       "    </tr>\n",
       "    <tr>\n",
       "      <th>4</th>\n",
       "      <td>00B30tmbMwJn7Cf</td>\n",
       "      <td>4307745811624101170</td>\n",
       "      <td>organic_search</td>\n",
       "      <td>2017-04-21 02:41:23</td>\n",
       "      <td>1.0</td>\n",
       "      <td>tablet</td>\n",
       "      <td>Safari</td>\n",
       "      <td>Americas</td>\n",
       "    </tr>\n",
       "    <tr>\n",
       "      <th>...</th>\n",
       "      <td>...</td>\n",
       "      <td>...</td>\n",
       "      <td>...</td>\n",
       "      <td>...</td>\n",
       "      <td>...</td>\n",
       "      <td>...</td>\n",
       "      <td>...</td>\n",
       "      <td>...</td>\n",
       "    </tr>\n",
       "    <tr>\n",
       "      <th>220996</th>\n",
       "      <td>zzvh8qX8dzkWb2X</td>\n",
       "      <td>546466813369261354</td>\n",
       "      <td>dead_end</td>\n",
       "      <td>2017-02-17 12:27:46</td>\n",
       "      <td>0.0</td>\n",
       "      <td>desktop</td>\n",
       "      <td>Firefox</td>\n",
       "      <td>Asia</td>\n",
       "    </tr>\n",
       "    <tr>\n",
       "      <th>220997</th>\n",
       "      <td>zzxahVA1FamPayn</td>\n",
       "      <td>6288261604719925213</td>\n",
       "      <td>organic_search</td>\n",
       "      <td>2017-08-22 18:56:15</td>\n",
       "      <td>24.0</td>\n",
       "      <td>desktop</td>\n",
       "      <td>Chrome</td>\n",
       "      <td>Americas</td>\n",
       "    </tr>\n",
       "    <tr>\n",
       "      <th>220998</th>\n",
       "      <td>zzxahVA1FamPayn</td>\n",
       "      <td>6288261604719925213</td>\n",
       "      <td>dead_end</td>\n",
       "      <td>2017-08-22 18:56:39</td>\n",
       "      <td>0.0</td>\n",
       "      <td>desktop</td>\n",
       "      <td>Chrome</td>\n",
       "      <td>Americas</td>\n",
       "    </tr>\n",
       "    <tr>\n",
       "      <th>220999</th>\n",
       "      <td>zzyM5alBCxAkdwq</td>\n",
       "      <td>7918896908390800801</td>\n",
       "      <td>social</td>\n",
       "      <td>2018-02-24 15:01:36</td>\n",
       "      <td>1.0</td>\n",
       "      <td>desktop</td>\n",
       "      <td>Chrome</td>\n",
       "      <td>Americas</td>\n",
       "    </tr>\n",
       "    <tr>\n",
       "      <th>221000</th>\n",
       "      <td>zzyM5alBCxAkdwq</td>\n",
       "      <td>7918896908390800801</td>\n",
       "      <td>dead_end</td>\n",
       "      <td>2018-02-24 15:01:37</td>\n",
       "      <td>0.0</td>\n",
       "      <td>desktop</td>\n",
       "      <td>Chrome</td>\n",
       "      <td>Americas</td>\n",
       "    </tr>\n",
       "  </tbody>\n",
       "</table>\n",
       "<p>221001 rows × 8 columns</p>\n",
       "</div>"
      ],
      "text/plain": [
       "            sequence_id        fullVisitorId      event_name  \\\n",
       "0       0099Rqojoj1MCXN  7343617347507729080  organic_search   \n",
       "1       0099Rqojoj1MCXN  7343617347507729080        dead_end   \n",
       "2       00A9Lkka73okUx2    89656057821147903  organic_search   \n",
       "3       00A9Lkka73okUx2    89656057821147903        dead_end   \n",
       "4       00B30tmbMwJn7Cf  4307745811624101170  organic_search   \n",
       "...                 ...                  ...             ...   \n",
       "220996  zzvh8qX8dzkWb2X   546466813369261354        dead_end   \n",
       "220997  zzxahVA1FamPayn  6288261604719925213  organic_search   \n",
       "220998  zzxahVA1FamPayn  6288261604719925213        dead_end   \n",
       "220999  zzyM5alBCxAkdwq  7918896908390800801          social   \n",
       "221000  zzyM5alBCxAkdwq  7918896908390800801        dead_end   \n",
       "\n",
       "             event_datetime  conversion_proximity device_deviceCategory  \\\n",
       "0       2018-04-15 17:31:50                  75.0               desktop   \n",
       "1       2018-04-15 17:33:05                   0.0               desktop   \n",
       "2       2017-09-14 16:36:56                1033.0                mobile   \n",
       "3       2017-09-14 16:54:09                   0.0                mobile   \n",
       "4       2017-04-21 02:41:23                   1.0                tablet   \n",
       "...                     ...                   ...                   ...   \n",
       "220996  2017-02-17 12:27:46                   0.0               desktop   \n",
       "220997  2017-08-22 18:56:15                  24.0               desktop   \n",
       "220998  2017-08-22 18:56:39                   0.0               desktop   \n",
       "220999  2018-02-24 15:01:36                   1.0               desktop   \n",
       "221000  2018-02-24 15:01:37                   0.0               desktop   \n",
       "\n",
       "       device_browser geoNetwork_continent  \n",
       "0              Chrome                 Asia  \n",
       "1              Chrome                 Asia  \n",
       "2              Chrome                 Asia  \n",
       "3              Chrome                 Asia  \n",
       "4              Safari             Americas  \n",
       "...               ...                  ...  \n",
       "220996        Firefox                 Asia  \n",
       "220997         Chrome             Americas  \n",
       "220998         Chrome             Americas  \n",
       "220999         Chrome             Americas  \n",
       "221000         Chrome             Americas  \n",
       "\n",
       "[221001 rows x 8 columns]"
      ]
     },
     "execution_count": 4,
     "metadata": {},
     "output_type": "execute_result"
    }
   ],
   "source": [
    "full_df = sequence_df.merge(visitor_detail_small_df, on='fullVisitorId',how='left')\n",
    "full_df"
   ]
  },
  {
   "cell_type": "markdown",
   "id": "44cae1b1",
   "metadata": {},
   "source": [
    "**What are touchpoint counts by desktop, mobile, tablet, other?**"
   ]
  },
  {
   "cell_type": "code",
   "execution_count": null,
   "id": "fd4ab385",
   "metadata": {},
   "outputs": [],
   "source": []
  },
  {
   "cell_type": "markdown",
   "id": "b6ba41a8",
   "metadata": {},
   "source": [
    "**What are sequence counts by desktop, mobile, tablet, other?**"
   ]
  },
  {
   "cell_type": "code",
   "execution_count": null,
   "id": "aa079f49",
   "metadata": {},
   "outputs": [],
   "source": []
  },
  {
   "cell_type": "markdown",
   "id": "119c2b07",
   "metadata": {},
   "source": [
    "**What are conversion rates by desktop, mobile, tablet, other?**"
   ]
  },
  {
   "cell_type": "code",
   "execution_count": null,
   "id": "8fe20fb4",
   "metadata": {},
   "outputs": [],
   "source": []
  },
  {
   "cell_type": "markdown",
   "id": "5f39356d",
   "metadata": {},
   "source": [
    "**What are touchpoint counts by browser (Chrome, Safari, etc.)?**"
   ]
  },
  {
   "cell_type": "code",
   "execution_count": null,
   "id": "95ab4155",
   "metadata": {},
   "outputs": [],
   "source": []
  },
  {
   "cell_type": "markdown",
   "id": "6a99fc2e",
   "metadata": {},
   "source": [
    "**What are sequence counts by browser (Chrome, Safari, etc.)?**"
   ]
  },
  {
   "cell_type": "code",
   "execution_count": null,
   "id": "86fb2ac9",
   "metadata": {},
   "outputs": [],
   "source": []
  },
  {
   "cell_type": "markdown",
   "id": "33b50d53",
   "metadata": {},
   "source": [
    "**What are conversion rates by browser (Chrome, Safari, etc.)?**"
   ]
  },
  {
   "cell_type": "code",
   "execution_count": null,
   "id": "c61185e0",
   "metadata": {},
   "outputs": [],
   "source": []
  },
  {
   "cell_type": "markdown",
   "id": "34f0d9a5",
   "metadata": {},
   "source": [
    "**What are touchpoint counts by continent?**"
   ]
  },
  {
   "cell_type": "code",
   "execution_count": null,
   "id": "20fd5165",
   "metadata": {},
   "outputs": [],
   "source": []
  },
  {
   "cell_type": "markdown",
   "id": "b277defd",
   "metadata": {},
   "source": [
    "**What are sequence counts by continent?**"
   ]
  },
  {
   "cell_type": "code",
   "execution_count": null,
   "id": "79b470f1",
   "metadata": {},
   "outputs": [],
   "source": []
  },
  {
   "cell_type": "markdown",
   "id": "3f7f03fb",
   "metadata": {},
   "source": [
    "**What are conversion rates by continent?**"
   ]
  },
  {
   "cell_type": "code",
   "execution_count": null,
   "id": "b5dfdb35",
   "metadata": {},
   "outputs": [],
   "source": []
  },
  {
   "cell_type": "markdown",
   "id": "56205a89",
   "metadata": {},
   "source": [
    "**Please use this section to create and look at any other features you would like.**\n",
    "\n",
    "ideas:\n",
    "- Sequences that start during the morning, afternoon, overnight?\n",
    "- The month of year that sequences that start (1-12 for Jan through Dec)\n",
    "- The day of the week that the sequence started on (Monday-Sunday)\n",
    "- Top Countries\n"
   ]
  },
  {
   "cell_type": "code",
   "execution_count": null,
   "id": "226cf4a2",
   "metadata": {},
   "outputs": [],
   "source": []
  },
  {
   "cell_type": "markdown",
   "id": "d74007ef",
   "metadata": {},
   "source": [
    "**Optional Please use this section to create and look at multivariate bars.**\n",
    "\n",
    "ideas:\n",
    "\n",
    "   - what are the touchpoints by each channel and control variable?\n",
    "   - ... etc."
   ]
  },
  {
   "cell_type": "code",
   "execution_count": null,
   "id": "42fde458",
   "metadata": {},
   "outputs": [],
   "source": []
  },
  {
   "cell_type": "code",
   "execution_count": null,
   "id": "876cbf0f",
   "metadata": {},
   "outputs": [],
   "source": []
  },
  {
   "cell_type": "code",
   "execution_count": null,
   "id": "b954ceea",
   "metadata": {},
   "outputs": [],
   "source": []
  }
 ],
 "metadata": {
  "kernelspec": {
   "display_name": "Python 3 (ipykernel)",
   "language": "python",
   "name": "python3"
  },
  "language_info": {
   "codemirror_mode": {
    "name": "ipython",
    "version": 3
   },
   "file_extension": ".py",
   "mimetype": "text/x-python",
   "name": "python",
   "nbconvert_exporter": "python",
   "pygments_lexer": "ipython3",
   "version": "3.9.13"
  }
 },
 "nbformat": 4,
 "nbformat_minor": 5
}

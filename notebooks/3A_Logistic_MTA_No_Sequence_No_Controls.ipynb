{
 "cells": [
  {
   "cell_type": "code",
   "execution_count": 1,
   "id": "7e415b52",
   "metadata": {},
   "outputs": [],
   "source": [
    "## standard packages\n",
    "import pandas as pd\n",
    "import numpy as np\n",
    "from scipy import special\n",
    "\n",
    "## visualization packages\n",
    "import plotly.express as px\n",
    "import plotly.graph_objects as go\n",
    "\n",
    "## Model packages\n",
    "from sklearn.model_selection import train_test_split, GridSearchCV\n",
    "from sklearn.linear_model import LogisticRegression\n",
    "from sklearn.metrics import roc_auc_score, roc_curve"
   ]
  },
  {
   "cell_type": "markdown",
   "id": "46e2f4bd",
   "metadata": {},
   "source": [
    "# Motivational Example A - Logistic MTA with No Sequence\n",
    "\n",
    "This notebook will build a basic logistic model on MTA data with no sequence. \n",
    "\n",
    "It will model on frequency of touchpoints in a journey. \n",
    "\n",
    "It will arbitrarily enforce a non data driven 45 day window (perhaps provided by our marketing SME). You are encouraged to also look into data driven ways to define the proper window or model directly on touchpoint proximity."
   ]
  },
  {
   "cell_type": "code",
   "execution_count": 2,
   "id": "5f5acdbf",
   "metadata": {},
   "outputs": [
    {
     "data": {
      "text/html": [
       "<div>\n",
       "<style scoped>\n",
       "    .dataframe tbody tr th:only-of-type {\n",
       "        vertical-align: middle;\n",
       "    }\n",
       "\n",
       "    .dataframe tbody tr th {\n",
       "        vertical-align: top;\n",
       "    }\n",
       "\n",
       "    .dataframe thead th {\n",
       "        text-align: right;\n",
       "    }\n",
       "</style>\n",
       "<table border=\"1\" class=\"dataframe\">\n",
       "  <thead>\n",
       "    <tr style=\"text-align: right;\">\n",
       "      <th></th>\n",
       "      <th>sequence_id</th>\n",
       "      <th>fullVisitorId</th>\n",
       "      <th>event_name</th>\n",
       "      <th>event_datetime</th>\n",
       "      <th>conversion_proximity</th>\n",
       "    </tr>\n",
       "  </thead>\n",
       "  <tbody>\n",
       "    <tr>\n",
       "      <th>0</th>\n",
       "      <td>0099Rqojoj1MCXN</td>\n",
       "      <td>7343617347507729080</td>\n",
       "      <td>organic_search</td>\n",
       "      <td>2018-04-15 17:31:50</td>\n",
       "      <td>75.0</td>\n",
       "    </tr>\n",
       "    <tr>\n",
       "      <th>1</th>\n",
       "      <td>0099Rqojoj1MCXN</td>\n",
       "      <td>7343617347507729080</td>\n",
       "      <td>dead_end</td>\n",
       "      <td>2018-04-15 17:33:05</td>\n",
       "      <td>0.0</td>\n",
       "    </tr>\n",
       "    <tr>\n",
       "      <th>2</th>\n",
       "      <td>00A9Lkka73okUx2</td>\n",
       "      <td>89656057821147903</td>\n",
       "      <td>organic_search</td>\n",
       "      <td>2017-09-14 16:36:56</td>\n",
       "      <td>1033.0</td>\n",
       "    </tr>\n",
       "    <tr>\n",
       "      <th>3</th>\n",
       "      <td>00A9Lkka73okUx2</td>\n",
       "      <td>89656057821147903</td>\n",
       "      <td>dead_end</td>\n",
       "      <td>2017-09-14 16:54:09</td>\n",
       "      <td>0.0</td>\n",
       "    </tr>\n",
       "    <tr>\n",
       "      <th>4</th>\n",
       "      <td>00B30tmbMwJn7Cf</td>\n",
       "      <td>4307745811624101170</td>\n",
       "      <td>organic_search</td>\n",
       "      <td>2017-04-21 02:41:23</td>\n",
       "      <td>1.0</td>\n",
       "    </tr>\n",
       "    <tr>\n",
       "      <th>5</th>\n",
       "      <td>00B30tmbMwJn7Cf</td>\n",
       "      <td>4307745811624101170</td>\n",
       "      <td>dead_end</td>\n",
       "      <td>2017-04-21 02:41:24</td>\n",
       "      <td>0.0</td>\n",
       "    </tr>\n",
       "    <tr>\n",
       "      <th>6</th>\n",
       "      <td>00BKxKnEYlKbw9b</td>\n",
       "      <td>7129167701457127936</td>\n",
       "      <td>organic_search</td>\n",
       "      <td>2016-10-02 15:16:09</td>\n",
       "      <td>1.0</td>\n",
       "    </tr>\n",
       "    <tr>\n",
       "      <th>7</th>\n",
       "      <td>00BKxKnEYlKbw9b</td>\n",
       "      <td>7129167701457127936</td>\n",
       "      <td>dead_end</td>\n",
       "      <td>2016-10-02 15:16:10</td>\n",
       "      <td>0.0</td>\n",
       "    </tr>\n",
       "    <tr>\n",
       "      <th>8</th>\n",
       "      <td>00EttOfsTTyp45B</td>\n",
       "      <td>3217678225016118393</td>\n",
       "      <td>referral</td>\n",
       "      <td>2017-10-23 19:44:20</td>\n",
       "      <td>143.0</td>\n",
       "    </tr>\n",
       "    <tr>\n",
       "      <th>9</th>\n",
       "      <td>00EttOfsTTyp45B</td>\n",
       "      <td>3217678225016118393</td>\n",
       "      <td>dead_end</td>\n",
       "      <td>2017-10-23 19:46:43</td>\n",
       "      <td>0.0</td>\n",
       "    </tr>\n",
       "  </tbody>\n",
       "</table>\n",
       "</div>"
      ],
      "text/plain": [
       "       sequence_id        fullVisitorId      event_name       event_datetime  \\\n",
       "0  0099Rqojoj1MCXN  7343617347507729080  organic_search  2018-04-15 17:31:50   \n",
       "1  0099Rqojoj1MCXN  7343617347507729080        dead_end  2018-04-15 17:33:05   \n",
       "2  00A9Lkka73okUx2    89656057821147903  organic_search  2017-09-14 16:36:56   \n",
       "3  00A9Lkka73okUx2    89656057821147903        dead_end  2017-09-14 16:54:09   \n",
       "4  00B30tmbMwJn7Cf  4307745811624101170  organic_search  2017-04-21 02:41:23   \n",
       "5  00B30tmbMwJn7Cf  4307745811624101170        dead_end  2017-04-21 02:41:24   \n",
       "6  00BKxKnEYlKbw9b  7129167701457127936  organic_search  2016-10-02 15:16:09   \n",
       "7  00BKxKnEYlKbw9b  7129167701457127936        dead_end  2016-10-02 15:16:10   \n",
       "8  00EttOfsTTyp45B  3217678225016118393        referral  2017-10-23 19:44:20   \n",
       "9  00EttOfsTTyp45B  3217678225016118393        dead_end  2017-10-23 19:46:43   \n",
       "\n",
       "   conversion_proximity  \n",
       "0                  75.0  \n",
       "1                   0.0  \n",
       "2                1033.0  \n",
       "3                   0.0  \n",
       "4                   1.0  \n",
       "5                   0.0  \n",
       "6                   1.0  \n",
       "7                   0.0  \n",
       "8                 143.0  \n",
       "9                   0.0  "
      ]
     },
     "execution_count": 2,
     "metadata": {},
     "output_type": "execute_result"
    }
   ],
   "source": [
    "sequence_df = pd.read_csv('../datasets/sequence_fact.csv')\n",
    "sequence_df.head(10)"
   ]
  },
  {
   "cell_type": "code",
   "execution_count": 3,
   "id": "5d0ac3ac",
   "metadata": {},
   "outputs": [],
   "source": [
    "sequence_to_visitor_map = sequence_df[['sequence_id','fullVisitorId']].drop_duplicates().reset_index(drop=True)"
   ]
  },
  {
   "cell_type": "markdown",
   "id": "244ef5d8",
   "metadata": {},
   "source": [
    "## Make a modeling dataset\n",
    "\n",
    "We want to filter out rows where conversion proximity >= 45 days (45 days *  86400 seconds per day\n",
    " = 3,888,000 seconds).\n",
    "\n",
    "We want 1 row to represent the sequence id.\n",
    "\n",
    "For fun, lets build a string column that shows the events in order\n",
    "\n",
    "Next there is a conversion column 1 = yes conversion 0 equals dead end journey\n",
    "\n",
    "Finally, since this a non sequence table we would need to make a column based on each channel if it is present in the 45 day journey. "
   ]
  },
  {
   "cell_type": "code",
   "execution_count": 5,
   "id": "64e79b33",
   "metadata": {},
   "outputs": [],
   "source": [
    "## filter conversion_proximity \n",
    "model_prep_df1 = sequence_df.loc[(sequence_df['conversion_proximity']/86400)<=45,:]"
   ]
  },
  {
   "cell_type": "code",
   "execution_count": 6,
   "id": "c7fe7380",
   "metadata": {},
   "outputs": [
    {
     "data": {
      "text/html": [
       "<div>\n",
       "<style scoped>\n",
       "    .dataframe tbody tr th:only-of-type {\n",
       "        vertical-align: middle;\n",
       "    }\n",
       "\n",
       "    .dataframe tbody tr th {\n",
       "        vertical-align: top;\n",
       "    }\n",
       "\n",
       "    .dataframe thead th {\n",
       "        text-align: right;\n",
       "    }\n",
       "</style>\n",
       "<table border=\"1\" class=\"dataframe\">\n",
       "  <thead>\n",
       "    <tr style=\"text-align: right;\">\n",
       "      <th></th>\n",
       "      <th>sequence_id</th>\n",
       "      <th>sequence_details</th>\n",
       "    </tr>\n",
       "  </thead>\n",
       "  <tbody>\n",
       "    <tr>\n",
       "      <th>0</th>\n",
       "      <td>0099Rqojoj1MCXN</td>\n",
       "      <td>organic_search&gt;dead_end</td>\n",
       "    </tr>\n",
       "    <tr>\n",
       "      <th>1</th>\n",
       "      <td>00A9Lkka73okUx2</td>\n",
       "      <td>organic_search&gt;dead_end</td>\n",
       "    </tr>\n",
       "    <tr>\n",
       "      <th>2</th>\n",
       "      <td>00B30tmbMwJn7Cf</td>\n",
       "      <td>organic_search&gt;dead_end</td>\n",
       "    </tr>\n",
       "    <tr>\n",
       "      <th>3</th>\n",
       "      <td>00BKxKnEYlKbw9b</td>\n",
       "      <td>organic_search&gt;dead_end</td>\n",
       "    </tr>\n",
       "    <tr>\n",
       "      <th>4</th>\n",
       "      <td>00EttOfsTTyp45B</td>\n",
       "      <td>referral&gt;dead_end</td>\n",
       "    </tr>\n",
       "  </tbody>\n",
       "</table>\n",
       "</div>"
      ],
      "text/plain": [
       "       sequence_id         sequence_details\n",
       "0  0099Rqojoj1MCXN  organic_search>dead_end\n",
       "1  00A9Lkka73okUx2  organic_search>dead_end\n",
       "2  00B30tmbMwJn7Cf  organic_search>dead_end\n",
       "3  00BKxKnEYlKbw9b  organic_search>dead_end\n",
       "4  00EttOfsTTyp45B        referral>dead_end"
      ]
     },
     "execution_count": 6,
     "metadata": {},
     "output_type": "execute_result"
    }
   ],
   "source": [
    "## make the sequence details\n",
    "model_prep_df2 = model_prep_df1.groupby('sequence_id')['event_name'].agg(lambda x: '>'.join(x)).reset_index()\n",
    "model_prep_df2.columns = ['sequence_id','sequence_details']\n",
    "model_prep_df2.head()"
   ]
  },
  {
   "cell_type": "code",
   "execution_count": 7,
   "id": "e3d10c02",
   "metadata": {},
   "outputs": [
    {
     "data": {
      "text/html": [
       "<div>\n",
       "<style scoped>\n",
       "    .dataframe tbody tr th:only-of-type {\n",
       "        vertical-align: middle;\n",
       "    }\n",
       "\n",
       "    .dataframe tbody tr th {\n",
       "        vertical-align: top;\n",
       "    }\n",
       "\n",
       "    .dataframe thead th {\n",
       "        text-align: right;\n",
       "    }\n",
       "</style>\n",
       "<table border=\"1\" class=\"dataframe\">\n",
       "  <thead>\n",
       "    <tr style=\"text-align: right;\">\n",
       "      <th></th>\n",
       "      <th>sequence_id</th>\n",
       "      <th>(other)</th>\n",
       "      <th>affiliates</th>\n",
       "      <th>conversion</th>\n",
       "      <th>dead_end</th>\n",
       "      <th>direct</th>\n",
       "      <th>display</th>\n",
       "      <th>organic_search</th>\n",
       "      <th>paid_search</th>\n",
       "      <th>referral</th>\n",
       "      <th>social</th>\n",
       "    </tr>\n",
       "  </thead>\n",
       "  <tbody>\n",
       "    <tr>\n",
       "      <th>0</th>\n",
       "      <td>0099Rqojoj1MCXN</td>\n",
       "      <td>0</td>\n",
       "      <td>0</td>\n",
       "      <td>0</td>\n",
       "      <td>1</td>\n",
       "      <td>0</td>\n",
       "      <td>0</td>\n",
       "      <td>1</td>\n",
       "      <td>0</td>\n",
       "      <td>0</td>\n",
       "      <td>0</td>\n",
       "    </tr>\n",
       "    <tr>\n",
       "      <th>1</th>\n",
       "      <td>00A9Lkka73okUx2</td>\n",
       "      <td>0</td>\n",
       "      <td>0</td>\n",
       "      <td>0</td>\n",
       "      <td>1</td>\n",
       "      <td>0</td>\n",
       "      <td>0</td>\n",
       "      <td>1</td>\n",
       "      <td>0</td>\n",
       "      <td>0</td>\n",
       "      <td>0</td>\n",
       "    </tr>\n",
       "    <tr>\n",
       "      <th>2</th>\n",
       "      <td>00B30tmbMwJn7Cf</td>\n",
       "      <td>0</td>\n",
       "      <td>0</td>\n",
       "      <td>0</td>\n",
       "      <td>1</td>\n",
       "      <td>0</td>\n",
       "      <td>0</td>\n",
       "      <td>1</td>\n",
       "      <td>0</td>\n",
       "      <td>0</td>\n",
       "      <td>0</td>\n",
       "    </tr>\n",
       "    <tr>\n",
       "      <th>3</th>\n",
       "      <td>00BKxKnEYlKbw9b</td>\n",
       "      <td>0</td>\n",
       "      <td>0</td>\n",
       "      <td>0</td>\n",
       "      <td>1</td>\n",
       "      <td>0</td>\n",
       "      <td>0</td>\n",
       "      <td>1</td>\n",
       "      <td>0</td>\n",
       "      <td>0</td>\n",
       "      <td>0</td>\n",
       "    </tr>\n",
       "    <tr>\n",
       "      <th>4</th>\n",
       "      <td>00EttOfsTTyp45B</td>\n",
       "      <td>0</td>\n",
       "      <td>0</td>\n",
       "      <td>0</td>\n",
       "      <td>1</td>\n",
       "      <td>0</td>\n",
       "      <td>0</td>\n",
       "      <td>0</td>\n",
       "      <td>0</td>\n",
       "      <td>1</td>\n",
       "      <td>0</td>\n",
       "    </tr>\n",
       "  </tbody>\n",
       "</table>\n",
       "</div>"
      ],
      "text/plain": [
       "       sequence_id  (other)  affiliates  conversion  dead_end  direct  \\\n",
       "0  0099Rqojoj1MCXN        0           0           0         1       0   \n",
       "1  00A9Lkka73okUx2        0           0           0         1       0   \n",
       "2  00B30tmbMwJn7Cf        0           0           0         1       0   \n",
       "3  00BKxKnEYlKbw9b        0           0           0         1       0   \n",
       "4  00EttOfsTTyp45B        0           0           0         1       0   \n",
       "\n",
       "   display  organic_search  paid_search  referral  social  \n",
       "0        0               1            0         0       0  \n",
       "1        0               1            0         0       0  \n",
       "2        0               1            0         0       0  \n",
       "3        0               1            0         0       0  \n",
       "4        0               0            0         1       0  "
      ]
     },
     "execution_count": 7,
     "metadata": {},
     "output_type": "execute_result"
    }
   ],
   "source": [
    "## make the modeling features\n",
    "model_prep_df3 = model_prep_df1.pivot_table(index='sequence_id', columns='event_name', aggfunc='size', fill_value=0).reset_index()\n",
    "model_prep_df3 = model_prep_df3.rename_axis(None, axis=1)\n",
    "model_prep_df3.head()"
   ]
  },
  {
   "cell_type": "code",
   "execution_count": 8,
   "id": "f8bfe681",
   "metadata": {},
   "outputs": [
    {
     "data": {
      "text/html": [
       "<div>\n",
       "<style scoped>\n",
       "    .dataframe tbody tr th:only-of-type {\n",
       "        vertical-align: middle;\n",
       "    }\n",
       "\n",
       "    .dataframe tbody tr th {\n",
       "        vertical-align: top;\n",
       "    }\n",
       "\n",
       "    .dataframe thead th {\n",
       "        text-align: right;\n",
       "    }\n",
       "</style>\n",
       "<table border=\"1\" class=\"dataframe\">\n",
       "  <thead>\n",
       "    <tr style=\"text-align: right;\">\n",
       "      <th></th>\n",
       "      <th>fullVisitorId</th>\n",
       "      <th>sequence_id</th>\n",
       "      <th>sequence_details</th>\n",
       "      <th>affiliates</th>\n",
       "      <th>direct</th>\n",
       "      <th>display</th>\n",
       "      <th>organic_search</th>\n",
       "      <th>paid_search</th>\n",
       "      <th>referral</th>\n",
       "      <th>social</th>\n",
       "      <th>(other)</th>\n",
       "      <th>conversion</th>\n",
       "    </tr>\n",
       "  </thead>\n",
       "  <tbody>\n",
       "    <tr>\n",
       "      <th>0</th>\n",
       "      <td>7343617347507729080</td>\n",
       "      <td>0099Rqojoj1MCXN</td>\n",
       "      <td>organic_search&gt;dead_end</td>\n",
       "      <td>0</td>\n",
       "      <td>0</td>\n",
       "      <td>0</td>\n",
       "      <td>1</td>\n",
       "      <td>0</td>\n",
       "      <td>0</td>\n",
       "      <td>0</td>\n",
       "      <td>0</td>\n",
       "      <td>0</td>\n",
       "    </tr>\n",
       "    <tr>\n",
       "      <th>1</th>\n",
       "      <td>89656057821147903</td>\n",
       "      <td>00A9Lkka73okUx2</td>\n",
       "      <td>organic_search&gt;dead_end</td>\n",
       "      <td>0</td>\n",
       "      <td>0</td>\n",
       "      <td>0</td>\n",
       "      <td>1</td>\n",
       "      <td>0</td>\n",
       "      <td>0</td>\n",
       "      <td>0</td>\n",
       "      <td>0</td>\n",
       "      <td>0</td>\n",
       "    </tr>\n",
       "    <tr>\n",
       "      <th>2</th>\n",
       "      <td>4307745811624101170</td>\n",
       "      <td>00B30tmbMwJn7Cf</td>\n",
       "      <td>organic_search&gt;dead_end</td>\n",
       "      <td>0</td>\n",
       "      <td>0</td>\n",
       "      <td>0</td>\n",
       "      <td>1</td>\n",
       "      <td>0</td>\n",
       "      <td>0</td>\n",
       "      <td>0</td>\n",
       "      <td>0</td>\n",
       "      <td>0</td>\n",
       "    </tr>\n",
       "    <tr>\n",
       "      <th>3</th>\n",
       "      <td>7129167701457127936</td>\n",
       "      <td>00BKxKnEYlKbw9b</td>\n",
       "      <td>organic_search&gt;dead_end</td>\n",
       "      <td>0</td>\n",
       "      <td>0</td>\n",
       "      <td>0</td>\n",
       "      <td>1</td>\n",
       "      <td>0</td>\n",
       "      <td>0</td>\n",
       "      <td>0</td>\n",
       "      <td>0</td>\n",
       "      <td>0</td>\n",
       "    </tr>\n",
       "    <tr>\n",
       "      <th>4</th>\n",
       "      <td>3217678225016118393</td>\n",
       "      <td>00EttOfsTTyp45B</td>\n",
       "      <td>referral&gt;dead_end</td>\n",
       "      <td>0</td>\n",
       "      <td>0</td>\n",
       "      <td>0</td>\n",
       "      <td>0</td>\n",
       "      <td>0</td>\n",
       "      <td>1</td>\n",
       "      <td>0</td>\n",
       "      <td>0</td>\n",
       "      <td>0</td>\n",
       "    </tr>\n",
       "  </tbody>\n",
       "</table>\n",
       "</div>"
      ],
      "text/plain": [
       "         fullVisitorId      sequence_id         sequence_details  affiliates  \\\n",
       "0  7343617347507729080  0099Rqojoj1MCXN  organic_search>dead_end           0   \n",
       "1    89656057821147903  00A9Lkka73okUx2  organic_search>dead_end           0   \n",
       "2  4307745811624101170  00B30tmbMwJn7Cf  organic_search>dead_end           0   \n",
       "3  7129167701457127936  00BKxKnEYlKbw9b  organic_search>dead_end           0   \n",
       "4  3217678225016118393  00EttOfsTTyp45B        referral>dead_end           0   \n",
       "\n",
       "   direct  display  organic_search  paid_search  referral  social  (other)  \\\n",
       "0       0        0               1            0         0       0        0   \n",
       "1       0        0               1            0         0       0        0   \n",
       "2       0        0               1            0         0       0        0   \n",
       "3       0        0               1            0         0       0        0   \n",
       "4       0        0               0            0         1       0        0   \n",
       "\n",
       "   conversion  \n",
       "0           0  \n",
       "1           0  \n",
       "2           0  \n",
       "3           0  \n",
       "4           0  "
      ]
     },
     "execution_count": 8,
     "metadata": {},
     "output_type": "execute_result"
    }
   ],
   "source": [
    "## Final joining and prep\n",
    "model_prep_df4 = model_prep_df2.merge(model_prep_df3, on='sequence_id',how='left')\n",
    "\n",
    "## Add visitor id back in\n",
    "model_prep_df4 = model_prep_df4.merge(sequence_to_visitor_map, on='sequence_id',how='left')\n",
    "\n",
    "\n",
    "## drop dead_end and move Y to last spot\n",
    "model_data_final =  model_prep_df4[['fullVisitorId','sequence_id','sequence_details','affiliates'\n",
    "                                 ,'direct','display','organic_search'\n",
    "                                 ,'paid_search','referral','social'\n",
    "                                 ,'(other)','conversion']]\n",
    "model_data_final.head()"
   ]
  },
  {
   "cell_type": "code",
   "execution_count": 9,
   "id": "f5465a79",
   "metadata": {},
   "outputs": [
    {
     "name": "stdout",
     "output_type": "stream",
     "text": [
      "<class 'pandas.core.frame.DataFrame'>\n",
      "Int64Index: 99718 entries, 0 to 99717\n",
      "Data columns (total 12 columns):\n",
      " #   Column            Non-Null Count  Dtype \n",
      "---  ------            --------------  ----- \n",
      " 0   fullVisitorId     99718 non-null  object\n",
      " 1   sequence_id       99718 non-null  object\n",
      " 2   sequence_details  99718 non-null  object\n",
      " 3   affiliates        99718 non-null  int64 \n",
      " 4   direct            99718 non-null  int64 \n",
      " 5   display           99718 non-null  int64 \n",
      " 6   organic_search    99718 non-null  int64 \n",
      " 7   paid_search       99718 non-null  int64 \n",
      " 8   referral          99718 non-null  int64 \n",
      " 9   social            99718 non-null  int64 \n",
      " 10  (other)           99718 non-null  int64 \n",
      " 11  conversion        99718 non-null  int64 \n",
      "dtypes: int64(9), object(3)\n",
      "memory usage: 9.9+ MB\n"
     ]
    }
   ],
   "source": [
    "model_data_final.info()"
   ]
  },
  {
   "cell_type": "markdown",
   "id": "7fc649a1",
   "metadata": {},
   "source": [
    "We will split the data into 60 20 20 train validate test \n",
    "\n",
    "- train is used to fit models. Validate is used while making model selection feature selection decisions. Test is a true holdout for final reporting to stakeholders."
   ]
  },
  {
   "cell_type": "code",
   "execution_count": 10,
   "id": "fd31cb04",
   "metadata": {},
   "outputs": [],
   "source": [
    "# Split the data into train, validation, and test sets\n",
    "temp_data, test_data = train_test_split(model_prep_df4, test_size=0.2, random_state=42)\n",
    "train_data, val_data = train_test_split(temp_data, test_size=0.25, random_state=42)"
   ]
  },
  {
   "cell_type": "code",
   "execution_count": 11,
   "id": "19297488",
   "metadata": {},
   "outputs": [],
   "source": [
    "ind_vars = ['affiliates','direct','display','organic_search','paid_search','referral','social','(other)']\n",
    "dep_var = 'conversion'\n",
    "\n",
    "# Separate the features and target variable\n",
    "X_train = train_data[ind_vars]\n",
    "y_train = train_data[dep_var]\n",
    "X_val = val_data[ind_vars]\n",
    "y_val = val_data[dep_var]\n",
    "X_test = test_data[ind_vars]\n",
    "y_test = test_data[dep_var]"
   ]
  },
  {
   "cell_type": "code",
   "execution_count": 12,
   "id": "220ff5b3",
   "metadata": {},
   "outputs": [
    {
     "data": {
      "text/html": [
       "<style>#sk-container-id-1 {color: black;background-color: white;}#sk-container-id-1 pre{padding: 0;}#sk-container-id-1 div.sk-toggleable {background-color: white;}#sk-container-id-1 label.sk-toggleable__label {cursor: pointer;display: block;width: 100%;margin-bottom: 0;padding: 0.3em;box-sizing: border-box;text-align: center;}#sk-container-id-1 label.sk-toggleable__label-arrow:before {content: \"▸\";float: left;margin-right: 0.25em;color: #696969;}#sk-container-id-1 label.sk-toggleable__label-arrow:hover:before {color: black;}#sk-container-id-1 div.sk-estimator:hover label.sk-toggleable__label-arrow:before {color: black;}#sk-container-id-1 div.sk-toggleable__content {max-height: 0;max-width: 0;overflow: hidden;text-align: left;background-color: #f0f8ff;}#sk-container-id-1 div.sk-toggleable__content pre {margin: 0.2em;color: black;border-radius: 0.25em;background-color: #f0f8ff;}#sk-container-id-1 input.sk-toggleable__control:checked~div.sk-toggleable__content {max-height: 200px;max-width: 100%;overflow: auto;}#sk-container-id-1 input.sk-toggleable__control:checked~label.sk-toggleable__label-arrow:before {content: \"▾\";}#sk-container-id-1 div.sk-estimator input.sk-toggleable__control:checked~label.sk-toggleable__label {background-color: #d4ebff;}#sk-container-id-1 div.sk-label input.sk-toggleable__control:checked~label.sk-toggleable__label {background-color: #d4ebff;}#sk-container-id-1 input.sk-hidden--visually {border: 0;clip: rect(1px 1px 1px 1px);clip: rect(1px, 1px, 1px, 1px);height: 1px;margin: -1px;overflow: hidden;padding: 0;position: absolute;width: 1px;}#sk-container-id-1 div.sk-estimator {font-family: monospace;background-color: #f0f8ff;border: 1px dotted black;border-radius: 0.25em;box-sizing: border-box;margin-bottom: 0.5em;}#sk-container-id-1 div.sk-estimator:hover {background-color: #d4ebff;}#sk-container-id-1 div.sk-parallel-item::after {content: \"\";width: 100%;border-bottom: 1px solid gray;flex-grow: 1;}#sk-container-id-1 div.sk-label:hover label.sk-toggleable__label {background-color: #d4ebff;}#sk-container-id-1 div.sk-serial::before {content: \"\";position: absolute;border-left: 1px solid gray;box-sizing: border-box;top: 0;bottom: 0;left: 50%;z-index: 0;}#sk-container-id-1 div.sk-serial {display: flex;flex-direction: column;align-items: center;background-color: white;padding-right: 0.2em;padding-left: 0.2em;position: relative;}#sk-container-id-1 div.sk-item {position: relative;z-index: 1;}#sk-container-id-1 div.sk-parallel {display: flex;align-items: stretch;justify-content: center;background-color: white;position: relative;}#sk-container-id-1 div.sk-item::before, #sk-container-id-1 div.sk-parallel-item::before {content: \"\";position: absolute;border-left: 1px solid gray;box-sizing: border-box;top: 0;bottom: 0;left: 50%;z-index: -1;}#sk-container-id-1 div.sk-parallel-item {display: flex;flex-direction: column;z-index: 1;position: relative;background-color: white;}#sk-container-id-1 div.sk-parallel-item:first-child::after {align-self: flex-end;width: 50%;}#sk-container-id-1 div.sk-parallel-item:last-child::after {align-self: flex-start;width: 50%;}#sk-container-id-1 div.sk-parallel-item:only-child::after {width: 0;}#sk-container-id-1 div.sk-dashed-wrapped {border: 1px dashed gray;margin: 0 0.4em 0.5em 0.4em;box-sizing: border-box;padding-bottom: 0.4em;background-color: white;}#sk-container-id-1 div.sk-label label {font-family: monospace;font-weight: bold;display: inline-block;line-height: 1.2em;}#sk-container-id-1 div.sk-label-container {text-align: center;}#sk-container-id-1 div.sk-container {/* jupyter's `normalize.less` sets `[hidden] { display: none; }` but bootstrap.min.css set `[hidden] { display: none !important; }` so we also need the `!important` here to be able to override the default hidden behavior on the sphinx rendered scikit-learn.org. See: https://github.com/scikit-learn/scikit-learn/issues/21755 */display: inline-block !important;position: relative;}#sk-container-id-1 div.sk-text-repr-fallback {display: none;}</style><div id=\"sk-container-id-1\" class=\"sk-top-container\"><div class=\"sk-text-repr-fallback\"><pre>LogisticRegression(C=100)</pre><b>In a Jupyter environment, please rerun this cell to show the HTML representation or trust the notebook. <br />On GitHub, the HTML representation is unable to render, please try loading this page with nbviewer.org.</b></div><div class=\"sk-container\" hidden><div class=\"sk-item\"><div class=\"sk-estimator sk-toggleable\"><input class=\"sk-toggleable__control sk-hidden--visually\" id=\"sk-estimator-id-1\" type=\"checkbox\" checked><label for=\"sk-estimator-id-1\" class=\"sk-toggleable__label sk-toggleable__label-arrow\">LogisticRegression</label><div class=\"sk-toggleable__content\"><pre>LogisticRegression(C=100)</pre></div></div></div></div></div>"
      ],
      "text/plain": [
       "LogisticRegression(C=100)"
      ]
     },
     "execution_count": 12,
     "metadata": {},
     "output_type": "execute_result"
    }
   ],
   "source": [
    "# Define the parameter grid for grid search\n",
    "param_grid = {\n",
    "    'C': [0.1, 1, 10, 100]\n",
    "}\n",
    "\n",
    "lr_model = LogisticRegression()\n",
    "\n",
    "grid_search = GridSearchCV(lr_model, param_grid, cv=5, scoring='neg_log_loss')\n",
    "grid_search.fit(X_train, y_train)\n",
    "\n",
    "lr_model = LogisticRegression(**grid_search.best_params_)\n",
    "lr_model.fit(X_train, y_train)"
   ]
  },
  {
   "cell_type": "code",
   "execution_count": 14,
   "id": "1321f2b2",
   "metadata": {},
   "outputs": [
    {
     "name": "stdout",
     "output_type": "stream",
     "text": [
      "Train AUC: 0.8036488658056495\n",
      "Test AUC: 0.8066017391060295\n"
     ]
    }
   ],
   "source": [
    "train_pred = lr_model.predict_proba(X_train)[:, 1]\n",
    "val_pred = lr_model.predict_proba(X_val)[:, 1]\n",
    "\n",
    "train_auc = roc_auc_score(y_train, train_pred)\n",
    "test_auc = roc_auc_score(y_val, val_pred)\n",
    "\n",
    "print(\"Train AUC:\", train_auc)\n",
    "print(\"Test AUC:\", test_auc)"
   ]
  },
  {
   "cell_type": "code",
   "execution_count": 15,
   "id": "df490844",
   "metadata": {},
   "outputs": [
    {
     "data": {
      "application/vnd.plotly.v1+json": {
       "config": {
        "plotlyServerURL": "https://plot.ly"
       },
       "data": [
        {
         "mode": "lines",
         "name": "Train AUC= 0.80",
         "type": "scatter",
         "x": [
          0,
          0.00001694742907500932,
          0.00005084228722502796,
          0.00006778971630003728,
          0.00010168457445005592,
          0.00013557943260007456,
          0.00016947429075009322,
          0.0002372640070501305,
          0.0003050537233501678,
          0.0003220011524251771,
          0.0003220011524251771,
          0.00035589601057519574,
          0.0005931600176253262,
          0.0005931600176253262,
          0.0006101074467003356,
          0.0006440023048503542,
          0.0006440023048503542,
          0.0006609497339253635,
          0.0009829508863505407,
          0.0010168457445005592,
          0.001050740602650578,
          0.001050740602650578,
          0.0011524251771006337,
          0.0011524251771006337,
          0.0021353760634511745,
          0.0021353760634511745,
          0.002169270921601193,
          0.0021862183506762022,
          0.0022540080669762397,
          0.0022879029251262582,
          0.002372640070501305,
          0.0023895874995763142,
          0.002474324644951361,
          0.002474324644951361,
          0.002576009219401417,
          0.002592956648476426,
          0.002592956648476426,
          0.005355387587702946,
          0.005406229874927973,
          0.005457072162153001,
          0.00549096702030302,
          0.0055248618784530384,
          0.005677388740128122,
          0.005694336169203132,
          0.00572823102735315,
          0.005762125885503169,
          0.0057960207436531875,
          0.005880757889028234,
          0.005914652747178253,
          0.005965495034403281,
          0.006067179608853337,
          0.006101074467003356,
          0.006558655052028607,
          0.006575602481103617,
          0.006643392197403654,
          0.006965393349828831,
          0.00699928820797885,
          0.017777853099684778,
          0.017794800528759785,
          0.017845642815984816,
          0.01825238111378504,
          0.018269328542860046,
          0.018337118259160085,
          0.018371013117310105,
          0.018387960546385113,
          0.018421855404535132,
          0.01848964512083517,
          0.018557434837135206,
          0.018574382266210217,
          0.018659119411585264,
          0.01869301426973528,
          0.018862488560485374,
          0.018896383418635393,
          0.01901501542216046,
          0.019082805138460494,
          0.019184489712910553,
          0.01920143714198556,
          0.01952343829441074,
          0.019540385723485747,
          0.019574280581635767,
          0.019608175439785786,
          0.01970986001423584,
          0.02020133545741111,
          0.02021828288648612,
          0.02045554689353625,
          0.02052333660983629,
          0.022268921804562247,
          0.02228586923363726,
          0.02250618581161238,
          0.022573975527912415,
          0.022624817815137442,
          0.02269260753143748,
          0.02269260753143748,
          0.025658407619564113,
          0.02567535504863912,
          0.02567535504863912,
          0.02598040877198929,
          0.02598040877198929,
          0.02765820425041521,
          0.02772599396671525,
          0.027793783683015286,
          0.027827678541165305,
          0.027844625970240313,
          0.02820052198081551,
          0.1056502728536081,
          0.10576890485713317,
          0.1065484865945836,
          0.10658238145273362,
          0.10676880317255873,
          0.10680269803070874,
          0.10697217232145884,
          0.10929397010473511,
          0.10934481239196014,
          0.10953123411178524,
          0.10956512896993525,
          0.11156492560078636,
          0.11158187302986138,
          0.11161576788801139,
          0.11205640104396163,
          0.11212419076026167,
          0.12893604040267093,
          0.12898688268989594,
          0.13488458800799918,
          0.1360370131850998,
          0.13615564518862489,
          0.13640985662475003,
          0.13642680405382504,
          0.1365284886282751,
          0.13666406806087517,
          0.13957902586177676,
          0.1678473375588923,
          0.16786428498796732,
          0.16789817984611735,
          0.16974544961529336,
          0.16984713418974343,
          0.18165949225502492,
          0.18169338711317493,
          0.5789241772023184,
          0.7101650679591905,
          0.7101820153882656,
          0.7107243331186659,
          0.710859912551266,
          0.710961597125716,
          0.710978544554791,
          0.711012439412941,
          0.7110802291292411,
          0.7321119886113276,
          0.7350608412703793,
          0.7358065281496797,
          0.7360946344439548,
          0.7362132664474799,
          0.7362810561637799,
          0.736331898451005,
          0.73634884588008,
          0.73638274073823,
          0.73641663559638,
          0.7364844253126801,
          0.7365352675999051,
          0.7365691624580551,
          0.7365861098871301,
          0.7369589533267803,
          0.7370097956140054,
          0.7370606379012303,
          0.7371453750466054,
          0.7371792699047555,
          0.7372301121919804,
          0.7372640070501305,
          0.738196115649256,
          0.7386367488052062,
          0.9711385282852592,
          0.9711724231434091,
          0.9712063180015592,
          0.9712402128597092,
          0.9712910551469343,
          0.9713418974341592,
          0.9713927397213843,
          0.9714096871504593,
          0.978290343354913,
          0.978324238213063,
          0.9783581330712131,
          0.9783920279293631,
          0.9784767650747381,
          0.9784937125038131,
          0.9797986645425889,
          0.9798156119716639,
          0.9802223502694641,
          0.9802562451276141,
          0.9803748771311392,
          0.9803918245602142,
          0.9808494051452394,
          0.9810527742941396,
          0.9971528319153984,
          0.9971697793444735,
          0.9973562010642986,
          0.9973900959224485,
          0.9974070433515235,
          0.9974917804968986,
          0.9975087279259737,
          0.9975595702131986,
          0.9975765176422736,
          0.9976104125004237,
          0.9976273599294987,
          0.9977120970748737,
          0.9978137816493238,
          0.9978646239365488,
          0.9994068399823747,
          0.9994915771277497,
          0.9997457885638749,
          0.9998135782801749,
          0.9998644205673999,
          0.9999322102836999,
          1
         ],
         "y": [
          0,
          0,
          0,
          0,
          0,
          0.0012135922330097086,
          0.0048543689320388345,
          0.0048543689320388345,
          0.00849514563106796,
          0.00849514563106796,
          0.009708737864077669,
          0.009708737864077669,
          0.013349514563106795,
          0.014563106796116505,
          0.014563106796116505,
          0.014563106796116505,
          0.015776699029126214,
          0.015776699029126214,
          0.032766990291262135,
          0.032766990291262135,
          0.032766990291262135,
          0.03398058252427184,
          0.03398058252427184,
          0.03519417475728155,
          0.05339805825242718,
          0.05461165048543689,
          0.05461165048543689,
          0.05703883495145631,
          0.05703883495145631,
          0.05703883495145631,
          0.05703883495145631,
          0.05703883495145631,
          0.06067961165048544,
          0.061893203883495146,
          0.06432038834951456,
          0.06432038834951456,
          0.06553398058252427,
          0.11407766990291263,
          0.11407766990291263,
          0.11407766990291263,
          0.11407766990291263,
          0.11529126213592233,
          0.11529126213592233,
          0.11529126213592233,
          0.11529126213592233,
          0.11529126213592233,
          0.11529126213592233,
          0.11771844660194175,
          0.11893203883495146,
          0.11893203883495146,
          0.11893203883495146,
          0.11893203883495146,
          0.12257281553398058,
          0.12257281553398058,
          0.12257281553398058,
          0.1262135922330097,
          0.1262135922330097,
          0.22451456310679613,
          0.22451456310679613,
          0.22572815533980584,
          0.22815533980582525,
          0.22815533980582525,
          0.22936893203883496,
          0.22936893203883496,
          0.23058252427184467,
          0.23058252427184467,
          0.23179611650485438,
          0.23179611650485438,
          0.23179611650485438,
          0.23179611650485438,
          0.23179611650485438,
          0.23300970873786409,
          0.23300970873786409,
          0.2342233009708738,
          0.2342233009708738,
          0.2342233009708738,
          0.2342233009708738,
          0.2342233009708738,
          0.2342233009708738,
          0.2342233009708738,
          0.2366504854368932,
          0.2366504854368932,
          0.24029126213592233,
          0.24029126213592233,
          0.24150485436893204,
          0.24150485436893204,
          0.24635922330097088,
          0.24635922330097088,
          0.2487864077669903,
          0.2487864077669903,
          0.25,
          0.25,
          0.2512135922330097,
          0.25849514563106796,
          0.25849514563106796,
          0.25970873786407767,
          0.2657766990291262,
          0.2669902912621359,
          0.279126213592233,
          0.279126213592233,
          0.279126213592233,
          0.279126213592233,
          0.279126213592233,
          0.2803398058252427,
          0.5072815533980582,
          0.5072815533980582,
          0.508495145631068,
          0.508495145631068,
          0.5121359223300971,
          0.5121359223300971,
          0.5133495145631068,
          0.5194174757281553,
          0.5194174757281553,
          0.5194174757281553,
          0.5194174757281553,
          0.5266990291262136,
          0.5266990291262136,
          0.5279126213592233,
          0.5339805825242718,
          0.5364077669902912,
          0.566747572815534,
          0.566747572815534,
          0.587378640776699,
          0.5946601941747572,
          0.5946601941747572,
          0.5946601941747572,
          0.5946601941747572,
          0.5946601941747572,
          0.5946601941747572,
          0.6055825242718447,
          0.6614077669902912,
          0.6614077669902912,
          0.6614077669902912,
          0.662621359223301,
          0.662621359223301,
          0.6929611650485437,
          0.6929611650485437,
          0.8774271844660194,
          0.9830097087378641,
          0.9830097087378641,
          0.9830097087378641,
          0.9830097087378641,
          0.9830097087378641,
          0.9830097087378641,
          0.9830097087378641,
          0.9830097087378641,
          0.9854368932038835,
          0.9866504854368932,
          0.9902912621359223,
          0.9902912621359223,
          0.9902912621359223,
          0.9902912621359223,
          0.9902912621359223,
          0.9902912621359223,
          0.9902912621359223,
          0.9902912621359223,
          0.9902912621359223,
          0.9902912621359223,
          0.9902912621359223,
          0.9902912621359223,
          0.9902912621359223,
          0.9902912621359223,
          0.9902912621359223,
          0.9902912621359223,
          0.9902912621359223,
          0.9902912621359223,
          0.9902912621359223,
          0.9902912621359223,
          0.9902912621359223,
          0.9975728155339806,
          0.9975728155339806,
          0.9975728155339806,
          0.9975728155339806,
          0.9975728155339806,
          0.9975728155339806,
          0.9987864077669902,
          0.9987864077669902,
          0.9987864077669902,
          0.9987864077669902,
          0.9987864077669902,
          0.9987864077669902,
          0.9987864077669902,
          0.9987864077669902,
          1,
          1,
          1,
          1,
          1,
          1,
          1,
          1,
          1,
          1,
          1,
          1,
          1,
          1,
          1,
          1,
          1,
          1,
          1,
          1,
          1,
          1,
          1,
          1,
          1,
          1,
          1,
          1,
          1
         ]
        },
        {
         "mode": "lines",
         "name": "Validate AUC= 0.81",
         "type": "scatter",
         "x": [
          0,
          0.00005076657528683115,
          0.0003045994517209869,
          0.0003045994517209869,
          0.0005584323281551427,
          0.0006091989034419738,
          0.0007107320540156361,
          0.0007614986293024672,
          0.0013706975327444412,
          0.0015229972586049345,
          0.0015229972586049345,
          0.0025383287643415573,
          0.00263986191491522,
          0.00263986191491522,
          0.002690628490202051,
          0.0027413950654888823,
          0.0030967610924967004,
          0.0030967610924967004,
          0.0032490608183571934,
          0.003350593968930856,
          0.006142755609706569,
          0.006244288760280232,
          0.006396588486140725,
          0.006447355061427556,
          0.006548888212001219,
          0.006751954513148543,
          0.006853487663722205,
          0.00751345314245101,
          0.00751345314245101,
          0.007564219717737841,
          0.007767286018885166,
          0.007868819169458828,
          0.018326733678546044,
          0.01842826682911971,
          0.018834399431414357,
          0.01893593258198802,
          0.019138998883135343,
          0.019342065184282668,
          0.01944359833485633,
          0.019595898060716824,
          0.01984973093715098,
          0.01990049751243781,
          0.020103563813585135,
          0.02040816326530612,
          0.020509696415879786,
          0.020560462991166616,
          0.020661996141740278,
          0.02157579449690324,
          0.021829627373337393,
          0.021880393948624226,
          0.023555690933089655,
          0.023707990658950146,
          0.023809523809523808,
          0.02700781805259417,
          0.02741395065488882,
          0.02914001421464108,
          0.02919078078992791,
          0.029444613666362068,
          0.029495380241648897,
          0.10204081632653061,
          0.1021931160523911,
          0.1031576809828409,
          0.10320844755812773,
          0.10336074728398822,
          0.10356381358513554,
          0.10549294344603513,
          0.10569600974718245,
          0.10813280536095035,
          0.10818357193623718,
          0.10833587166209767,
          0.108538937963245,
          0.10864047111381867,
          0.12610417301248858,
          0.1261549395877754,
          0.13219616204690832,
          0.1334653264290791,
          0.13356685957965275,
          0.13407452533252107,
          0.13417605848309472,
          0.13437912478424205,
          0.13701898669915727,
          0.16468677023048026,
          0.16615900091379834,
          0.1662097674890852,
          0.1789521778860798,
          0.17900294446136664,
          0.5803127221037668,
          0.7148441466138694,
          0.7151995126408772,
          0.7153518123667377,
          0.735100010153315,
          0.7378414052188039,
          0.7378921717940907,
          0.73870443699868,
          0.7392121027515484,
          0.7394659356279826,
          0.7396690019291299,
          0.7396690019291299,
          0.7397197685044167,
          0.7400751345314245,
          0.740227434257285,
          0.740532033709006,
          0.7405828002842928,
          0.7416488983653162,
          0.7419534978170372,
          0.9710122855112194,
          0.971113818661793,
          0.9712153518123667,
          0.9712661183876535,
          0.9779673063255153,
          0.9782211392019494,
          0.979236470707686,
          0.9798456696111281,
          0.9799472027617017,
          0.9808102345415778,
          0.9812163671438725,
          0.9965478728804955,
          0.9969032389075033,
          0.9969540054827901,
          0.9971570717839374,
          0.9974616712356584,
          0.9992385013706976,
          0.9994415676718449,
          0.9996446339729922,
          0.9996446339729922,
          0.9998477002741395,
          1
         ],
         "y": [
          0,
          0,
          0,
          0.0040650406504065045,
          0.008130081300813009,
          0.008130081300813009,
          0.008130081300813009,
          0.008130081300813009,
          0.016260162601626018,
          0.016260162601626018,
          0.02032520325203252,
          0.04065040650406504,
          0.04065040650406504,
          0.04878048780487805,
          0.052845528455284556,
          0.052845528455284556,
          0.052845528455284556,
          0.056910569105691054,
          0.056910569105691054,
          0.056910569105691054,
          0.11382113821138211,
          0.11382113821138211,
          0.11382113821138211,
          0.11382113821138211,
          0.11382113821138211,
          0.11382113821138211,
          0.11382113821138211,
          0.11788617886178862,
          0.12195121951219512,
          0.12195121951219512,
          0.13008130081300814,
          0.13008130081300814,
          0.23983739837398374,
          0.23983739837398374,
          0.24390243902439024,
          0.24796747967479674,
          0.24796747967479674,
          0.24796747967479674,
          0.24796747967479674,
          0.24796747967479674,
          0.24796747967479674,
          0.24796747967479674,
          0.24796747967479674,
          0.25203252032520324,
          0.25203252032520324,
          0.25203252032520324,
          0.25203252032520324,
          0.25203252032520324,
          0.25203252032520324,
          0.25203252032520324,
          0.25203252032520324,
          0.25609756097560976,
          0.25609756097560976,
          0.26422764227642276,
          0.2682926829268293,
          0.27235772357723576,
          0.27235772357723576,
          0.27235772357723576,
          0.27235772357723576,
          0.516260162601626,
          0.516260162601626,
          0.516260162601626,
          0.516260162601626,
          0.516260162601626,
          0.516260162601626,
          0.524390243902439,
          0.524390243902439,
          0.5284552845528455,
          0.5284552845528455,
          0.5284552845528455,
          0.5284552845528455,
          0.5284552845528455,
          0.556910569105691,
          0.556910569105691,
          0.5772357723577236,
          0.5813008130081301,
          0.5813008130081301,
          0.5813008130081301,
          0.5813008130081301,
          0.5813008130081301,
          0.5934959349593496,
          0.6626016260162602,
          0.6666666666666666,
          0.6666666666666666,
          0.6910569105691057,
          0.6910569105691057,
          0.8943089430894309,
          0.9796747967479674,
          0.9796747967479674,
          0.9796747967479674,
          0.983739837398374,
          0.983739837398374,
          0.983739837398374,
          0.983739837398374,
          0.983739837398374,
          0.983739837398374,
          0.983739837398374,
          0.9878048780487805,
          0.9878048780487805,
          0.9878048780487805,
          0.9878048780487805,
          0.9878048780487805,
          0.9878048780487805,
          0.9878048780487805,
          0.9878048780487805,
          0.991869918699187,
          0.991869918699187,
          0.991869918699187,
          0.991869918699187,
          0.9959349593495935,
          0.9959349593495935,
          0.9959349593495935,
          0.9959349593495935,
          0.9959349593495935,
          0.9959349593495935,
          0.9959349593495935,
          0.9959349593495935,
          0.9959349593495935,
          0.9959349593495935,
          0.9959349593495935,
          0.9959349593495935,
          0.9959349593495935,
          0.9959349593495935,
          0.9959349593495935,
          1,
          1,
          1
         ]
        }
       ],
       "layout": {
        "height": 500,
        "shapes": [
         {
          "line": {
           "dash": "dash"
          },
          "type": "line",
          "x0": 0,
          "x1": 1,
          "y0": 0,
          "y1": 1
         }
        ],
        "template": {
         "data": {
          "bar": [
           {
            "error_x": {
             "color": "#2a3f5f"
            },
            "error_y": {
             "color": "#2a3f5f"
            },
            "marker": {
             "line": {
              "color": "#E5ECF6",
              "width": 0.5
             },
             "pattern": {
              "fillmode": "overlay",
              "size": 10,
              "solidity": 0.2
             }
            },
            "type": "bar"
           }
          ],
          "barpolar": [
           {
            "marker": {
             "line": {
              "color": "#E5ECF6",
              "width": 0.5
             },
             "pattern": {
              "fillmode": "overlay",
              "size": 10,
              "solidity": 0.2
             }
            },
            "type": "barpolar"
           }
          ],
          "carpet": [
           {
            "aaxis": {
             "endlinecolor": "#2a3f5f",
             "gridcolor": "white",
             "linecolor": "white",
             "minorgridcolor": "white",
             "startlinecolor": "#2a3f5f"
            },
            "baxis": {
             "endlinecolor": "#2a3f5f",
             "gridcolor": "white",
             "linecolor": "white",
             "minorgridcolor": "white",
             "startlinecolor": "#2a3f5f"
            },
            "type": "carpet"
           }
          ],
          "choropleth": [
           {
            "colorbar": {
             "outlinewidth": 0,
             "ticks": ""
            },
            "type": "choropleth"
           }
          ],
          "contour": [
           {
            "colorbar": {
             "outlinewidth": 0,
             "ticks": ""
            },
            "colorscale": [
             [
              0,
              "#0d0887"
             ],
             [
              0.1111111111111111,
              "#46039f"
             ],
             [
              0.2222222222222222,
              "#7201a8"
             ],
             [
              0.3333333333333333,
              "#9c179e"
             ],
             [
              0.4444444444444444,
              "#bd3786"
             ],
             [
              0.5555555555555556,
              "#d8576b"
             ],
             [
              0.6666666666666666,
              "#ed7953"
             ],
             [
              0.7777777777777778,
              "#fb9f3a"
             ],
             [
              0.8888888888888888,
              "#fdca26"
             ],
             [
              1,
              "#f0f921"
             ]
            ],
            "type": "contour"
           }
          ],
          "contourcarpet": [
           {
            "colorbar": {
             "outlinewidth": 0,
             "ticks": ""
            },
            "type": "contourcarpet"
           }
          ],
          "heatmap": [
           {
            "colorbar": {
             "outlinewidth": 0,
             "ticks": ""
            },
            "colorscale": [
             [
              0,
              "#0d0887"
             ],
             [
              0.1111111111111111,
              "#46039f"
             ],
             [
              0.2222222222222222,
              "#7201a8"
             ],
             [
              0.3333333333333333,
              "#9c179e"
             ],
             [
              0.4444444444444444,
              "#bd3786"
             ],
             [
              0.5555555555555556,
              "#d8576b"
             ],
             [
              0.6666666666666666,
              "#ed7953"
             ],
             [
              0.7777777777777778,
              "#fb9f3a"
             ],
             [
              0.8888888888888888,
              "#fdca26"
             ],
             [
              1,
              "#f0f921"
             ]
            ],
            "type": "heatmap"
           }
          ],
          "heatmapgl": [
           {
            "colorbar": {
             "outlinewidth": 0,
             "ticks": ""
            },
            "colorscale": [
             [
              0,
              "#0d0887"
             ],
             [
              0.1111111111111111,
              "#46039f"
             ],
             [
              0.2222222222222222,
              "#7201a8"
             ],
             [
              0.3333333333333333,
              "#9c179e"
             ],
             [
              0.4444444444444444,
              "#bd3786"
             ],
             [
              0.5555555555555556,
              "#d8576b"
             ],
             [
              0.6666666666666666,
              "#ed7953"
             ],
             [
              0.7777777777777778,
              "#fb9f3a"
             ],
             [
              0.8888888888888888,
              "#fdca26"
             ],
             [
              1,
              "#f0f921"
             ]
            ],
            "type": "heatmapgl"
           }
          ],
          "histogram": [
           {
            "marker": {
             "pattern": {
              "fillmode": "overlay",
              "size": 10,
              "solidity": 0.2
             }
            },
            "type": "histogram"
           }
          ],
          "histogram2d": [
           {
            "colorbar": {
             "outlinewidth": 0,
             "ticks": ""
            },
            "colorscale": [
             [
              0,
              "#0d0887"
             ],
             [
              0.1111111111111111,
              "#46039f"
             ],
             [
              0.2222222222222222,
              "#7201a8"
             ],
             [
              0.3333333333333333,
              "#9c179e"
             ],
             [
              0.4444444444444444,
              "#bd3786"
             ],
             [
              0.5555555555555556,
              "#d8576b"
             ],
             [
              0.6666666666666666,
              "#ed7953"
             ],
             [
              0.7777777777777778,
              "#fb9f3a"
             ],
             [
              0.8888888888888888,
              "#fdca26"
             ],
             [
              1,
              "#f0f921"
             ]
            ],
            "type": "histogram2d"
           }
          ],
          "histogram2dcontour": [
           {
            "colorbar": {
             "outlinewidth": 0,
             "ticks": ""
            },
            "colorscale": [
             [
              0,
              "#0d0887"
             ],
             [
              0.1111111111111111,
              "#46039f"
             ],
             [
              0.2222222222222222,
              "#7201a8"
             ],
             [
              0.3333333333333333,
              "#9c179e"
             ],
             [
              0.4444444444444444,
              "#bd3786"
             ],
             [
              0.5555555555555556,
              "#d8576b"
             ],
             [
              0.6666666666666666,
              "#ed7953"
             ],
             [
              0.7777777777777778,
              "#fb9f3a"
             ],
             [
              0.8888888888888888,
              "#fdca26"
             ],
             [
              1,
              "#f0f921"
             ]
            ],
            "type": "histogram2dcontour"
           }
          ],
          "mesh3d": [
           {
            "colorbar": {
             "outlinewidth": 0,
             "ticks": ""
            },
            "type": "mesh3d"
           }
          ],
          "parcoords": [
           {
            "line": {
             "colorbar": {
              "outlinewidth": 0,
              "ticks": ""
             }
            },
            "type": "parcoords"
           }
          ],
          "pie": [
           {
            "automargin": true,
            "type": "pie"
           }
          ],
          "scatter": [
           {
            "fillpattern": {
             "fillmode": "overlay",
             "size": 10,
             "solidity": 0.2
            },
            "type": "scatter"
           }
          ],
          "scatter3d": [
           {
            "line": {
             "colorbar": {
              "outlinewidth": 0,
              "ticks": ""
             }
            },
            "marker": {
             "colorbar": {
              "outlinewidth": 0,
              "ticks": ""
             }
            },
            "type": "scatter3d"
           }
          ],
          "scattercarpet": [
           {
            "marker": {
             "colorbar": {
              "outlinewidth": 0,
              "ticks": ""
             }
            },
            "type": "scattercarpet"
           }
          ],
          "scattergeo": [
           {
            "marker": {
             "colorbar": {
              "outlinewidth": 0,
              "ticks": ""
             }
            },
            "type": "scattergeo"
           }
          ],
          "scattergl": [
           {
            "marker": {
             "colorbar": {
              "outlinewidth": 0,
              "ticks": ""
             }
            },
            "type": "scattergl"
           }
          ],
          "scattermapbox": [
           {
            "marker": {
             "colorbar": {
              "outlinewidth": 0,
              "ticks": ""
             }
            },
            "type": "scattermapbox"
           }
          ],
          "scatterpolar": [
           {
            "marker": {
             "colorbar": {
              "outlinewidth": 0,
              "ticks": ""
             }
            },
            "type": "scatterpolar"
           }
          ],
          "scatterpolargl": [
           {
            "marker": {
             "colorbar": {
              "outlinewidth": 0,
              "ticks": ""
             }
            },
            "type": "scatterpolargl"
           }
          ],
          "scatterternary": [
           {
            "marker": {
             "colorbar": {
              "outlinewidth": 0,
              "ticks": ""
             }
            },
            "type": "scatterternary"
           }
          ],
          "surface": [
           {
            "colorbar": {
             "outlinewidth": 0,
             "ticks": ""
            },
            "colorscale": [
             [
              0,
              "#0d0887"
             ],
             [
              0.1111111111111111,
              "#46039f"
             ],
             [
              0.2222222222222222,
              "#7201a8"
             ],
             [
              0.3333333333333333,
              "#9c179e"
             ],
             [
              0.4444444444444444,
              "#bd3786"
             ],
             [
              0.5555555555555556,
              "#d8576b"
             ],
             [
              0.6666666666666666,
              "#ed7953"
             ],
             [
              0.7777777777777778,
              "#fb9f3a"
             ],
             [
              0.8888888888888888,
              "#fdca26"
             ],
             [
              1,
              "#f0f921"
             ]
            ],
            "type": "surface"
           }
          ],
          "table": [
           {
            "cells": {
             "fill": {
              "color": "#EBF0F8"
             },
             "line": {
              "color": "white"
             }
            },
            "header": {
             "fill": {
              "color": "#C8D4E3"
             },
             "line": {
              "color": "white"
             }
            },
            "type": "table"
           }
          ]
         },
         "layout": {
          "annotationdefaults": {
           "arrowcolor": "#2a3f5f",
           "arrowhead": 0,
           "arrowwidth": 1
          },
          "autotypenumbers": "strict",
          "coloraxis": {
           "colorbar": {
            "outlinewidth": 0,
            "ticks": ""
           }
          },
          "colorscale": {
           "diverging": [
            [
             0,
             "#8e0152"
            ],
            [
             0.1,
             "#c51b7d"
            ],
            [
             0.2,
             "#de77ae"
            ],
            [
             0.3,
             "#f1b6da"
            ],
            [
             0.4,
             "#fde0ef"
            ],
            [
             0.5,
             "#f7f7f7"
            ],
            [
             0.6,
             "#e6f5d0"
            ],
            [
             0.7,
             "#b8e186"
            ],
            [
             0.8,
             "#7fbc41"
            ],
            [
             0.9,
             "#4d9221"
            ],
            [
             1,
             "#276419"
            ]
           ],
           "sequential": [
            [
             0,
             "#0d0887"
            ],
            [
             0.1111111111111111,
             "#46039f"
            ],
            [
             0.2222222222222222,
             "#7201a8"
            ],
            [
             0.3333333333333333,
             "#9c179e"
            ],
            [
             0.4444444444444444,
             "#bd3786"
            ],
            [
             0.5555555555555556,
             "#d8576b"
            ],
            [
             0.6666666666666666,
             "#ed7953"
            ],
            [
             0.7777777777777778,
             "#fb9f3a"
            ],
            [
             0.8888888888888888,
             "#fdca26"
            ],
            [
             1,
             "#f0f921"
            ]
           ],
           "sequentialminus": [
            [
             0,
             "#0d0887"
            ],
            [
             0.1111111111111111,
             "#46039f"
            ],
            [
             0.2222222222222222,
             "#7201a8"
            ],
            [
             0.3333333333333333,
             "#9c179e"
            ],
            [
             0.4444444444444444,
             "#bd3786"
            ],
            [
             0.5555555555555556,
             "#d8576b"
            ],
            [
             0.6666666666666666,
             "#ed7953"
            ],
            [
             0.7777777777777778,
             "#fb9f3a"
            ],
            [
             0.8888888888888888,
             "#fdca26"
            ],
            [
             1,
             "#f0f921"
            ]
           ]
          },
          "colorway": [
           "#636efa",
           "#EF553B",
           "#00cc96",
           "#ab63fa",
           "#FFA15A",
           "#19d3f3",
           "#FF6692",
           "#B6E880",
           "#FF97FF",
           "#FECB52"
          ],
          "font": {
           "color": "#2a3f5f"
          },
          "geo": {
           "bgcolor": "white",
           "lakecolor": "white",
           "landcolor": "#E5ECF6",
           "showlakes": true,
           "showland": true,
           "subunitcolor": "white"
          },
          "hoverlabel": {
           "align": "left"
          },
          "hovermode": "closest",
          "mapbox": {
           "style": "light"
          },
          "paper_bgcolor": "white",
          "plot_bgcolor": "#E5ECF6",
          "polar": {
           "angularaxis": {
            "gridcolor": "white",
            "linecolor": "white",
            "ticks": ""
           },
           "bgcolor": "#E5ECF6",
           "radialaxis": {
            "gridcolor": "white",
            "linecolor": "white",
            "ticks": ""
           }
          },
          "scene": {
           "xaxis": {
            "backgroundcolor": "#E5ECF6",
            "gridcolor": "white",
            "gridwidth": 2,
            "linecolor": "white",
            "showbackground": true,
            "ticks": "",
            "zerolinecolor": "white"
           },
           "yaxis": {
            "backgroundcolor": "#E5ECF6",
            "gridcolor": "white",
            "gridwidth": 2,
            "linecolor": "white",
            "showbackground": true,
            "ticks": "",
            "zerolinecolor": "white"
           },
           "zaxis": {
            "backgroundcolor": "#E5ECF6",
            "gridcolor": "white",
            "gridwidth": 2,
            "linecolor": "white",
            "showbackground": true,
            "ticks": "",
            "zerolinecolor": "white"
           }
          },
          "shapedefaults": {
           "line": {
            "color": "#2a3f5f"
           }
          },
          "ternary": {
           "aaxis": {
            "gridcolor": "white",
            "linecolor": "white",
            "ticks": ""
           },
           "baxis": {
            "gridcolor": "white",
            "linecolor": "white",
            "ticks": ""
           },
           "bgcolor": "#E5ECF6",
           "caxis": {
            "gridcolor": "white",
            "linecolor": "white",
            "ticks": ""
           }
          },
          "title": {
           "x": 0.05
          },
          "xaxis": {
           "automargin": true,
           "gridcolor": "white",
           "linecolor": "white",
           "ticks": "",
           "title": {
            "standoff": 15
           },
           "zerolinecolor": "white",
           "zerolinewidth": 2
          },
          "yaxis": {
           "automargin": true,
           "gridcolor": "white",
           "linecolor": "white",
           "ticks": "",
           "title": {
            "standoff": 15
           },
           "zerolinecolor": "white",
           "zerolinewidth": 2
          }
         }
        },
        "title": {
         "text": "AUC for Train and Validate"
        },
        "width": 700,
        "xaxis": {
         "constrain": "domain",
         "title": {
          "text": "False Positive Rate"
         }
        },
        "yaxis": {
         "scaleanchor": "x",
         "scaleratio": 1,
         "title": {
          "text": "True Positive Rate"
         }
        }
       }
      }
     },
     "metadata": {},
     "output_type": "display_data"
    }
   ],
   "source": [
    "fig = go.Figure()\n",
    "fig.add_shape(\n",
    "    type='line', line=dict(dash='dash'),\n",
    "    x0=0, x1=1, y0=0, y1=1\n",
    ")\n",
    "\n",
    "for i, j in enumerate(['train','validate']):\n",
    "    \n",
    "    \n",
    "    if j == 'train':\n",
    "        fpr, tpr, _ = roc_curve(y_train, train_pred)\n",
    "        auc_score = roc_auc_score(y_train, train_pred)\n",
    "    elif j == 'validate':\n",
    "        fpr, tpr, _ = roc_curve(y_val, val_pred)\n",
    "        auc_score = roc_auc_score(y_val, val_pred)\n",
    "\n",
    "    name = \"{} AUC= {:.2f}\".format(j.title(),auc_score)\n",
    "    fig.add_trace(go.Scatter(x=fpr, y=tpr, name=name, mode='lines'))\n",
    "\n",
    "fig.update_layout(\n",
    "    title='AUC for Train and Validate'\n",
    "    ,xaxis_title='False Positive Rate'\n",
    "    ,yaxis_title='True Positive Rate'\n",
    "    ,yaxis=dict(scaleanchor=\"x\", scaleratio=1)\n",
    "    ,xaxis=dict(constrain='domain')\n",
    "    ,width=700\n",
    "    ,height=500\n",
    ")\n",
    "fig.show()"
   ]
  },
  {
   "cell_type": "code",
   "execution_count": 16,
   "id": "a502ce01",
   "metadata": {},
   "outputs": [
    {
     "name": "stdout",
     "output_type": "stream",
     "text": [
      "logisitc coefficients in log-odds\n",
      "\n",
      "affiliates: -9.54\n",
      "direct: 0.12\n",
      "display: -0.07\n",
      "organic_search: 0.16\n",
      "paid_search: 0.55\n",
      "referral: 0.84\n",
      "social: -2.69\n",
      "(other): -0.04\n"
     ]
    }
   ],
   "source": [
    "# Get the coefficients (weights) for each variable\n",
    "coefficients = lr_model.coef_\n",
    "\n",
    "print(\"logisitc coefficients in log-odds\")\n",
    "print(\"\")\n",
    "# Print the coefficients\n",
    "for i, feature_name in enumerate(X_train.columns):\n",
    "\n",
    "    print(\"{}: {:.2f}\".format(feature_name,coefficients[0][i]))"
   ]
  },
  {
   "cell_type": "code",
   "execution_count": 17,
   "id": "71175a42",
   "metadata": {},
   "outputs": [
    {
     "name": "stdout",
     "output_type": "stream",
     "text": [
      "logisitc coefficients as odds ratios\n",
      "\n",
      "affiliates | odds ratio: 0.00, probability impact: -1.00\n",
      "direct | odds ratio: 1.13, probability impact: 0.13\n",
      "display | odds ratio: 0.93, probability impact: -0.07\n",
      "organic_search | odds ratio: 1.17, probability impact: 0.17\n",
      "paid_search | odds ratio: 1.73, probability impact: 0.73\n",
      "referral | odds ratio: 2.31, probability impact: 1.31\n",
      "social | odds ratio: 0.07, probability impact: -0.93\n",
      "(other) | odds ratio: 0.96, probability impact: -0.04\n"
     ]
    }
   ],
   "source": [
    "# Get the coefficients (weights) for each variable\n",
    "coefficients = lr_model.coef_\n",
    "\n",
    "print(\"logisitc coefficients as odds ratios\")\n",
    "print(\"\")\n",
    "# Print the coefficients\n",
    "for i, feature_name in enumerate(X_train.columns):\n",
    "    odds_ratio = np.exp(coefficients[0][i])\n",
    "    probability_impact = np.exp(coefficients[0][i]) - 1\n",
    "    print(\"{} | odds ratio: {:.2f}, probability impact: {:.2f}\".format(feature_name,odds_ratio,probability_impact))"
   ]
  },
  {
   "cell_type": "markdown",
   "id": "aa5cf68c",
   "metadata": {},
   "source": [
    "To interpret this: each additional touchpoint from direct channel results in the probability of conversion increasing by 13%."
   ]
  },
  {
   "cell_type": "markdown",
   "id": "2e38ef4d",
   "metadata": {},
   "source": [
    "## Deploying these weights into a business system/ attribution report dataset\n",
    "\n",
    "So now how can we logically create a data driven logisitc regression output that would let us divy up conversions appropriately?\n",
    "\n",
    "To divy up these credits we would need to meet the following rules.\n",
    "- If a touchpoint is present but no conversion it gets zero credit for a conversion\n",
    "- If a touchpoint is present but there is a conversion it gets >= 0 credit for a conversion\n",
    "- If a touchpoint is not present it gets no credit and it gets no penalty either."
   ]
  },
  {
   "cell_type": "markdown",
   "id": "c22de1d2",
   "metadata": {},
   "source": [
    "The softmax function transforms the original logistic coefficients into a set of values that sum up to 1, with each value representing the probability weight of the corresponding independent variable in contributing to the outcome variable. These probability weights can be interpreted as the relative importance of each independent variable in predicting the outcome variable."
   ]
  },
  {
   "cell_type": "code",
   "execution_count": 16,
   "id": "ca65ea67",
   "metadata": {},
   "outputs": [
    {
     "name": "stdout",
     "output_type": "stream",
     "text": [
      "logisitc coefficients in softmax\n",
      "\n",
      "affiliates: 0.00001\n",
      "direct: 0.13573\n",
      "display: 0.11199\n",
      "organic_search: 0.14151\n",
      "paid_search: 0.20818\n",
      "referral: 0.27844\n",
      "social: 0.00819\n",
      "(other): 0.11595\n"
     ]
    }
   ],
   "source": [
    "## example interpretation\n",
    "\n",
    "coefficients = special.softmax(lr_model.coef_)\n",
    "print(\"logisitc coefficients in softmax\")\n",
    "print(\"\")\n",
    "# Print the coefficients\n",
    "for i, feature_name in enumerate(X_train.columns):\n",
    "\n",
    "    print(\"{}: {:.5f}\".format(feature_name,coefficients[0][i]))"
   ]
  },
  {
   "cell_type": "markdown",
   "id": "572de66c",
   "metadata": {},
   "source": [
    "These probability weights can be interpreted as follows: referral has the highest probability weight of 0.278, which means it is the most important independent variable in predicting the outcome variable. "
   ]
  },
  {
   "cell_type": "markdown",
   "id": "db11f1ca",
   "metadata": {},
   "source": [
    "Assume we had 1 touchpoint of each channel present and then a conversion. These set of numbers could represent how much credit each channel gets in that scenario. "
   ]
  },
  {
   "cell_type": "markdown",
   "id": "f7f34808",
   "metadata": {},
   "source": [
    "Now what if we saw a journey with 2 paid search 1 referal 1 affiliate then a conversion"
   ]
  },
  {
   "cell_type": "markdown",
   "id": "f7a06482",
   "metadata": {},
   "source": [
    "The conversion should be divvyd up like this"
   ]
  },
  {
   "cell_type": "code",
   "execution_count": 17,
   "id": "3432c5d1",
   "metadata": {},
   "outputs": [
    {
     "name": "stdout",
     "output_type": "stream",
     "text": [
      "paid search channel credit: 0.599\n",
      "paid search per touchpoint credit: 0.300\n",
      "\n",
      "referral channel credit: 0.401\n",
      "referral touchpoint credit: 0.401\n",
      "\n",
      "affiliate channel credit: 0.000\n",
      "affiliate touchpoint credit: 0.000\n"
     ]
    }
   ],
   "source": [
    "channel_impacts = 2 * (0.20818) + 1 * (0.27844) + 1 * (0.00001)\n",
    "\n",
    "paid_search_channel_contribution = (2 * (0.20818)) / channel_impacts\n",
    "paid_search_touchpoint_contribution = paid_search_channel_contribution / 2\n",
    "\n",
    "referral_channel_contribution = (1 * (0.27844)) / channel_impacts\n",
    "referral_touchpoint_contribution = referral_channel_contribution / 1\n",
    "\n",
    "affiliate_channel_contribution = (1 * (0.00001)) / channel_impacts\n",
    "affiliate_touchpoint_contribution = affiliate_channel_contribution / 1\n",
    "\n",
    "print(\"paid search channel credit: {:.3f}\".format(paid_search_channel_contribution))\n",
    "print(\"paid search per touchpoint credit: {:.3f}\".format(paid_search_touchpoint_contribution))\n",
    "print(\"\")\n",
    "print(\"referral channel credit: {:.3f}\".format(referral_channel_contribution))\n",
    "print(\"referral touchpoint credit: {:.3f}\".format(referral_touchpoint_contribution))\n",
    "print(\"\")\n",
    "print(\"affiliate channel credit: {:.3f}\".format(affiliate_channel_contribution))\n",
    "print(\"affiliate touchpoint credit: {:.3f}\".format(affiliate_touchpoint_contribution))"
   ]
  },
  {
   "cell_type": "markdown",
   "id": "c262916d",
   "metadata": {},
   "source": [
    "In summary, we can use the softmax transformation on the logistic regression coefficients to give us indepentent variable impacts on a scale between 0 and 1 and summing up to 1\n",
    "\n",
    "These weights are data driven and sensible to then be deployed to calculate channel contribution and touchpoint contribution like the example above. \n",
    "\n",
    "Once the entire dataset is scored, we can now slice and dice the results. "
   ]
  },
  {
   "cell_type": "markdown",
   "id": "5bd92093",
   "metadata": {},
   "source": [
    "## Deploy the weights\n",
    "\n",
    "Here we will deploy the weights (score the data). \n",
    "\n",
    "Next we will calculate tactic total contribution. \n",
    "\n",
    "Then we will calculate tactic contribution per activity.\n",
    "\n",
    "Then we can track each tactics contribution per activity over time."
   ]
  },
  {
   "cell_type": "code",
   "execution_count": 18,
   "id": "23ed060a",
   "metadata": {
    "scrolled": true
   },
   "outputs": [
    {
     "name": "stderr",
     "output_type": "stream",
     "text": [
      "C:\\Users\\TEMPLSD\\AppData\\Local\\Temp\\ipykernel_16780\\527759922.py:15: SettingWithCopyWarning:\n",
      "\n",
      "\n",
      "A value is trying to be set on a copy of a slice from a DataFrame.\n",
      "Try using .loc[row_indexer,col_indexer] = value instead\n",
      "\n",
      "See the caveats in the documentation: https://pandas.pydata.org/pandas-docs/stable/user_guide/indexing.html#returning-a-view-versus-a-copy\n",
      "\n",
      "C:\\Users\\TEMPLSD\\AppData\\Local\\Temp\\ipykernel_16780\\527759922.py:15: SettingWithCopyWarning:\n",
      "\n",
      "\n",
      "A value is trying to be set on a copy of a slice from a DataFrame.\n",
      "Try using .loc[row_indexer,col_indexer] = value instead\n",
      "\n",
      "See the caveats in the documentation: https://pandas.pydata.org/pandas-docs/stable/user_guide/indexing.html#returning-a-view-versus-a-copy\n",
      "\n",
      "C:\\Users\\TEMPLSD\\AppData\\Local\\Temp\\ipykernel_16780\\527759922.py:15: SettingWithCopyWarning:\n",
      "\n",
      "\n",
      "A value is trying to be set on a copy of a slice from a DataFrame.\n",
      "Try using .loc[row_indexer,col_indexer] = value instead\n",
      "\n",
      "See the caveats in the documentation: https://pandas.pydata.org/pandas-docs/stable/user_guide/indexing.html#returning-a-view-versus-a-copy\n",
      "\n",
      "C:\\Users\\TEMPLSD\\AppData\\Local\\Temp\\ipykernel_16780\\527759922.py:15: SettingWithCopyWarning:\n",
      "\n",
      "\n",
      "A value is trying to be set on a copy of a slice from a DataFrame.\n",
      "Try using .loc[row_indexer,col_indexer] = value instead\n",
      "\n",
      "See the caveats in the documentation: https://pandas.pydata.org/pandas-docs/stable/user_guide/indexing.html#returning-a-view-versus-a-copy\n",
      "\n",
      "C:\\Users\\TEMPLSD\\AppData\\Local\\Temp\\ipykernel_16780\\527759922.py:15: SettingWithCopyWarning:\n",
      "\n",
      "\n",
      "A value is trying to be set on a copy of a slice from a DataFrame.\n",
      "Try using .loc[row_indexer,col_indexer] = value instead\n",
      "\n",
      "See the caveats in the documentation: https://pandas.pydata.org/pandas-docs/stable/user_guide/indexing.html#returning-a-view-versus-a-copy\n",
      "\n",
      "C:\\Users\\TEMPLSD\\AppData\\Local\\Temp\\ipykernel_16780\\527759922.py:15: SettingWithCopyWarning:\n",
      "\n",
      "\n",
      "A value is trying to be set on a copy of a slice from a DataFrame.\n",
      "Try using .loc[row_indexer,col_indexer] = value instead\n",
      "\n",
      "See the caveats in the documentation: https://pandas.pydata.org/pandas-docs/stable/user_guide/indexing.html#returning-a-view-versus-a-copy\n",
      "\n",
      "C:\\Users\\TEMPLSD\\AppData\\Local\\Temp\\ipykernel_16780\\527759922.py:15: SettingWithCopyWarning:\n",
      "\n",
      "\n",
      "A value is trying to be set on a copy of a slice from a DataFrame.\n",
      "Try using .loc[row_indexer,col_indexer] = value instead\n",
      "\n",
      "See the caveats in the documentation: https://pandas.pydata.org/pandas-docs/stable/user_guide/indexing.html#returning-a-view-versus-a-copy\n",
      "\n",
      "C:\\Users\\TEMPLSD\\AppData\\Local\\Temp\\ipykernel_16780\\527759922.py:15: SettingWithCopyWarning:\n",
      "\n",
      "\n",
      "A value is trying to be set on a copy of a slice from a DataFrame.\n",
      "Try using .loc[row_indexer,col_indexer] = value instead\n",
      "\n",
      "See the caveats in the documentation: https://pandas.pydata.org/pandas-docs/stable/user_guide/indexing.html#returning-a-view-versus-a-copy\n",
      "\n",
      "C:\\Users\\TEMPLSD\\AppData\\Local\\Temp\\ipykernel_16780\\527759922.py:18: SettingWithCopyWarning:\n",
      "\n",
      "\n",
      "A value is trying to be set on a copy of a slice from a DataFrame.\n",
      "Try using .loc[row_indexer,col_indexer] = value instead\n",
      "\n",
      "See the caveats in the documentation: https://pandas.pydata.org/pandas-docs/stable/user_guide/indexing.html#returning-a-view-versus-a-copy\n",
      "\n",
      "C:\\Users\\TEMPLSD\\AppData\\Local\\Temp\\ipykernel_16780\\527759922.py:21: SettingWithCopyWarning:\n",
      "\n",
      "\n",
      "A value is trying to be set on a copy of a slice from a DataFrame.\n",
      "Try using .loc[row_indexer,col_indexer] = value instead\n",
      "\n",
      "See the caveats in the documentation: https://pandas.pydata.org/pandas-docs/stable/user_guide/indexing.html#returning-a-view-versus-a-copy\n",
      "\n",
      "C:\\Users\\TEMPLSD\\AppData\\Local\\Temp\\ipykernel_16780\\527759922.py:21: SettingWithCopyWarning:\n",
      "\n",
      "\n",
      "A value is trying to be set on a copy of a slice from a DataFrame.\n",
      "Try using .loc[row_indexer,col_indexer] = value instead\n",
      "\n",
      "See the caveats in the documentation: https://pandas.pydata.org/pandas-docs/stable/user_guide/indexing.html#returning-a-view-versus-a-copy\n",
      "\n",
      "C:\\Users\\TEMPLSD\\AppData\\Local\\Temp\\ipykernel_16780\\527759922.py:21: SettingWithCopyWarning:\n",
      "\n",
      "\n",
      "A value is trying to be set on a copy of a slice from a DataFrame.\n",
      "Try using .loc[row_indexer,col_indexer] = value instead\n",
      "\n",
      "See the caveats in the documentation: https://pandas.pydata.org/pandas-docs/stable/user_guide/indexing.html#returning-a-view-versus-a-copy\n",
      "\n",
      "C:\\Users\\TEMPLSD\\AppData\\Local\\Temp\\ipykernel_16780\\527759922.py:21: SettingWithCopyWarning:\n",
      "\n",
      "\n",
      "A value is trying to be set on a copy of a slice from a DataFrame.\n",
      "Try using .loc[row_indexer,col_indexer] = value instead\n",
      "\n",
      "See the caveats in the documentation: https://pandas.pydata.org/pandas-docs/stable/user_guide/indexing.html#returning-a-view-versus-a-copy\n",
      "\n",
      "C:\\Users\\TEMPLSD\\AppData\\Local\\Temp\\ipykernel_16780\\527759922.py:21: SettingWithCopyWarning:\n",
      "\n",
      "\n",
      "A value is trying to be set on a copy of a slice from a DataFrame.\n",
      "Try using .loc[row_indexer,col_indexer] = value instead\n",
      "\n",
      "See the caveats in the documentation: https://pandas.pydata.org/pandas-docs/stable/user_guide/indexing.html#returning-a-view-versus-a-copy\n",
      "\n",
      "C:\\Users\\TEMPLSD\\AppData\\Local\\Temp\\ipykernel_16780\\527759922.py:21: SettingWithCopyWarning:\n",
      "\n",
      "\n",
      "A value is trying to be set on a copy of a slice from a DataFrame.\n",
      "Try using .loc[row_indexer,col_indexer] = value instead\n",
      "\n",
      "See the caveats in the documentation: https://pandas.pydata.org/pandas-docs/stable/user_guide/indexing.html#returning-a-view-versus-a-copy\n",
      "\n",
      "C:\\Users\\TEMPLSD\\AppData\\Local\\Temp\\ipykernel_16780\\527759922.py:21: SettingWithCopyWarning:\n",
      "\n",
      "\n",
      "A value is trying to be set on a copy of a slice from a DataFrame.\n",
      "Try using .loc[row_indexer,col_indexer] = value instead\n",
      "\n",
      "See the caveats in the documentation: https://pandas.pydata.org/pandas-docs/stable/user_guide/indexing.html#returning-a-view-versus-a-copy\n",
      "\n",
      "C:\\Users\\TEMPLSD\\AppData\\Local\\Temp\\ipykernel_16780\\527759922.py:21: SettingWithCopyWarning:\n",
      "\n",
      "\n",
      "A value is trying to be set on a copy of a slice from a DataFrame.\n",
      "Try using .loc[row_indexer,col_indexer] = value instead\n",
      "\n",
      "See the caveats in the documentation: https://pandas.pydata.org/pandas-docs/stable/user_guide/indexing.html#returning-a-view-versus-a-copy\n",
      "\n"
     ]
    },
    {
     "data": {
      "text/html": [
       "<div>\n",
       "<style scoped>\n",
       "    .dataframe tbody tr th:only-of-type {\n",
       "        vertical-align: middle;\n",
       "    }\n",
       "\n",
       "    .dataframe tbody tr th {\n",
       "        vertical-align: top;\n",
       "    }\n",
       "\n",
       "    .dataframe thead th {\n",
       "        text-align: right;\n",
       "    }\n",
       "</style>\n",
       "<table border=\"1\" class=\"dataframe\">\n",
       "  <thead>\n",
       "    <tr style=\"text-align: right;\">\n",
       "      <th></th>\n",
       "      <th>fullVisitorId</th>\n",
       "      <th>sequence_id</th>\n",
       "      <th>sequence_details</th>\n",
       "      <th>affiliates</th>\n",
       "      <th>direct</th>\n",
       "      <th>display</th>\n",
       "      <th>organic_search</th>\n",
       "      <th>paid_search</th>\n",
       "      <th>referral</th>\n",
       "      <th>social</th>\n",
       "      <th>...</th>\n",
       "      <th>(other)_weights</th>\n",
       "      <th>weights_total</th>\n",
       "      <th>affiliates_impact</th>\n",
       "      <th>direct_impact</th>\n",
       "      <th>display_impact</th>\n",
       "      <th>organic_search_impact</th>\n",
       "      <th>paid_search_impact</th>\n",
       "      <th>referral_impact</th>\n",
       "      <th>social_impact</th>\n",
       "      <th>(other)_impact</th>\n",
       "    </tr>\n",
       "  </thead>\n",
       "  <tbody>\n",
       "    <tr>\n",
       "      <th>299</th>\n",
       "      <td>7547767069516152606</td>\n",
       "      <td>0AioIlToiDilMZ6</td>\n",
       "      <td>referral&gt;referral&gt;conversion</td>\n",
       "      <td>0</td>\n",
       "      <td>0</td>\n",
       "      <td>0</td>\n",
       "      <td>0</td>\n",
       "      <td>0</td>\n",
       "      <td>2</td>\n",
       "      <td>0</td>\n",
       "      <td>...</td>\n",
       "      <td>0.0</td>\n",
       "      <td>0.55688</td>\n",
       "      <td>0.0</td>\n",
       "      <td>0.0</td>\n",
       "      <td>0.0</td>\n",
       "      <td>0.0</td>\n",
       "      <td>0.0</td>\n",
       "      <td>1.0</td>\n",
       "      <td>0.0</td>\n",
       "      <td>0.0</td>\n",
       "    </tr>\n",
       "    <tr>\n",
       "      <th>304</th>\n",
       "      <td>9583683554162057560</td>\n",
       "      <td>0AzVoxvZ7fJnkKY</td>\n",
       "      <td>organic_search&gt;organic_search&gt;conversion</td>\n",
       "      <td>0</td>\n",
       "      <td>0</td>\n",
       "      <td>0</td>\n",
       "      <td>2</td>\n",
       "      <td>0</td>\n",
       "      <td>0</td>\n",
       "      <td>0</td>\n",
       "      <td>...</td>\n",
       "      <td>0.0</td>\n",
       "      <td>0.28302</td>\n",
       "      <td>0.0</td>\n",
       "      <td>0.0</td>\n",
       "      <td>0.0</td>\n",
       "      <td>1.0</td>\n",
       "      <td>0.0</td>\n",
       "      <td>0.0</td>\n",
       "      <td>0.0</td>\n",
       "      <td>0.0</td>\n",
       "    </tr>\n",
       "    <tr>\n",
       "      <th>354</th>\n",
       "      <td>165267667365212716</td>\n",
       "      <td>0D6KWXV0v6IVYC3</td>\n",
       "      <td>referral&gt;conversion</td>\n",
       "      <td>0</td>\n",
       "      <td>0</td>\n",
       "      <td>0</td>\n",
       "      <td>0</td>\n",
       "      <td>0</td>\n",
       "      <td>1</td>\n",
       "      <td>0</td>\n",
       "      <td>...</td>\n",
       "      <td>0.0</td>\n",
       "      <td>0.27844</td>\n",
       "      <td>0.0</td>\n",
       "      <td>0.0</td>\n",
       "      <td>0.0</td>\n",
       "      <td>0.0</td>\n",
       "      <td>0.0</td>\n",
       "      <td>1.0</td>\n",
       "      <td>0.0</td>\n",
       "      <td>0.0</td>\n",
       "    </tr>\n",
       "    <tr>\n",
       "      <th>417</th>\n",
       "      <td>119870259714905967</td>\n",
       "      <td>0FC7pTmjoyhBMPK</td>\n",
       "      <td>direct&gt;direct&gt;direct&gt;conversion</td>\n",
       "      <td>0</td>\n",
       "      <td>3</td>\n",
       "      <td>0</td>\n",
       "      <td>0</td>\n",
       "      <td>0</td>\n",
       "      <td>0</td>\n",
       "      <td>0</td>\n",
       "      <td>...</td>\n",
       "      <td>0.0</td>\n",
       "      <td>0.40719</td>\n",
       "      <td>0.0</td>\n",
       "      <td>1.0</td>\n",
       "      <td>0.0</td>\n",
       "      <td>0.0</td>\n",
       "      <td>0.0</td>\n",
       "      <td>0.0</td>\n",
       "      <td>0.0</td>\n",
       "      <td>0.0</td>\n",
       "    </tr>\n",
       "    <tr>\n",
       "      <th>579</th>\n",
       "      <td>072965257504694282</td>\n",
       "      <td>0LXKW2ke11vif1T</td>\n",
       "      <td>referral&gt;referral&gt;referral&gt;referral&gt;referral&gt;c...</td>\n",
       "      <td>0</td>\n",
       "      <td>0</td>\n",
       "      <td>0</td>\n",
       "      <td>0</td>\n",
       "      <td>0</td>\n",
       "      <td>5</td>\n",
       "      <td>0</td>\n",
       "      <td>...</td>\n",
       "      <td>0.0</td>\n",
       "      <td>1.39220</td>\n",
       "      <td>0.0</td>\n",
       "      <td>0.0</td>\n",
       "      <td>0.0</td>\n",
       "      <td>0.0</td>\n",
       "      <td>0.0</td>\n",
       "      <td>1.0</td>\n",
       "      <td>0.0</td>\n",
       "      <td>0.0</td>\n",
       "    </tr>\n",
       "    <tr>\n",
       "      <th>...</th>\n",
       "      <td>...</td>\n",
       "      <td>...</td>\n",
       "      <td>...</td>\n",
       "      <td>...</td>\n",
       "      <td>...</td>\n",
       "      <td>...</td>\n",
       "      <td>...</td>\n",
       "      <td>...</td>\n",
       "      <td>...</td>\n",
       "      <td>...</td>\n",
       "      <td>...</td>\n",
       "      <td>...</td>\n",
       "      <td>...</td>\n",
       "      <td>...</td>\n",
       "      <td>...</td>\n",
       "      <td>...</td>\n",
       "      <td>...</td>\n",
       "      <td>...</td>\n",
       "      <td>...</td>\n",
       "      <td>...</td>\n",
       "      <td>...</td>\n",
       "    </tr>\n",
       "    <tr>\n",
       "      <th>99225</th>\n",
       "      <td>6521312251881307858</td>\n",
       "      <td>zfPRf8jln9r8K4Y</td>\n",
       "      <td>referral&gt;referral&gt;conversion</td>\n",
       "      <td>0</td>\n",
       "      <td>0</td>\n",
       "      <td>0</td>\n",
       "      <td>0</td>\n",
       "      <td>0</td>\n",
       "      <td>2</td>\n",
       "      <td>0</td>\n",
       "      <td>...</td>\n",
       "      <td>0.0</td>\n",
       "      <td>0.55688</td>\n",
       "      <td>0.0</td>\n",
       "      <td>0.0</td>\n",
       "      <td>0.0</td>\n",
       "      <td>0.0</td>\n",
       "      <td>0.0</td>\n",
       "      <td>1.0</td>\n",
       "      <td>0.0</td>\n",
       "      <td>0.0</td>\n",
       "    </tr>\n",
       "    <tr>\n",
       "      <th>99271</th>\n",
       "      <td>5613647306583973831</td>\n",
       "      <td>zhU0Zu6QXYyTfdY</td>\n",
       "      <td>referral&gt;conversion</td>\n",
       "      <td>0</td>\n",
       "      <td>0</td>\n",
       "      <td>0</td>\n",
       "      <td>0</td>\n",
       "      <td>0</td>\n",
       "      <td>1</td>\n",
       "      <td>0</td>\n",
       "      <td>...</td>\n",
       "      <td>0.0</td>\n",
       "      <td>0.27844</td>\n",
       "      <td>0.0</td>\n",
       "      <td>0.0</td>\n",
       "      <td>0.0</td>\n",
       "      <td>0.0</td>\n",
       "      <td>0.0</td>\n",
       "      <td>1.0</td>\n",
       "      <td>0.0</td>\n",
       "      <td>0.0</td>\n",
       "    </tr>\n",
       "    <tr>\n",
       "      <th>99556</th>\n",
       "      <td>8906575148569160903</td>\n",
       "      <td>ztXs02S3xfqnn7u</td>\n",
       "      <td>referral&gt;referral&gt;conversion</td>\n",
       "      <td>0</td>\n",
       "      <td>0</td>\n",
       "      <td>0</td>\n",
       "      <td>0</td>\n",
       "      <td>0</td>\n",
       "      <td>2</td>\n",
       "      <td>0</td>\n",
       "      <td>...</td>\n",
       "      <td>0.0</td>\n",
       "      <td>0.55688</td>\n",
       "      <td>0.0</td>\n",
       "      <td>0.0</td>\n",
       "      <td>0.0</td>\n",
       "      <td>0.0</td>\n",
       "      <td>0.0</td>\n",
       "      <td>1.0</td>\n",
       "      <td>0.0</td>\n",
       "      <td>0.0</td>\n",
       "    </tr>\n",
       "    <tr>\n",
       "      <th>99674</th>\n",
       "      <td>8722485686890283296</td>\n",
       "      <td>zytaQynOIi5H98F</td>\n",
       "      <td>referral&gt;conversion</td>\n",
       "      <td>0</td>\n",
       "      <td>0</td>\n",
       "      <td>0</td>\n",
       "      <td>0</td>\n",
       "      <td>0</td>\n",
       "      <td>1</td>\n",
       "      <td>0</td>\n",
       "      <td>...</td>\n",
       "      <td>0.0</td>\n",
       "      <td>0.27844</td>\n",
       "      <td>0.0</td>\n",
       "      <td>0.0</td>\n",
       "      <td>0.0</td>\n",
       "      <td>0.0</td>\n",
       "      <td>0.0</td>\n",
       "      <td>1.0</td>\n",
       "      <td>0.0</td>\n",
       "      <td>0.0</td>\n",
       "    </tr>\n",
       "    <tr>\n",
       "      <th>99700</th>\n",
       "      <td>928560936983652295</td>\n",
       "      <td>zzYwO5cFFs7kEu0</td>\n",
       "      <td>paid_search&gt;conversion</td>\n",
       "      <td>0</td>\n",
       "      <td>0</td>\n",
       "      <td>0</td>\n",
       "      <td>0</td>\n",
       "      <td>1</td>\n",
       "      <td>0</td>\n",
       "      <td>0</td>\n",
       "      <td>...</td>\n",
       "      <td>0.0</td>\n",
       "      <td>0.20818</td>\n",
       "      <td>0.0</td>\n",
       "      <td>0.0</td>\n",
       "      <td>0.0</td>\n",
       "      <td>0.0</td>\n",
       "      <td>1.0</td>\n",
       "      <td>0.0</td>\n",
       "      <td>0.0</td>\n",
       "      <td>0.0</td>\n",
       "    </tr>\n",
       "  </tbody>\n",
       "</table>\n",
       "<p>1337 rows × 29 columns</p>\n",
       "</div>"
      ],
      "text/plain": [
       "             fullVisitorId      sequence_id  \\\n",
       "299    7547767069516152606  0AioIlToiDilMZ6   \n",
       "304    9583683554162057560  0AzVoxvZ7fJnkKY   \n",
       "354     165267667365212716  0D6KWXV0v6IVYC3   \n",
       "417     119870259714905967  0FC7pTmjoyhBMPK   \n",
       "579     072965257504694282  0LXKW2ke11vif1T   \n",
       "...                    ...              ...   \n",
       "99225  6521312251881307858  zfPRf8jln9r8K4Y   \n",
       "99271  5613647306583973831  zhU0Zu6QXYyTfdY   \n",
       "99556  8906575148569160903  ztXs02S3xfqnn7u   \n",
       "99674  8722485686890283296  zytaQynOIi5H98F   \n",
       "99700   928560936983652295  zzYwO5cFFs7kEu0   \n",
       "\n",
       "                                        sequence_details  affiliates  direct  \\\n",
       "299                         referral>referral>conversion           0       0   \n",
       "304             organic_search>organic_search>conversion           0       0   \n",
       "354                                  referral>conversion           0       0   \n",
       "417                      direct>direct>direct>conversion           0       3   \n",
       "579    referral>referral>referral>referral>referral>c...           0       0   \n",
       "...                                                  ...         ...     ...   \n",
       "99225                       referral>referral>conversion           0       0   \n",
       "99271                                referral>conversion           0       0   \n",
       "99556                       referral>referral>conversion           0       0   \n",
       "99674                                referral>conversion           0       0   \n",
       "99700                             paid_search>conversion           0       0   \n",
       "\n",
       "       display  organic_search  paid_search  referral  social  ...  \\\n",
       "299          0               0            0         2       0  ...   \n",
       "304          0               2            0         0       0  ...   \n",
       "354          0               0            0         1       0  ...   \n",
       "417          0               0            0         0       0  ...   \n",
       "579          0               0            0         5       0  ...   \n",
       "...        ...             ...          ...       ...     ...  ...   \n",
       "99225        0               0            0         2       0  ...   \n",
       "99271        0               0            0         1       0  ...   \n",
       "99556        0               0            0         2       0  ...   \n",
       "99674        0               0            0         1       0  ...   \n",
       "99700        0               0            1         0       0  ...   \n",
       "\n",
       "       (other)_weights  weights_total  affiliates_impact  direct_impact  \\\n",
       "299                0.0        0.55688                0.0            0.0   \n",
       "304                0.0        0.28302                0.0            0.0   \n",
       "354                0.0        0.27844                0.0            0.0   \n",
       "417                0.0        0.40719                0.0            1.0   \n",
       "579                0.0        1.39220                0.0            0.0   \n",
       "...                ...            ...                ...            ...   \n",
       "99225              0.0        0.55688                0.0            0.0   \n",
       "99271              0.0        0.27844                0.0            0.0   \n",
       "99556              0.0        0.55688                0.0            0.0   \n",
       "99674              0.0        0.27844                0.0            0.0   \n",
       "99700              0.0        0.20818                0.0            0.0   \n",
       "\n",
       "       display_impact  organic_search_impact  paid_search_impact  \\\n",
       "299               0.0                    0.0                 0.0   \n",
       "304               0.0                    1.0                 0.0   \n",
       "354               0.0                    0.0                 0.0   \n",
       "417               0.0                    0.0                 0.0   \n",
       "579               0.0                    0.0                 0.0   \n",
       "...               ...                    ...                 ...   \n",
       "99225             0.0                    0.0                 0.0   \n",
       "99271             0.0                    0.0                 0.0   \n",
       "99556             0.0                    0.0                 0.0   \n",
       "99674             0.0                    0.0                 0.0   \n",
       "99700             0.0                    0.0                 1.0   \n",
       "\n",
       "       referral_impact  social_impact  (other)_impact  \n",
       "299                1.0            0.0             0.0  \n",
       "304                0.0            0.0             0.0  \n",
       "354                1.0            0.0             0.0  \n",
       "417                0.0            0.0             0.0  \n",
       "579                1.0            0.0             0.0  \n",
       "...                ...            ...             ...  \n",
       "99225              1.0            0.0             0.0  \n",
       "99271              1.0            0.0             0.0  \n",
       "99556              1.0            0.0             0.0  \n",
       "99674              1.0            0.0             0.0  \n",
       "99700              0.0            0.0             0.0  \n",
       "\n",
       "[1337 rows x 29 columns]"
      ]
     },
     "execution_count": 18,
     "metadata": {},
     "output_type": "execute_result"
    }
   ],
   "source": [
    "scored_data_df1 = model_data_final.loc[model_data_final['conversion']==1,:]\n",
    "\n",
    "score_dict = {\n",
    "    'affiliates':0.00001\n",
    "    ,'direct':0.13573\n",
    "    ,'display': 0.11199\n",
    "    ,'organic_search': 0.14151\n",
    "    ,'paid_search': 0.20818\n",
    "    ,'referral': 0.27844\n",
    "    ,'social': 0.00819\n",
    "    ,'(other)': 0.11595\n",
    "}\n",
    "\n",
    "for i in score_dict.keys():\n",
    "    scored_data_df1.loc[:,'{}_weights'.format(i)] = scored_data_df1.loc[:,'{}'.format(i)]*score_dict[i]\n",
    "    \n",
    "cols = [col for col in scored_data_df1.columns if 'weights' in col]\n",
    "scored_data_df1['weights_total'] = scored_data_df1[cols].sum(axis=1)\n",
    "\n",
    "for i in score_dict.keys():\n",
    "    scored_data_df1.loc[:,'{}_impact'.format(i)] = scored_data_df1.loc[:,'{}_weights'.format(i)]/scored_data_df1['weights_total'] \n",
    "scored_data_df1"
   ]
  },
  {
   "cell_type": "code",
   "execution_count": 19,
   "id": "9d3c90c5",
   "metadata": {},
   "outputs": [
    {
     "data": {
      "text/html": [
       "<div>\n",
       "<style scoped>\n",
       "    .dataframe tbody tr th:only-of-type {\n",
       "        vertical-align: middle;\n",
       "    }\n",
       "\n",
       "    .dataframe tbody tr th {\n",
       "        vertical-align: top;\n",
       "    }\n",
       "\n",
       "    .dataframe thead th {\n",
       "        text-align: right;\n",
       "    }\n",
       "</style>\n",
       "<table border=\"1\" class=\"dataframe\">\n",
       "  <thead>\n",
       "    <tr style=\"text-align: right;\">\n",
       "      <th></th>\n",
       "      <th>fullVisitorId</th>\n",
       "      <th>sequence_id</th>\n",
       "      <th>sequence_details</th>\n",
       "      <th>affiliates</th>\n",
       "      <th>direct</th>\n",
       "      <th>display</th>\n",
       "      <th>organic_search</th>\n",
       "      <th>paid_search</th>\n",
       "      <th>referral</th>\n",
       "      <th>social</th>\n",
       "      <th>(other)</th>\n",
       "      <th>conversion</th>\n",
       "      <th>affiliates_impact</th>\n",
       "      <th>direct_impact</th>\n",
       "      <th>display_impact</th>\n",
       "      <th>organic_search_impact</th>\n",
       "      <th>paid_search_impact</th>\n",
       "      <th>referral_impact</th>\n",
       "      <th>social_impact</th>\n",
       "      <th>(other)_impact</th>\n",
       "    </tr>\n",
       "  </thead>\n",
       "  <tbody>\n",
       "    <tr>\n",
       "      <th>0</th>\n",
       "      <td>7343617347507729080</td>\n",
       "      <td>0099Rqojoj1MCXN</td>\n",
       "      <td>organic_search&gt;dead_end</td>\n",
       "      <td>0</td>\n",
       "      <td>0</td>\n",
       "      <td>0</td>\n",
       "      <td>1</td>\n",
       "      <td>0</td>\n",
       "      <td>0</td>\n",
       "      <td>0</td>\n",
       "      <td>0</td>\n",
       "      <td>0</td>\n",
       "      <td>0.0</td>\n",
       "      <td>0.0</td>\n",
       "      <td>0.0</td>\n",
       "      <td>0.0</td>\n",
       "      <td>0.0</td>\n",
       "      <td>0.0</td>\n",
       "      <td>0.0</td>\n",
       "      <td>0.0</td>\n",
       "    </tr>\n",
       "    <tr>\n",
       "      <th>1</th>\n",
       "      <td>89656057821147903</td>\n",
       "      <td>00A9Lkka73okUx2</td>\n",
       "      <td>organic_search&gt;dead_end</td>\n",
       "      <td>0</td>\n",
       "      <td>0</td>\n",
       "      <td>0</td>\n",
       "      <td>1</td>\n",
       "      <td>0</td>\n",
       "      <td>0</td>\n",
       "      <td>0</td>\n",
       "      <td>0</td>\n",
       "      <td>0</td>\n",
       "      <td>0.0</td>\n",
       "      <td>0.0</td>\n",
       "      <td>0.0</td>\n",
       "      <td>0.0</td>\n",
       "      <td>0.0</td>\n",
       "      <td>0.0</td>\n",
       "      <td>0.0</td>\n",
       "      <td>0.0</td>\n",
       "    </tr>\n",
       "    <tr>\n",
       "      <th>2</th>\n",
       "      <td>4307745811624101170</td>\n",
       "      <td>00B30tmbMwJn7Cf</td>\n",
       "      <td>organic_search&gt;dead_end</td>\n",
       "      <td>0</td>\n",
       "      <td>0</td>\n",
       "      <td>0</td>\n",
       "      <td>1</td>\n",
       "      <td>0</td>\n",
       "      <td>0</td>\n",
       "      <td>0</td>\n",
       "      <td>0</td>\n",
       "      <td>0</td>\n",
       "      <td>0.0</td>\n",
       "      <td>0.0</td>\n",
       "      <td>0.0</td>\n",
       "      <td>0.0</td>\n",
       "      <td>0.0</td>\n",
       "      <td>0.0</td>\n",
       "      <td>0.0</td>\n",
       "      <td>0.0</td>\n",
       "    </tr>\n",
       "    <tr>\n",
       "      <th>3</th>\n",
       "      <td>7129167701457127936</td>\n",
       "      <td>00BKxKnEYlKbw9b</td>\n",
       "      <td>organic_search&gt;dead_end</td>\n",
       "      <td>0</td>\n",
       "      <td>0</td>\n",
       "      <td>0</td>\n",
       "      <td>1</td>\n",
       "      <td>0</td>\n",
       "      <td>0</td>\n",
       "      <td>0</td>\n",
       "      <td>0</td>\n",
       "      <td>0</td>\n",
       "      <td>0.0</td>\n",
       "      <td>0.0</td>\n",
       "      <td>0.0</td>\n",
       "      <td>0.0</td>\n",
       "      <td>0.0</td>\n",
       "      <td>0.0</td>\n",
       "      <td>0.0</td>\n",
       "      <td>0.0</td>\n",
       "    </tr>\n",
       "    <tr>\n",
       "      <th>4</th>\n",
       "      <td>3217678225016118393</td>\n",
       "      <td>00EttOfsTTyp45B</td>\n",
       "      <td>referral&gt;dead_end</td>\n",
       "      <td>0</td>\n",
       "      <td>0</td>\n",
       "      <td>0</td>\n",
       "      <td>0</td>\n",
       "      <td>0</td>\n",
       "      <td>1</td>\n",
       "      <td>0</td>\n",
       "      <td>0</td>\n",
       "      <td>0</td>\n",
       "      <td>0.0</td>\n",
       "      <td>0.0</td>\n",
       "      <td>0.0</td>\n",
       "      <td>0.0</td>\n",
       "      <td>0.0</td>\n",
       "      <td>0.0</td>\n",
       "      <td>0.0</td>\n",
       "      <td>0.0</td>\n",
       "    </tr>\n",
       "    <tr>\n",
       "      <th>...</th>\n",
       "      <td>...</td>\n",
       "      <td>...</td>\n",
       "      <td>...</td>\n",
       "      <td>...</td>\n",
       "      <td>...</td>\n",
       "      <td>...</td>\n",
       "      <td>...</td>\n",
       "      <td>...</td>\n",
       "      <td>...</td>\n",
       "      <td>...</td>\n",
       "      <td>...</td>\n",
       "      <td>...</td>\n",
       "      <td>...</td>\n",
       "      <td>...</td>\n",
       "      <td>...</td>\n",
       "      <td>...</td>\n",
       "      <td>...</td>\n",
       "      <td>...</td>\n",
       "      <td>...</td>\n",
       "      <td>...</td>\n",
       "    </tr>\n",
       "    <tr>\n",
       "      <th>99713</th>\n",
       "      <td>2993808115150274357</td>\n",
       "      <td>zztHCwxAXsUYmVF</td>\n",
       "      <td>referral&gt;dead_end</td>\n",
       "      <td>0</td>\n",
       "      <td>0</td>\n",
       "      <td>0</td>\n",
       "      <td>0</td>\n",
       "      <td>0</td>\n",
       "      <td>1</td>\n",
       "      <td>0</td>\n",
       "      <td>0</td>\n",
       "      <td>0</td>\n",
       "      <td>0.0</td>\n",
       "      <td>0.0</td>\n",
       "      <td>0.0</td>\n",
       "      <td>0.0</td>\n",
       "      <td>0.0</td>\n",
       "      <td>0.0</td>\n",
       "      <td>0.0</td>\n",
       "      <td>0.0</td>\n",
       "    </tr>\n",
       "    <tr>\n",
       "      <th>99714</th>\n",
       "      <td>8219089981045079603</td>\n",
       "      <td>zzvFftLlVUENeNU</td>\n",
       "      <td>organic_search&gt;dead_end</td>\n",
       "      <td>0</td>\n",
       "      <td>0</td>\n",
       "      <td>0</td>\n",
       "      <td>1</td>\n",
       "      <td>0</td>\n",
       "      <td>0</td>\n",
       "      <td>0</td>\n",
       "      <td>0</td>\n",
       "      <td>0</td>\n",
       "      <td>0.0</td>\n",
       "      <td>0.0</td>\n",
       "      <td>0.0</td>\n",
       "      <td>0.0</td>\n",
       "      <td>0.0</td>\n",
       "      <td>0.0</td>\n",
       "      <td>0.0</td>\n",
       "      <td>0.0</td>\n",
       "    </tr>\n",
       "    <tr>\n",
       "      <th>99715</th>\n",
       "      <td>546466813369261354</td>\n",
       "      <td>zzvh8qX8dzkWb2X</td>\n",
       "      <td>direct&gt;dead_end</td>\n",
       "      <td>0</td>\n",
       "      <td>1</td>\n",
       "      <td>0</td>\n",
       "      <td>0</td>\n",
       "      <td>0</td>\n",
       "      <td>0</td>\n",
       "      <td>0</td>\n",
       "      <td>0</td>\n",
       "      <td>0</td>\n",
       "      <td>0.0</td>\n",
       "      <td>0.0</td>\n",
       "      <td>0.0</td>\n",
       "      <td>0.0</td>\n",
       "      <td>0.0</td>\n",
       "      <td>0.0</td>\n",
       "      <td>0.0</td>\n",
       "      <td>0.0</td>\n",
       "    </tr>\n",
       "    <tr>\n",
       "      <th>99716</th>\n",
       "      <td>6288261604719925213</td>\n",
       "      <td>zzxahVA1FamPayn</td>\n",
       "      <td>organic_search&gt;dead_end</td>\n",
       "      <td>0</td>\n",
       "      <td>0</td>\n",
       "      <td>0</td>\n",
       "      <td>1</td>\n",
       "      <td>0</td>\n",
       "      <td>0</td>\n",
       "      <td>0</td>\n",
       "      <td>0</td>\n",
       "      <td>0</td>\n",
       "      <td>0.0</td>\n",
       "      <td>0.0</td>\n",
       "      <td>0.0</td>\n",
       "      <td>0.0</td>\n",
       "      <td>0.0</td>\n",
       "      <td>0.0</td>\n",
       "      <td>0.0</td>\n",
       "      <td>0.0</td>\n",
       "    </tr>\n",
       "    <tr>\n",
       "      <th>99717</th>\n",
       "      <td>7918896908390800801</td>\n",
       "      <td>zzyM5alBCxAkdwq</td>\n",
       "      <td>social&gt;dead_end</td>\n",
       "      <td>0</td>\n",
       "      <td>0</td>\n",
       "      <td>0</td>\n",
       "      <td>0</td>\n",
       "      <td>0</td>\n",
       "      <td>0</td>\n",
       "      <td>1</td>\n",
       "      <td>0</td>\n",
       "      <td>0</td>\n",
       "      <td>0.0</td>\n",
       "      <td>0.0</td>\n",
       "      <td>0.0</td>\n",
       "      <td>0.0</td>\n",
       "      <td>0.0</td>\n",
       "      <td>0.0</td>\n",
       "      <td>0.0</td>\n",
       "      <td>0.0</td>\n",
       "    </tr>\n",
       "  </tbody>\n",
       "</table>\n",
       "<p>99718 rows × 20 columns</p>\n",
       "</div>"
      ],
      "text/plain": [
       "             fullVisitorId      sequence_id         sequence_details  \\\n",
       "0      7343617347507729080  0099Rqojoj1MCXN  organic_search>dead_end   \n",
       "1        89656057821147903  00A9Lkka73okUx2  organic_search>dead_end   \n",
       "2      4307745811624101170  00B30tmbMwJn7Cf  organic_search>dead_end   \n",
       "3      7129167701457127936  00BKxKnEYlKbw9b  organic_search>dead_end   \n",
       "4      3217678225016118393  00EttOfsTTyp45B        referral>dead_end   \n",
       "...                    ...              ...                      ...   \n",
       "99713  2993808115150274357  zztHCwxAXsUYmVF        referral>dead_end   \n",
       "99714  8219089981045079603  zzvFftLlVUENeNU  organic_search>dead_end   \n",
       "99715   546466813369261354  zzvh8qX8dzkWb2X          direct>dead_end   \n",
       "99716  6288261604719925213  zzxahVA1FamPayn  organic_search>dead_end   \n",
       "99717  7918896908390800801  zzyM5alBCxAkdwq          social>dead_end   \n",
       "\n",
       "       affiliates  direct  display  organic_search  paid_search  referral  \\\n",
       "0               0       0        0               1            0         0   \n",
       "1               0       0        0               1            0         0   \n",
       "2               0       0        0               1            0         0   \n",
       "3               0       0        0               1            0         0   \n",
       "4               0       0        0               0            0         1   \n",
       "...           ...     ...      ...             ...          ...       ...   \n",
       "99713           0       0        0               0            0         1   \n",
       "99714           0       0        0               1            0         0   \n",
       "99715           0       1        0               0            0         0   \n",
       "99716           0       0        0               1            0         0   \n",
       "99717           0       0        0               0            0         0   \n",
       "\n",
       "       social  (other)  conversion  affiliates_impact  direct_impact  \\\n",
       "0           0        0           0                0.0            0.0   \n",
       "1           0        0           0                0.0            0.0   \n",
       "2           0        0           0                0.0            0.0   \n",
       "3           0        0           0                0.0            0.0   \n",
       "4           0        0           0                0.0            0.0   \n",
       "...       ...      ...         ...                ...            ...   \n",
       "99713       0        0           0                0.0            0.0   \n",
       "99714       0        0           0                0.0            0.0   \n",
       "99715       0        0           0                0.0            0.0   \n",
       "99716       0        0           0                0.0            0.0   \n",
       "99717       1        0           0                0.0            0.0   \n",
       "\n",
       "       display_impact  organic_search_impact  paid_search_impact  \\\n",
       "0                 0.0                    0.0                 0.0   \n",
       "1                 0.0                    0.0                 0.0   \n",
       "2                 0.0                    0.0                 0.0   \n",
       "3                 0.0                    0.0                 0.0   \n",
       "4                 0.0                    0.0                 0.0   \n",
       "...               ...                    ...                 ...   \n",
       "99713             0.0                    0.0                 0.0   \n",
       "99714             0.0                    0.0                 0.0   \n",
       "99715             0.0                    0.0                 0.0   \n",
       "99716             0.0                    0.0                 0.0   \n",
       "99717             0.0                    0.0                 0.0   \n",
       "\n",
       "       referral_impact  social_impact  (other)_impact  \n",
       "0                  0.0            0.0             0.0  \n",
       "1                  0.0            0.0             0.0  \n",
       "2                  0.0            0.0             0.0  \n",
       "3                  0.0            0.0             0.0  \n",
       "4                  0.0            0.0             0.0  \n",
       "...                ...            ...             ...  \n",
       "99713              0.0            0.0             0.0  \n",
       "99714              0.0            0.0             0.0  \n",
       "99715              0.0            0.0             0.0  \n",
       "99716              0.0            0.0             0.0  \n",
       "99717              0.0            0.0             0.0  \n",
       "\n",
       "[99718 rows x 20 columns]"
      ]
     },
     "execution_count": 19,
     "metadata": {},
     "output_type": "execute_result"
    }
   ],
   "source": [
    "scored_data_df2 = scored_data_df1[['sequence_id','affiliates_impact','direct_impact'\n",
    "                ,'display_impact','organic_search_impact'\n",
    "                ,'paid_search_impact','referral_impact'\n",
    "                ,'social_impact','(other)_impact']]\n",
    "\n",
    "scored_data_df_final = model_data_final.merge(scored_data_df2, on ='sequence_id', how='left')\n",
    "\n",
    "scored_data_df_final.fillna(0,inplace=True)\n",
    "scored_data_df_final"
   ]
  },
  {
   "cell_type": "markdown",
   "id": "75b5f260",
   "metadata": {},
   "source": [
    "Now we have a dataframe, scored data df final, that has each channels activity count and if there is a conversion it is divvied to the channels based on machine learning derived weights.\n",
    "\n",
    "We can use this output now to make presentations and dashboards for the stakeholders. Below are a few example insights."
   ]
  },
  {
   "cell_type": "markdown",
   "id": "766afbb4",
   "metadata": {},
   "source": [
    "#### Contribution (impacts) by channel"
   ]
  },
  {
   "cell_type": "code",
   "execution_count": 28,
   "id": "430c278a",
   "metadata": {},
   "outputs": [
    {
     "data": {
      "application/vnd.plotly.v1+json": {
       "config": {
        "plotlyServerURL": "https://plot.ly"
       },
       "data": [
        {
         "alignmentgroup": "True",
         "hovertemplate": "Channel=%{y}<br>Impacts=%{x}<extra></extra>",
         "legendgroup": "direct",
         "marker": {
          "color": "#636efa",
          "pattern": {
           "shape": ""
          }
         },
         "name": "direct",
         "offsetgroup": "direct",
         "orientation": "h",
         "showlegend": true,
         "textposition": "auto",
         "type": "bar",
         "x": [
          217.1014168942456
         ],
         "xaxis": "x",
         "y": [
          "direct"
         ],
         "yaxis": "y"
        },
        {
         "alignmentgroup": "True",
         "hovertemplate": "Channel=%{y}<br>Impacts=%{x}<extra></extra>",
         "legendgroup": "display",
         "marker": {
          "color": "#EF553B",
          "pattern": {
           "shape": ""
          }
         },
         "name": "display",
         "offsetgroup": "display",
         "orientation": "h",
         "showlegend": true,
         "textposition": "auto",
         "type": "bar",
         "x": [
          11.712272431174501
         ],
         "xaxis": "x",
         "y": [
          "display"
         ],
         "yaxis": "y"
        },
        {
         "alignmentgroup": "True",
         "hovertemplate": "Channel=%{y}<br>Impacts=%{x}<extra></extra>",
         "legendgroup": "organic_search",
         "marker": {
          "color": "#00cc96",
          "pattern": {
           "shape": ""
          }
         },
         "name": "organic_search",
         "offsetgroup": "organic_search",
         "orientation": "h",
         "showlegend": true,
         "textposition": "auto",
         "type": "bar",
         "x": [
          409.0496159845936
         ],
         "xaxis": "x",
         "y": [
          "organic_search"
         ],
         "yaxis": "y"
        },
        {
         "alignmentgroup": "True",
         "hovertemplate": "Channel=%{y}<br>Impacts=%{x}<extra></extra>",
         "legendgroup": "paid_search",
         "marker": {
          "color": "#ab63fa",
          "pattern": {
           "shape": ""
          }
         },
         "name": "paid_search",
         "offsetgroup": "paid_search",
         "orientation": "h",
         "showlegend": true,
         "textposition": "auto",
         "type": "bar",
         "x": [
          64.445480466374
         ],
         "xaxis": "x",
         "y": [
          "paid_search"
         ],
         "yaxis": "y"
        },
        {
         "alignmentgroup": "True",
         "hovertemplate": "Channel=%{y}<br>Impacts=%{x}<extra></extra>",
         "legendgroup": "referral",
         "marker": {
          "color": "#FFA15A",
          "pattern": {
           "shape": ""
          }
         },
         "name": "referral",
         "offsetgroup": "referral",
         "orientation": "h",
         "showlegend": true,
         "textposition": "auto",
         "type": "bar",
         "x": [
          622.5009267196175
         ],
         "xaxis": "x",
         "y": [
          "referral"
         ],
         "yaxis": "y"
        },
        {
         "alignmentgroup": "True",
         "hovertemplate": "Channel=%{y}<br>Impacts=%{x}<extra></extra>",
         "legendgroup": "social",
         "marker": {
          "color": "#19d3f3",
          "pattern": {
           "shape": ""
          }
         },
         "name": "social",
         "offsetgroup": "social",
         "orientation": "h",
         "showlegend": true,
         "textposition": "auto",
         "type": "bar",
         "x": [
          12.190287503994849
         ],
         "xaxis": "x",
         "y": [
          "social"
         ],
         "yaxis": "y"
        }
       ],
       "layout": {
        "barmode": "relative",
        "height": 500,
        "legend": {
         "title": {
          "text": "Channel"
         },
         "tracegroupgap": 0
        },
        "plot_bgcolor": "#f2f2f2",
        "template": {
         "data": {
          "bar": [
           {
            "error_x": {
             "color": "#2a3f5f"
            },
            "error_y": {
             "color": "#2a3f5f"
            },
            "marker": {
             "line": {
              "color": "#E5ECF6",
              "width": 0.5
             },
             "pattern": {
              "fillmode": "overlay",
              "size": 10,
              "solidity": 0.2
             }
            },
            "type": "bar"
           }
          ],
          "barpolar": [
           {
            "marker": {
             "line": {
              "color": "#E5ECF6",
              "width": 0.5
             },
             "pattern": {
              "fillmode": "overlay",
              "size": 10,
              "solidity": 0.2
             }
            },
            "type": "barpolar"
           }
          ],
          "carpet": [
           {
            "aaxis": {
             "endlinecolor": "#2a3f5f",
             "gridcolor": "white",
             "linecolor": "white",
             "minorgridcolor": "white",
             "startlinecolor": "#2a3f5f"
            },
            "baxis": {
             "endlinecolor": "#2a3f5f",
             "gridcolor": "white",
             "linecolor": "white",
             "minorgridcolor": "white",
             "startlinecolor": "#2a3f5f"
            },
            "type": "carpet"
           }
          ],
          "choropleth": [
           {
            "colorbar": {
             "outlinewidth": 0,
             "ticks": ""
            },
            "type": "choropleth"
           }
          ],
          "contour": [
           {
            "colorbar": {
             "outlinewidth": 0,
             "ticks": ""
            },
            "colorscale": [
             [
              0,
              "#0d0887"
             ],
             [
              0.1111111111111111,
              "#46039f"
             ],
             [
              0.2222222222222222,
              "#7201a8"
             ],
             [
              0.3333333333333333,
              "#9c179e"
             ],
             [
              0.4444444444444444,
              "#bd3786"
             ],
             [
              0.5555555555555556,
              "#d8576b"
             ],
             [
              0.6666666666666666,
              "#ed7953"
             ],
             [
              0.7777777777777778,
              "#fb9f3a"
             ],
             [
              0.8888888888888888,
              "#fdca26"
             ],
             [
              1,
              "#f0f921"
             ]
            ],
            "type": "contour"
           }
          ],
          "contourcarpet": [
           {
            "colorbar": {
             "outlinewidth": 0,
             "ticks": ""
            },
            "type": "contourcarpet"
           }
          ],
          "heatmap": [
           {
            "colorbar": {
             "outlinewidth": 0,
             "ticks": ""
            },
            "colorscale": [
             [
              0,
              "#0d0887"
             ],
             [
              0.1111111111111111,
              "#46039f"
             ],
             [
              0.2222222222222222,
              "#7201a8"
             ],
             [
              0.3333333333333333,
              "#9c179e"
             ],
             [
              0.4444444444444444,
              "#bd3786"
             ],
             [
              0.5555555555555556,
              "#d8576b"
             ],
             [
              0.6666666666666666,
              "#ed7953"
             ],
             [
              0.7777777777777778,
              "#fb9f3a"
             ],
             [
              0.8888888888888888,
              "#fdca26"
             ],
             [
              1,
              "#f0f921"
             ]
            ],
            "type": "heatmap"
           }
          ],
          "heatmapgl": [
           {
            "colorbar": {
             "outlinewidth": 0,
             "ticks": ""
            },
            "colorscale": [
             [
              0,
              "#0d0887"
             ],
             [
              0.1111111111111111,
              "#46039f"
             ],
             [
              0.2222222222222222,
              "#7201a8"
             ],
             [
              0.3333333333333333,
              "#9c179e"
             ],
             [
              0.4444444444444444,
              "#bd3786"
             ],
             [
              0.5555555555555556,
              "#d8576b"
             ],
             [
              0.6666666666666666,
              "#ed7953"
             ],
             [
              0.7777777777777778,
              "#fb9f3a"
             ],
             [
              0.8888888888888888,
              "#fdca26"
             ],
             [
              1,
              "#f0f921"
             ]
            ],
            "type": "heatmapgl"
           }
          ],
          "histogram": [
           {
            "marker": {
             "pattern": {
              "fillmode": "overlay",
              "size": 10,
              "solidity": 0.2
             }
            },
            "type": "histogram"
           }
          ],
          "histogram2d": [
           {
            "colorbar": {
             "outlinewidth": 0,
             "ticks": ""
            },
            "colorscale": [
             [
              0,
              "#0d0887"
             ],
             [
              0.1111111111111111,
              "#46039f"
             ],
             [
              0.2222222222222222,
              "#7201a8"
             ],
             [
              0.3333333333333333,
              "#9c179e"
             ],
             [
              0.4444444444444444,
              "#bd3786"
             ],
             [
              0.5555555555555556,
              "#d8576b"
             ],
             [
              0.6666666666666666,
              "#ed7953"
             ],
             [
              0.7777777777777778,
              "#fb9f3a"
             ],
             [
              0.8888888888888888,
              "#fdca26"
             ],
             [
              1,
              "#f0f921"
             ]
            ],
            "type": "histogram2d"
           }
          ],
          "histogram2dcontour": [
           {
            "colorbar": {
             "outlinewidth": 0,
             "ticks": ""
            },
            "colorscale": [
             [
              0,
              "#0d0887"
             ],
             [
              0.1111111111111111,
              "#46039f"
             ],
             [
              0.2222222222222222,
              "#7201a8"
             ],
             [
              0.3333333333333333,
              "#9c179e"
             ],
             [
              0.4444444444444444,
              "#bd3786"
             ],
             [
              0.5555555555555556,
              "#d8576b"
             ],
             [
              0.6666666666666666,
              "#ed7953"
             ],
             [
              0.7777777777777778,
              "#fb9f3a"
             ],
             [
              0.8888888888888888,
              "#fdca26"
             ],
             [
              1,
              "#f0f921"
             ]
            ],
            "type": "histogram2dcontour"
           }
          ],
          "mesh3d": [
           {
            "colorbar": {
             "outlinewidth": 0,
             "ticks": ""
            },
            "type": "mesh3d"
           }
          ],
          "parcoords": [
           {
            "line": {
             "colorbar": {
              "outlinewidth": 0,
              "ticks": ""
             }
            },
            "type": "parcoords"
           }
          ],
          "pie": [
           {
            "automargin": true,
            "type": "pie"
           }
          ],
          "scatter": [
           {
            "fillpattern": {
             "fillmode": "overlay",
             "size": 10,
             "solidity": 0.2
            },
            "type": "scatter"
           }
          ],
          "scatter3d": [
           {
            "line": {
             "colorbar": {
              "outlinewidth": 0,
              "ticks": ""
             }
            },
            "marker": {
             "colorbar": {
              "outlinewidth": 0,
              "ticks": ""
             }
            },
            "type": "scatter3d"
           }
          ],
          "scattercarpet": [
           {
            "marker": {
             "colorbar": {
              "outlinewidth": 0,
              "ticks": ""
             }
            },
            "type": "scattercarpet"
           }
          ],
          "scattergeo": [
           {
            "marker": {
             "colorbar": {
              "outlinewidth": 0,
              "ticks": ""
             }
            },
            "type": "scattergeo"
           }
          ],
          "scattergl": [
           {
            "marker": {
             "colorbar": {
              "outlinewidth": 0,
              "ticks": ""
             }
            },
            "type": "scattergl"
           }
          ],
          "scattermapbox": [
           {
            "marker": {
             "colorbar": {
              "outlinewidth": 0,
              "ticks": ""
             }
            },
            "type": "scattermapbox"
           }
          ],
          "scatterpolar": [
           {
            "marker": {
             "colorbar": {
              "outlinewidth": 0,
              "ticks": ""
             }
            },
            "type": "scatterpolar"
           }
          ],
          "scatterpolargl": [
           {
            "marker": {
             "colorbar": {
              "outlinewidth": 0,
              "ticks": ""
             }
            },
            "type": "scatterpolargl"
           }
          ],
          "scatterternary": [
           {
            "marker": {
             "colorbar": {
              "outlinewidth": 0,
              "ticks": ""
             }
            },
            "type": "scatterternary"
           }
          ],
          "surface": [
           {
            "colorbar": {
             "outlinewidth": 0,
             "ticks": ""
            },
            "colorscale": [
             [
              0,
              "#0d0887"
             ],
             [
              0.1111111111111111,
              "#46039f"
             ],
             [
              0.2222222222222222,
              "#7201a8"
             ],
             [
              0.3333333333333333,
              "#9c179e"
             ],
             [
              0.4444444444444444,
              "#bd3786"
             ],
             [
              0.5555555555555556,
              "#d8576b"
             ],
             [
              0.6666666666666666,
              "#ed7953"
             ],
             [
              0.7777777777777778,
              "#fb9f3a"
             ],
             [
              0.8888888888888888,
              "#fdca26"
             ],
             [
              1,
              "#f0f921"
             ]
            ],
            "type": "surface"
           }
          ],
          "table": [
           {
            "cells": {
             "fill": {
              "color": "#EBF0F8"
             },
             "line": {
              "color": "white"
             }
            },
            "header": {
             "fill": {
              "color": "#C8D4E3"
             },
             "line": {
              "color": "white"
             }
            },
            "type": "table"
           }
          ]
         },
         "layout": {
          "annotationdefaults": {
           "arrowcolor": "#2a3f5f",
           "arrowhead": 0,
           "arrowwidth": 1
          },
          "autotypenumbers": "strict",
          "coloraxis": {
           "colorbar": {
            "outlinewidth": 0,
            "ticks": ""
           }
          },
          "colorscale": {
           "diverging": [
            [
             0,
             "#8e0152"
            ],
            [
             0.1,
             "#c51b7d"
            ],
            [
             0.2,
             "#de77ae"
            ],
            [
             0.3,
             "#f1b6da"
            ],
            [
             0.4,
             "#fde0ef"
            ],
            [
             0.5,
             "#f7f7f7"
            ],
            [
             0.6,
             "#e6f5d0"
            ],
            [
             0.7,
             "#b8e186"
            ],
            [
             0.8,
             "#7fbc41"
            ],
            [
             0.9,
             "#4d9221"
            ],
            [
             1,
             "#276419"
            ]
           ],
           "sequential": [
            [
             0,
             "#0d0887"
            ],
            [
             0.1111111111111111,
             "#46039f"
            ],
            [
             0.2222222222222222,
             "#7201a8"
            ],
            [
             0.3333333333333333,
             "#9c179e"
            ],
            [
             0.4444444444444444,
             "#bd3786"
            ],
            [
             0.5555555555555556,
             "#d8576b"
            ],
            [
             0.6666666666666666,
             "#ed7953"
            ],
            [
             0.7777777777777778,
             "#fb9f3a"
            ],
            [
             0.8888888888888888,
             "#fdca26"
            ],
            [
             1,
             "#f0f921"
            ]
           ],
           "sequentialminus": [
            [
             0,
             "#0d0887"
            ],
            [
             0.1111111111111111,
             "#46039f"
            ],
            [
             0.2222222222222222,
             "#7201a8"
            ],
            [
             0.3333333333333333,
             "#9c179e"
            ],
            [
             0.4444444444444444,
             "#bd3786"
            ],
            [
             0.5555555555555556,
             "#d8576b"
            ],
            [
             0.6666666666666666,
             "#ed7953"
            ],
            [
             0.7777777777777778,
             "#fb9f3a"
            ],
            [
             0.8888888888888888,
             "#fdca26"
            ],
            [
             1,
             "#f0f921"
            ]
           ]
          },
          "colorway": [
           "#636efa",
           "#EF553B",
           "#00cc96",
           "#ab63fa",
           "#FFA15A",
           "#19d3f3",
           "#FF6692",
           "#B6E880",
           "#FF97FF",
           "#FECB52"
          ],
          "font": {
           "color": "#2a3f5f"
          },
          "geo": {
           "bgcolor": "white",
           "lakecolor": "white",
           "landcolor": "#E5ECF6",
           "showlakes": true,
           "showland": true,
           "subunitcolor": "white"
          },
          "hoverlabel": {
           "align": "left"
          },
          "hovermode": "closest",
          "mapbox": {
           "style": "light"
          },
          "paper_bgcolor": "white",
          "plot_bgcolor": "#E5ECF6",
          "polar": {
           "angularaxis": {
            "gridcolor": "white",
            "linecolor": "white",
            "ticks": ""
           },
           "bgcolor": "#E5ECF6",
           "radialaxis": {
            "gridcolor": "white",
            "linecolor": "white",
            "ticks": ""
           }
          },
          "scene": {
           "xaxis": {
            "backgroundcolor": "#E5ECF6",
            "gridcolor": "white",
            "gridwidth": 2,
            "linecolor": "white",
            "showbackground": true,
            "ticks": "",
            "zerolinecolor": "white"
           },
           "yaxis": {
            "backgroundcolor": "#E5ECF6",
            "gridcolor": "white",
            "gridwidth": 2,
            "linecolor": "white",
            "showbackground": true,
            "ticks": "",
            "zerolinecolor": "white"
           },
           "zaxis": {
            "backgroundcolor": "#E5ECF6",
            "gridcolor": "white",
            "gridwidth": 2,
            "linecolor": "white",
            "showbackground": true,
            "ticks": "",
            "zerolinecolor": "white"
           }
          },
          "shapedefaults": {
           "line": {
            "color": "#2a3f5f"
           }
          },
          "ternary": {
           "aaxis": {
            "gridcolor": "white",
            "linecolor": "white",
            "ticks": ""
           },
           "baxis": {
            "gridcolor": "white",
            "linecolor": "white",
            "ticks": ""
           },
           "bgcolor": "#E5ECF6",
           "caxis": {
            "gridcolor": "white",
            "linecolor": "white",
            "ticks": ""
           }
          },
          "title": {
           "x": 0.05
          },
          "xaxis": {
           "automargin": true,
           "gridcolor": "white",
           "linecolor": "white",
           "ticks": "",
           "title": {
            "standoff": 15
           },
           "zerolinecolor": "white",
           "zerolinewidth": 2
          },
          "yaxis": {
           "automargin": true,
           "gridcolor": "white",
           "linecolor": "white",
           "ticks": "",
           "title": {
            "standoff": 15
           },
           "zerolinecolor": "white",
           "zerolinewidth": 2
          }
         }
        },
        "title": {
         "text": "Contribution by Channel"
        },
        "width": 950,
        "xaxis": {
         "anchor": "y",
         "domain": [
          0,
          1
         ],
         "title": {
          "text": "Impacts"
         }
        },
        "yaxis": {
         "anchor": "x",
         "categoryarray": [
          "social",
          "referral",
          "paid_search",
          "organic_search",
          "display",
          "direct"
         ],
         "categoryorder": "total ascending",
         "domain": [
          0,
          1
         ],
         "title": {
          "text": "Channel"
         }
        }
       }
      },
      "text/html": [
       "<div>                            <div id=\"0c430c86-2fa9-4c5c-b5fb-44a5e137c526\" class=\"plotly-graph-div\" style=\"height:500px; width:950px;\"></div>            <script type=\"text/javascript\">                require([\"plotly\"], function(Plotly) {                    window.PLOTLYENV=window.PLOTLYENV || {};                                    if (document.getElementById(\"0c430c86-2fa9-4c5c-b5fb-44a5e137c526\")) {                    Plotly.newPlot(                        \"0c430c86-2fa9-4c5c-b5fb-44a5e137c526\",                        [{\"alignmentgroup\":\"True\",\"hovertemplate\":\"Channel=%{y}<br>Impacts=%{x}<extra></extra>\",\"legendgroup\":\"direct\",\"marker\":{\"color\":\"#636efa\",\"pattern\":{\"shape\":\"\"}},\"name\":\"direct\",\"offsetgroup\":\"direct\",\"orientation\":\"h\",\"showlegend\":true,\"textposition\":\"auto\",\"x\":[217.1014168942456],\"xaxis\":\"x\",\"y\":[\"direct\"],\"yaxis\":\"y\",\"type\":\"bar\"},{\"alignmentgroup\":\"True\",\"hovertemplate\":\"Channel=%{y}<br>Impacts=%{x}<extra></extra>\",\"legendgroup\":\"display\",\"marker\":{\"color\":\"#EF553B\",\"pattern\":{\"shape\":\"\"}},\"name\":\"display\",\"offsetgroup\":\"display\",\"orientation\":\"h\",\"showlegend\":true,\"textposition\":\"auto\",\"x\":[11.712272431174501],\"xaxis\":\"x\",\"y\":[\"display\"],\"yaxis\":\"y\",\"type\":\"bar\"},{\"alignmentgroup\":\"True\",\"hovertemplate\":\"Channel=%{y}<br>Impacts=%{x}<extra></extra>\",\"legendgroup\":\"organic_search\",\"marker\":{\"color\":\"#00cc96\",\"pattern\":{\"shape\":\"\"}},\"name\":\"organic_search\",\"offsetgroup\":\"organic_search\",\"orientation\":\"h\",\"showlegend\":true,\"textposition\":\"auto\",\"x\":[409.0496159845936],\"xaxis\":\"x\",\"y\":[\"organic_search\"],\"yaxis\":\"y\",\"type\":\"bar\"},{\"alignmentgroup\":\"True\",\"hovertemplate\":\"Channel=%{y}<br>Impacts=%{x}<extra></extra>\",\"legendgroup\":\"paid_search\",\"marker\":{\"color\":\"#ab63fa\",\"pattern\":{\"shape\":\"\"}},\"name\":\"paid_search\",\"offsetgroup\":\"paid_search\",\"orientation\":\"h\",\"showlegend\":true,\"textposition\":\"auto\",\"x\":[64.445480466374],\"xaxis\":\"x\",\"y\":[\"paid_search\"],\"yaxis\":\"y\",\"type\":\"bar\"},{\"alignmentgroup\":\"True\",\"hovertemplate\":\"Channel=%{y}<br>Impacts=%{x}<extra></extra>\",\"legendgroup\":\"referral\",\"marker\":{\"color\":\"#FFA15A\",\"pattern\":{\"shape\":\"\"}},\"name\":\"referral\",\"offsetgroup\":\"referral\",\"orientation\":\"h\",\"showlegend\":true,\"textposition\":\"auto\",\"x\":[622.5009267196175],\"xaxis\":\"x\",\"y\":[\"referral\"],\"yaxis\":\"y\",\"type\":\"bar\"},{\"alignmentgroup\":\"True\",\"hovertemplate\":\"Channel=%{y}<br>Impacts=%{x}<extra></extra>\",\"legendgroup\":\"social\",\"marker\":{\"color\":\"#19d3f3\",\"pattern\":{\"shape\":\"\"}},\"name\":\"social\",\"offsetgroup\":\"social\",\"orientation\":\"h\",\"showlegend\":true,\"textposition\":\"auto\",\"x\":[12.190287503994849],\"xaxis\":\"x\",\"y\":[\"social\"],\"yaxis\":\"y\",\"type\":\"bar\"}],                        {\"template\":{\"data\":{\"histogram2dcontour\":[{\"type\":\"histogram2dcontour\",\"colorbar\":{\"outlinewidth\":0,\"ticks\":\"\"},\"colorscale\":[[0.0,\"#0d0887\"],[0.1111111111111111,\"#46039f\"],[0.2222222222222222,\"#7201a8\"],[0.3333333333333333,\"#9c179e\"],[0.4444444444444444,\"#bd3786\"],[0.5555555555555556,\"#d8576b\"],[0.6666666666666666,\"#ed7953\"],[0.7777777777777778,\"#fb9f3a\"],[0.8888888888888888,\"#fdca26\"],[1.0,\"#f0f921\"]]}],\"choropleth\":[{\"type\":\"choropleth\",\"colorbar\":{\"outlinewidth\":0,\"ticks\":\"\"}}],\"histogram2d\":[{\"type\":\"histogram2d\",\"colorbar\":{\"outlinewidth\":0,\"ticks\":\"\"},\"colorscale\":[[0.0,\"#0d0887\"],[0.1111111111111111,\"#46039f\"],[0.2222222222222222,\"#7201a8\"],[0.3333333333333333,\"#9c179e\"],[0.4444444444444444,\"#bd3786\"],[0.5555555555555556,\"#d8576b\"],[0.6666666666666666,\"#ed7953\"],[0.7777777777777778,\"#fb9f3a\"],[0.8888888888888888,\"#fdca26\"],[1.0,\"#f0f921\"]]}],\"heatmap\":[{\"type\":\"heatmap\",\"colorbar\":{\"outlinewidth\":0,\"ticks\":\"\"},\"colorscale\":[[0.0,\"#0d0887\"],[0.1111111111111111,\"#46039f\"],[0.2222222222222222,\"#7201a8\"],[0.3333333333333333,\"#9c179e\"],[0.4444444444444444,\"#bd3786\"],[0.5555555555555556,\"#d8576b\"],[0.6666666666666666,\"#ed7953\"],[0.7777777777777778,\"#fb9f3a\"],[0.8888888888888888,\"#fdca26\"],[1.0,\"#f0f921\"]]}],\"heatmapgl\":[{\"type\":\"heatmapgl\",\"colorbar\":{\"outlinewidth\":0,\"ticks\":\"\"},\"colorscale\":[[0.0,\"#0d0887\"],[0.1111111111111111,\"#46039f\"],[0.2222222222222222,\"#7201a8\"],[0.3333333333333333,\"#9c179e\"],[0.4444444444444444,\"#bd3786\"],[0.5555555555555556,\"#d8576b\"],[0.6666666666666666,\"#ed7953\"],[0.7777777777777778,\"#fb9f3a\"],[0.8888888888888888,\"#fdca26\"],[1.0,\"#f0f921\"]]}],\"contourcarpet\":[{\"type\":\"contourcarpet\",\"colorbar\":{\"outlinewidth\":0,\"ticks\":\"\"}}],\"contour\":[{\"type\":\"contour\",\"colorbar\":{\"outlinewidth\":0,\"ticks\":\"\"},\"colorscale\":[[0.0,\"#0d0887\"],[0.1111111111111111,\"#46039f\"],[0.2222222222222222,\"#7201a8\"],[0.3333333333333333,\"#9c179e\"],[0.4444444444444444,\"#bd3786\"],[0.5555555555555556,\"#d8576b\"],[0.6666666666666666,\"#ed7953\"],[0.7777777777777778,\"#fb9f3a\"],[0.8888888888888888,\"#fdca26\"],[1.0,\"#f0f921\"]]}],\"surface\":[{\"type\":\"surface\",\"colorbar\":{\"outlinewidth\":0,\"ticks\":\"\"},\"colorscale\":[[0.0,\"#0d0887\"],[0.1111111111111111,\"#46039f\"],[0.2222222222222222,\"#7201a8\"],[0.3333333333333333,\"#9c179e\"],[0.4444444444444444,\"#bd3786\"],[0.5555555555555556,\"#d8576b\"],[0.6666666666666666,\"#ed7953\"],[0.7777777777777778,\"#fb9f3a\"],[0.8888888888888888,\"#fdca26\"],[1.0,\"#f0f921\"]]}],\"mesh3d\":[{\"type\":\"mesh3d\",\"colorbar\":{\"outlinewidth\":0,\"ticks\":\"\"}}],\"scatter\":[{\"fillpattern\":{\"fillmode\":\"overlay\",\"size\":10,\"solidity\":0.2},\"type\":\"scatter\"}],\"parcoords\":[{\"type\":\"parcoords\",\"line\":{\"colorbar\":{\"outlinewidth\":0,\"ticks\":\"\"}}}],\"scatterpolargl\":[{\"type\":\"scatterpolargl\",\"marker\":{\"colorbar\":{\"outlinewidth\":0,\"ticks\":\"\"}}}],\"bar\":[{\"error_x\":{\"color\":\"#2a3f5f\"},\"error_y\":{\"color\":\"#2a3f5f\"},\"marker\":{\"line\":{\"color\":\"#E5ECF6\",\"width\":0.5},\"pattern\":{\"fillmode\":\"overlay\",\"size\":10,\"solidity\":0.2}},\"type\":\"bar\"}],\"scattergeo\":[{\"type\":\"scattergeo\",\"marker\":{\"colorbar\":{\"outlinewidth\":0,\"ticks\":\"\"}}}],\"scatterpolar\":[{\"type\":\"scatterpolar\",\"marker\":{\"colorbar\":{\"outlinewidth\":0,\"ticks\":\"\"}}}],\"histogram\":[{\"marker\":{\"pattern\":{\"fillmode\":\"overlay\",\"size\":10,\"solidity\":0.2}},\"type\":\"histogram\"}],\"scattergl\":[{\"type\":\"scattergl\",\"marker\":{\"colorbar\":{\"outlinewidth\":0,\"ticks\":\"\"}}}],\"scatter3d\":[{\"type\":\"scatter3d\",\"line\":{\"colorbar\":{\"outlinewidth\":0,\"ticks\":\"\"}},\"marker\":{\"colorbar\":{\"outlinewidth\":0,\"ticks\":\"\"}}}],\"scattermapbox\":[{\"type\":\"scattermapbox\",\"marker\":{\"colorbar\":{\"outlinewidth\":0,\"ticks\":\"\"}}}],\"scatterternary\":[{\"type\":\"scatterternary\",\"marker\":{\"colorbar\":{\"outlinewidth\":0,\"ticks\":\"\"}}}],\"scattercarpet\":[{\"type\":\"scattercarpet\",\"marker\":{\"colorbar\":{\"outlinewidth\":0,\"ticks\":\"\"}}}],\"carpet\":[{\"aaxis\":{\"endlinecolor\":\"#2a3f5f\",\"gridcolor\":\"white\",\"linecolor\":\"white\",\"minorgridcolor\":\"white\",\"startlinecolor\":\"#2a3f5f\"},\"baxis\":{\"endlinecolor\":\"#2a3f5f\",\"gridcolor\":\"white\",\"linecolor\":\"white\",\"minorgridcolor\":\"white\",\"startlinecolor\":\"#2a3f5f\"},\"type\":\"carpet\"}],\"table\":[{\"cells\":{\"fill\":{\"color\":\"#EBF0F8\"},\"line\":{\"color\":\"white\"}},\"header\":{\"fill\":{\"color\":\"#C8D4E3\"},\"line\":{\"color\":\"white\"}},\"type\":\"table\"}],\"barpolar\":[{\"marker\":{\"line\":{\"color\":\"#E5ECF6\",\"width\":0.5},\"pattern\":{\"fillmode\":\"overlay\",\"size\":10,\"solidity\":0.2}},\"type\":\"barpolar\"}],\"pie\":[{\"automargin\":true,\"type\":\"pie\"}]},\"layout\":{\"autotypenumbers\":\"strict\",\"colorway\":[\"#636efa\",\"#EF553B\",\"#00cc96\",\"#ab63fa\",\"#FFA15A\",\"#19d3f3\",\"#FF6692\",\"#B6E880\",\"#FF97FF\",\"#FECB52\"],\"font\":{\"color\":\"#2a3f5f\"},\"hovermode\":\"closest\",\"hoverlabel\":{\"align\":\"left\"},\"paper_bgcolor\":\"white\",\"plot_bgcolor\":\"#E5ECF6\",\"polar\":{\"bgcolor\":\"#E5ECF6\",\"angularaxis\":{\"gridcolor\":\"white\",\"linecolor\":\"white\",\"ticks\":\"\"},\"radialaxis\":{\"gridcolor\":\"white\",\"linecolor\":\"white\",\"ticks\":\"\"}},\"ternary\":{\"bgcolor\":\"#E5ECF6\",\"aaxis\":{\"gridcolor\":\"white\",\"linecolor\":\"white\",\"ticks\":\"\"},\"baxis\":{\"gridcolor\":\"white\",\"linecolor\":\"white\",\"ticks\":\"\"},\"caxis\":{\"gridcolor\":\"white\",\"linecolor\":\"white\",\"ticks\":\"\"}},\"coloraxis\":{\"colorbar\":{\"outlinewidth\":0,\"ticks\":\"\"}},\"colorscale\":{\"sequential\":[[0.0,\"#0d0887\"],[0.1111111111111111,\"#46039f\"],[0.2222222222222222,\"#7201a8\"],[0.3333333333333333,\"#9c179e\"],[0.4444444444444444,\"#bd3786\"],[0.5555555555555556,\"#d8576b\"],[0.6666666666666666,\"#ed7953\"],[0.7777777777777778,\"#fb9f3a\"],[0.8888888888888888,\"#fdca26\"],[1.0,\"#f0f921\"]],\"sequentialminus\":[[0.0,\"#0d0887\"],[0.1111111111111111,\"#46039f\"],[0.2222222222222222,\"#7201a8\"],[0.3333333333333333,\"#9c179e\"],[0.4444444444444444,\"#bd3786\"],[0.5555555555555556,\"#d8576b\"],[0.6666666666666666,\"#ed7953\"],[0.7777777777777778,\"#fb9f3a\"],[0.8888888888888888,\"#fdca26\"],[1.0,\"#f0f921\"]],\"diverging\":[[0,\"#8e0152\"],[0.1,\"#c51b7d\"],[0.2,\"#de77ae\"],[0.3,\"#f1b6da\"],[0.4,\"#fde0ef\"],[0.5,\"#f7f7f7\"],[0.6,\"#e6f5d0\"],[0.7,\"#b8e186\"],[0.8,\"#7fbc41\"],[0.9,\"#4d9221\"],[1,\"#276419\"]]},\"xaxis\":{\"gridcolor\":\"white\",\"linecolor\":\"white\",\"ticks\":\"\",\"title\":{\"standoff\":15},\"zerolinecolor\":\"white\",\"automargin\":true,\"zerolinewidth\":2},\"yaxis\":{\"gridcolor\":\"white\",\"linecolor\":\"white\",\"ticks\":\"\",\"title\":{\"standoff\":15},\"zerolinecolor\":\"white\",\"automargin\":true,\"zerolinewidth\":2},\"scene\":{\"xaxis\":{\"backgroundcolor\":\"#E5ECF6\",\"gridcolor\":\"white\",\"linecolor\":\"white\",\"showbackground\":true,\"ticks\":\"\",\"zerolinecolor\":\"white\",\"gridwidth\":2},\"yaxis\":{\"backgroundcolor\":\"#E5ECF6\",\"gridcolor\":\"white\",\"linecolor\":\"white\",\"showbackground\":true,\"ticks\":\"\",\"zerolinecolor\":\"white\",\"gridwidth\":2},\"zaxis\":{\"backgroundcolor\":\"#E5ECF6\",\"gridcolor\":\"white\",\"linecolor\":\"white\",\"showbackground\":true,\"ticks\":\"\",\"zerolinecolor\":\"white\",\"gridwidth\":2}},\"shapedefaults\":{\"line\":{\"color\":\"#2a3f5f\"}},\"annotationdefaults\":{\"arrowcolor\":\"#2a3f5f\",\"arrowhead\":0,\"arrowwidth\":1},\"geo\":{\"bgcolor\":\"white\",\"landcolor\":\"#E5ECF6\",\"subunitcolor\":\"white\",\"showland\":true,\"showlakes\":true,\"lakecolor\":\"white\"},\"title\":{\"x\":0.05},\"mapbox\":{\"style\":\"light\"}}},\"xaxis\":{\"anchor\":\"y\",\"domain\":[0.0,1.0],\"title\":{\"text\":\"Impacts\"}},\"yaxis\":{\"anchor\":\"x\",\"domain\":[0.0,1.0],\"title\":{\"text\":\"Channel\"},\"categoryorder\":\"total ascending\",\"categoryarray\":[\"social\",\"referral\",\"paid_search\",\"organic_search\",\"display\",\"direct\"]},\"legend\":{\"title\":{\"text\":\"Channel\"},\"tracegroupgap\":0},\"title\":{\"text\":\"Contribution by Channel\"},\"barmode\":\"relative\",\"width\":950,\"height\":500,\"plot_bgcolor\":\"#f2f2f2\"},                        {\"responsive\": true}                    ).then(function(){\n",
       "                            \n",
       "var gd = document.getElementById('0c430c86-2fa9-4c5c-b5fb-44a5e137c526');\n",
       "var x = new MutationObserver(function (mutations, observer) {{\n",
       "        var display = window.getComputedStyle(gd).display;\n",
       "        if (!display || display === 'none') {{\n",
       "            console.log([gd, 'removed!']);\n",
       "            Plotly.purge(gd);\n",
       "            observer.disconnect();\n",
       "        }}\n",
       "}});\n",
       "\n",
       "// Listen for the removal of the full notebook cells\n",
       "var notebookContainer = gd.closest('#notebook-container');\n",
       "if (notebookContainer) {{\n",
       "    x.observe(notebookContainer, {childList: true});\n",
       "}}\n",
       "\n",
       "// Listen for the clearing of the current output cell\n",
       "var outputEl = gd.closest('.output');\n",
       "if (outputEl) {{\n",
       "    x.observe(outputEl, {childList: true});\n",
       "}}\n",
       "\n",
       "                        })                };                });            </script>        </div>"
      ]
     },
     "metadata": {},
     "output_type": "display_data"
    }
   ],
   "source": [
    "## take impact columns and pivot from wide to long\n",
    "impact_cols = [col for col in scored_data_df_final.columns if '_impact' in col]\n",
    "\n",
    "impact_df = pd.melt(scored_data_df_final, id_vars=['sequence_id'], value_vars=impact_cols, var_name='Channel', value_name='Impacts')\n",
    "impact_df = impact_df[impact_df['Impacts']>0]\n",
    "impact_df['Channel'] = impact_df['Channel'].str.replace('_impact','')\n",
    "impact_df_agg = impact_df.groupby(['Channel'],as_index=False).agg(\n",
    "                Impacts=('Impacts','sum')\n",
    ")\n",
    "\n",
    "\n",
    "## make visualization\n",
    "bar_fig = px.bar(impact_df_agg\n",
    "                 ,x='Impacts'\n",
    "                 ,y='Channel'\n",
    "                 ,title='Contribution by Channel'\n",
    "                 ,color='Channel'\n",
    "                 )\n",
    "\n",
    "bar_fig.update_layout(width=950\n",
    "                      ,height=500\n",
    "                      ,yaxis={'categoryorder': 'total ascending'}\n",
    "                      ,plot_bgcolor='#f2f2f2') \n",
    "\n",
    "bar_fig.show()"
   ]
  },
  {
   "cell_type": "markdown",
   "id": "8776d019",
   "metadata": {},
   "source": [
    "#### Contribution per touchpoint by channel"
   ]
  },
  {
   "cell_type": "code",
   "execution_count": 33,
   "id": "a51ed0e6",
   "metadata": {},
   "outputs": [
    {
     "data": {
      "application/vnd.plotly.v1+json": {
       "config": {
        "plotlyServerURL": "https://plot.ly"
       },
       "data": [
        {
         "alignmentgroup": "True",
         "hovertemplate": "Channel=%{y}<br>Contribution_per_Touchpoint=%{x}<extra></extra>",
         "legendgroup": "direct",
         "marker": {
          "color": "#636efa",
          "pattern": {
           "shape": ""
          }
         },
         "name": "direct",
         "offsetgroup": "direct",
         "orientation": "h",
         "showlegend": true,
         "textposition": "auto",
         "type": "bar",
         "x": [
          0.01162524320718852
         ],
         "xaxis": "x",
         "y": [
          "direct"
         ],
         "yaxis": "y"
        },
        {
         "alignmentgroup": "True",
         "hovertemplate": "Channel=%{y}<br>Contribution_per_Touchpoint=%{x}<extra></extra>",
         "legendgroup": "display",
         "marker": {
          "color": "#EF553B",
          "pattern": {
           "shape": ""
          }
         },
         "name": "display",
         "offsetgroup": "display",
         "orientation": "h",
         "showlegend": true,
         "textposition": "auto",
         "type": "bar",
         "x": [
          0.0033301883512011662
         ],
         "xaxis": "x",
         "y": [
          "display"
         ],
         "yaxis": "y"
        },
        {
         "alignmentgroup": "True",
         "hovertemplate": "Channel=%{y}<br>Contribution_per_Touchpoint=%{x}<extra></extra>",
         "legendgroup": "organic_search",
         "marker": {
          "color": "#00cc96",
          "pattern": {
           "shape": ""
          }
         },
         "name": "organic_search",
         "offsetgroup": "organic_search",
         "orientation": "h",
         "showlegend": true,
         "textposition": "auto",
         "type": "bar",
         "x": [
          0.008003788443551638
         ],
         "xaxis": "x",
         "y": [
          "organic_search"
         ],
         "yaxis": "y"
        },
        {
         "alignmentgroup": "True",
         "hovertemplate": "Channel=%{y}<br>Contribution_per_Touchpoint=%{x}<extra></extra>",
         "legendgroup": "paid_search",
         "marker": {
          "color": "#ab63fa",
          "pattern": {
           "shape": ""
          }
         },
         "name": "paid_search",
         "offsetgroup": "paid_search",
         "orientation": "h",
         "showlegend": true,
         "textposition": "auto",
         "type": "bar",
         "x": [
          0.021816344098298576
         ],
         "xaxis": "x",
         "y": [
          "paid_search"
         ],
         "yaxis": "y"
        },
        {
         "alignmentgroup": "True",
         "hovertemplate": "Channel=%{y}<br>Contribution_per_Touchpoint=%{x}<extra></extra>",
         "legendgroup": "referral",
         "marker": {
          "color": "#FFA15A",
          "pattern": {
           "shape": ""
          }
         },
         "name": "referral",
         "offsetgroup": "referral",
         "orientation": "h",
         "showlegend": true,
         "textposition": "auto",
         "type": "bar",
         "x": [
          0.044569408371133205
         ],
         "xaxis": "x",
         "y": [
          "referral"
         ],
         "yaxis": "y"
        },
        {
         "alignmentgroup": "True",
         "hovertemplate": "Channel=%{y}<br>Contribution_per_Touchpoint=%{x}<extra></extra>",
         "legendgroup": "social",
         "marker": {
          "color": "#19d3f3",
          "pattern": {
           "shape": ""
          }
         },
         "name": "social",
         "offsetgroup": "social",
         "orientation": "h",
         "showlegend": true,
         "textposition": "auto",
         "type": "bar",
         "x": [
          0.0004861724297676816
         ],
         "xaxis": "x",
         "y": [
          "social"
         ],
         "yaxis": "y"
        }
       ],
       "layout": {
        "barmode": "relative",
        "height": 500,
        "legend": {
         "title": {
          "text": "Channel"
         },
         "tracegroupgap": 0
        },
        "plot_bgcolor": "#f2f2f2",
        "template": {
         "data": {
          "bar": [
           {
            "error_x": {
             "color": "#2a3f5f"
            },
            "error_y": {
             "color": "#2a3f5f"
            },
            "marker": {
             "line": {
              "color": "#E5ECF6",
              "width": 0.5
             },
             "pattern": {
              "fillmode": "overlay",
              "size": 10,
              "solidity": 0.2
             }
            },
            "type": "bar"
           }
          ],
          "barpolar": [
           {
            "marker": {
             "line": {
              "color": "#E5ECF6",
              "width": 0.5
             },
             "pattern": {
              "fillmode": "overlay",
              "size": 10,
              "solidity": 0.2
             }
            },
            "type": "barpolar"
           }
          ],
          "carpet": [
           {
            "aaxis": {
             "endlinecolor": "#2a3f5f",
             "gridcolor": "white",
             "linecolor": "white",
             "minorgridcolor": "white",
             "startlinecolor": "#2a3f5f"
            },
            "baxis": {
             "endlinecolor": "#2a3f5f",
             "gridcolor": "white",
             "linecolor": "white",
             "minorgridcolor": "white",
             "startlinecolor": "#2a3f5f"
            },
            "type": "carpet"
           }
          ],
          "choropleth": [
           {
            "colorbar": {
             "outlinewidth": 0,
             "ticks": ""
            },
            "type": "choropleth"
           }
          ],
          "contour": [
           {
            "colorbar": {
             "outlinewidth": 0,
             "ticks": ""
            },
            "colorscale": [
             [
              0,
              "#0d0887"
             ],
             [
              0.1111111111111111,
              "#46039f"
             ],
             [
              0.2222222222222222,
              "#7201a8"
             ],
             [
              0.3333333333333333,
              "#9c179e"
             ],
             [
              0.4444444444444444,
              "#bd3786"
             ],
             [
              0.5555555555555556,
              "#d8576b"
             ],
             [
              0.6666666666666666,
              "#ed7953"
             ],
             [
              0.7777777777777778,
              "#fb9f3a"
             ],
             [
              0.8888888888888888,
              "#fdca26"
             ],
             [
              1,
              "#f0f921"
             ]
            ],
            "type": "contour"
           }
          ],
          "contourcarpet": [
           {
            "colorbar": {
             "outlinewidth": 0,
             "ticks": ""
            },
            "type": "contourcarpet"
           }
          ],
          "heatmap": [
           {
            "colorbar": {
             "outlinewidth": 0,
             "ticks": ""
            },
            "colorscale": [
             [
              0,
              "#0d0887"
             ],
             [
              0.1111111111111111,
              "#46039f"
             ],
             [
              0.2222222222222222,
              "#7201a8"
             ],
             [
              0.3333333333333333,
              "#9c179e"
             ],
             [
              0.4444444444444444,
              "#bd3786"
             ],
             [
              0.5555555555555556,
              "#d8576b"
             ],
             [
              0.6666666666666666,
              "#ed7953"
             ],
             [
              0.7777777777777778,
              "#fb9f3a"
             ],
             [
              0.8888888888888888,
              "#fdca26"
             ],
             [
              1,
              "#f0f921"
             ]
            ],
            "type": "heatmap"
           }
          ],
          "heatmapgl": [
           {
            "colorbar": {
             "outlinewidth": 0,
             "ticks": ""
            },
            "colorscale": [
             [
              0,
              "#0d0887"
             ],
             [
              0.1111111111111111,
              "#46039f"
             ],
             [
              0.2222222222222222,
              "#7201a8"
             ],
             [
              0.3333333333333333,
              "#9c179e"
             ],
             [
              0.4444444444444444,
              "#bd3786"
             ],
             [
              0.5555555555555556,
              "#d8576b"
             ],
             [
              0.6666666666666666,
              "#ed7953"
             ],
             [
              0.7777777777777778,
              "#fb9f3a"
             ],
             [
              0.8888888888888888,
              "#fdca26"
             ],
             [
              1,
              "#f0f921"
             ]
            ],
            "type": "heatmapgl"
           }
          ],
          "histogram": [
           {
            "marker": {
             "pattern": {
              "fillmode": "overlay",
              "size": 10,
              "solidity": 0.2
             }
            },
            "type": "histogram"
           }
          ],
          "histogram2d": [
           {
            "colorbar": {
             "outlinewidth": 0,
             "ticks": ""
            },
            "colorscale": [
             [
              0,
              "#0d0887"
             ],
             [
              0.1111111111111111,
              "#46039f"
             ],
             [
              0.2222222222222222,
              "#7201a8"
             ],
             [
              0.3333333333333333,
              "#9c179e"
             ],
             [
              0.4444444444444444,
              "#bd3786"
             ],
             [
              0.5555555555555556,
              "#d8576b"
             ],
             [
              0.6666666666666666,
              "#ed7953"
             ],
             [
              0.7777777777777778,
              "#fb9f3a"
             ],
             [
              0.8888888888888888,
              "#fdca26"
             ],
             [
              1,
              "#f0f921"
             ]
            ],
            "type": "histogram2d"
           }
          ],
          "histogram2dcontour": [
           {
            "colorbar": {
             "outlinewidth": 0,
             "ticks": ""
            },
            "colorscale": [
             [
              0,
              "#0d0887"
             ],
             [
              0.1111111111111111,
              "#46039f"
             ],
             [
              0.2222222222222222,
              "#7201a8"
             ],
             [
              0.3333333333333333,
              "#9c179e"
             ],
             [
              0.4444444444444444,
              "#bd3786"
             ],
             [
              0.5555555555555556,
              "#d8576b"
             ],
             [
              0.6666666666666666,
              "#ed7953"
             ],
             [
              0.7777777777777778,
              "#fb9f3a"
             ],
             [
              0.8888888888888888,
              "#fdca26"
             ],
             [
              1,
              "#f0f921"
             ]
            ],
            "type": "histogram2dcontour"
           }
          ],
          "mesh3d": [
           {
            "colorbar": {
             "outlinewidth": 0,
             "ticks": ""
            },
            "type": "mesh3d"
           }
          ],
          "parcoords": [
           {
            "line": {
             "colorbar": {
              "outlinewidth": 0,
              "ticks": ""
             }
            },
            "type": "parcoords"
           }
          ],
          "pie": [
           {
            "automargin": true,
            "type": "pie"
           }
          ],
          "scatter": [
           {
            "fillpattern": {
             "fillmode": "overlay",
             "size": 10,
             "solidity": 0.2
            },
            "type": "scatter"
           }
          ],
          "scatter3d": [
           {
            "line": {
             "colorbar": {
              "outlinewidth": 0,
              "ticks": ""
             }
            },
            "marker": {
             "colorbar": {
              "outlinewidth": 0,
              "ticks": ""
             }
            },
            "type": "scatter3d"
           }
          ],
          "scattercarpet": [
           {
            "marker": {
             "colorbar": {
              "outlinewidth": 0,
              "ticks": ""
             }
            },
            "type": "scattercarpet"
           }
          ],
          "scattergeo": [
           {
            "marker": {
             "colorbar": {
              "outlinewidth": 0,
              "ticks": ""
             }
            },
            "type": "scattergeo"
           }
          ],
          "scattergl": [
           {
            "marker": {
             "colorbar": {
              "outlinewidth": 0,
              "ticks": ""
             }
            },
            "type": "scattergl"
           }
          ],
          "scattermapbox": [
           {
            "marker": {
             "colorbar": {
              "outlinewidth": 0,
              "ticks": ""
             }
            },
            "type": "scattermapbox"
           }
          ],
          "scatterpolar": [
           {
            "marker": {
             "colorbar": {
              "outlinewidth": 0,
              "ticks": ""
             }
            },
            "type": "scatterpolar"
           }
          ],
          "scatterpolargl": [
           {
            "marker": {
             "colorbar": {
              "outlinewidth": 0,
              "ticks": ""
             }
            },
            "type": "scatterpolargl"
           }
          ],
          "scatterternary": [
           {
            "marker": {
             "colorbar": {
              "outlinewidth": 0,
              "ticks": ""
             }
            },
            "type": "scatterternary"
           }
          ],
          "surface": [
           {
            "colorbar": {
             "outlinewidth": 0,
             "ticks": ""
            },
            "colorscale": [
             [
              0,
              "#0d0887"
             ],
             [
              0.1111111111111111,
              "#46039f"
             ],
             [
              0.2222222222222222,
              "#7201a8"
             ],
             [
              0.3333333333333333,
              "#9c179e"
             ],
             [
              0.4444444444444444,
              "#bd3786"
             ],
             [
              0.5555555555555556,
              "#d8576b"
             ],
             [
              0.6666666666666666,
              "#ed7953"
             ],
             [
              0.7777777777777778,
              "#fb9f3a"
             ],
             [
              0.8888888888888888,
              "#fdca26"
             ],
             [
              1,
              "#f0f921"
             ]
            ],
            "type": "surface"
           }
          ],
          "table": [
           {
            "cells": {
             "fill": {
              "color": "#EBF0F8"
             },
             "line": {
              "color": "white"
             }
            },
            "header": {
             "fill": {
              "color": "#C8D4E3"
             },
             "line": {
              "color": "white"
             }
            },
            "type": "table"
           }
          ]
         },
         "layout": {
          "annotationdefaults": {
           "arrowcolor": "#2a3f5f",
           "arrowhead": 0,
           "arrowwidth": 1
          },
          "autotypenumbers": "strict",
          "coloraxis": {
           "colorbar": {
            "outlinewidth": 0,
            "ticks": ""
           }
          },
          "colorscale": {
           "diverging": [
            [
             0,
             "#8e0152"
            ],
            [
             0.1,
             "#c51b7d"
            ],
            [
             0.2,
             "#de77ae"
            ],
            [
             0.3,
             "#f1b6da"
            ],
            [
             0.4,
             "#fde0ef"
            ],
            [
             0.5,
             "#f7f7f7"
            ],
            [
             0.6,
             "#e6f5d0"
            ],
            [
             0.7,
             "#b8e186"
            ],
            [
             0.8,
             "#7fbc41"
            ],
            [
             0.9,
             "#4d9221"
            ],
            [
             1,
             "#276419"
            ]
           ],
           "sequential": [
            [
             0,
             "#0d0887"
            ],
            [
             0.1111111111111111,
             "#46039f"
            ],
            [
             0.2222222222222222,
             "#7201a8"
            ],
            [
             0.3333333333333333,
             "#9c179e"
            ],
            [
             0.4444444444444444,
             "#bd3786"
            ],
            [
             0.5555555555555556,
             "#d8576b"
            ],
            [
             0.6666666666666666,
             "#ed7953"
            ],
            [
             0.7777777777777778,
             "#fb9f3a"
            ],
            [
             0.8888888888888888,
             "#fdca26"
            ],
            [
             1,
             "#f0f921"
            ]
           ],
           "sequentialminus": [
            [
             0,
             "#0d0887"
            ],
            [
             0.1111111111111111,
             "#46039f"
            ],
            [
             0.2222222222222222,
             "#7201a8"
            ],
            [
             0.3333333333333333,
             "#9c179e"
            ],
            [
             0.4444444444444444,
             "#bd3786"
            ],
            [
             0.5555555555555556,
             "#d8576b"
            ],
            [
             0.6666666666666666,
             "#ed7953"
            ],
            [
             0.7777777777777778,
             "#fb9f3a"
            ],
            [
             0.8888888888888888,
             "#fdca26"
            ],
            [
             1,
             "#f0f921"
            ]
           ]
          },
          "colorway": [
           "#636efa",
           "#EF553B",
           "#00cc96",
           "#ab63fa",
           "#FFA15A",
           "#19d3f3",
           "#FF6692",
           "#B6E880",
           "#FF97FF",
           "#FECB52"
          ],
          "font": {
           "color": "#2a3f5f"
          },
          "geo": {
           "bgcolor": "white",
           "lakecolor": "white",
           "landcolor": "#E5ECF6",
           "showlakes": true,
           "showland": true,
           "subunitcolor": "white"
          },
          "hoverlabel": {
           "align": "left"
          },
          "hovermode": "closest",
          "mapbox": {
           "style": "light"
          },
          "paper_bgcolor": "white",
          "plot_bgcolor": "#E5ECF6",
          "polar": {
           "angularaxis": {
            "gridcolor": "white",
            "linecolor": "white",
            "ticks": ""
           },
           "bgcolor": "#E5ECF6",
           "radialaxis": {
            "gridcolor": "white",
            "linecolor": "white",
            "ticks": ""
           }
          },
          "scene": {
           "xaxis": {
            "backgroundcolor": "#E5ECF6",
            "gridcolor": "white",
            "gridwidth": 2,
            "linecolor": "white",
            "showbackground": true,
            "ticks": "",
            "zerolinecolor": "white"
           },
           "yaxis": {
            "backgroundcolor": "#E5ECF6",
            "gridcolor": "white",
            "gridwidth": 2,
            "linecolor": "white",
            "showbackground": true,
            "ticks": "",
            "zerolinecolor": "white"
           },
           "zaxis": {
            "backgroundcolor": "#E5ECF6",
            "gridcolor": "white",
            "gridwidth": 2,
            "linecolor": "white",
            "showbackground": true,
            "ticks": "",
            "zerolinecolor": "white"
           }
          },
          "shapedefaults": {
           "line": {
            "color": "#2a3f5f"
           }
          },
          "ternary": {
           "aaxis": {
            "gridcolor": "white",
            "linecolor": "white",
            "ticks": ""
           },
           "baxis": {
            "gridcolor": "white",
            "linecolor": "white",
            "ticks": ""
           },
           "bgcolor": "#E5ECF6",
           "caxis": {
            "gridcolor": "white",
            "linecolor": "white",
            "ticks": ""
           }
          },
          "title": {
           "x": 0.05
          },
          "xaxis": {
           "automargin": true,
           "gridcolor": "white",
           "linecolor": "white",
           "ticks": "",
           "title": {
            "standoff": 15
           },
           "zerolinecolor": "white",
           "zerolinewidth": 2
          },
          "yaxis": {
           "automargin": true,
           "gridcolor": "white",
           "linecolor": "white",
           "ticks": "",
           "title": {
            "standoff": 15
           },
           "zerolinecolor": "white",
           "zerolinewidth": 2
          }
         }
        },
        "title": {
         "text": "Contribution per Touchpoint by Channel"
        },
        "width": 950,
        "xaxis": {
         "anchor": "y",
         "domain": [
          0,
          1
         ],
         "title": {
          "text": "Contribution_per_Touchpoint"
         }
        },
        "yaxis": {
         "anchor": "x",
         "categoryarray": [
          "social",
          "referral",
          "paid_search",
          "organic_search",
          "display",
          "direct"
         ],
         "categoryorder": "total ascending",
         "domain": [
          0,
          1
         ],
         "title": {
          "text": "Channel"
         }
        }
       }
      },
      "text/html": [
       "<div>                            <div id=\"066918e8-e338-45d1-8f2c-f7e133e5fd3b\" class=\"plotly-graph-div\" style=\"height:500px; width:950px;\"></div>            <script type=\"text/javascript\">                require([\"plotly\"], function(Plotly) {                    window.PLOTLYENV=window.PLOTLYENV || {};                                    if (document.getElementById(\"066918e8-e338-45d1-8f2c-f7e133e5fd3b\")) {                    Plotly.newPlot(                        \"066918e8-e338-45d1-8f2c-f7e133e5fd3b\",                        [{\"alignmentgroup\":\"True\",\"hovertemplate\":\"Channel=%{y}<br>Contribution_per_Touchpoint=%{x}<extra></extra>\",\"legendgroup\":\"direct\",\"marker\":{\"color\":\"#636efa\",\"pattern\":{\"shape\":\"\"}},\"name\":\"direct\",\"offsetgroup\":\"direct\",\"orientation\":\"h\",\"showlegend\":true,\"textposition\":\"auto\",\"x\":[0.01162524320718852],\"xaxis\":\"x\",\"y\":[\"direct\"],\"yaxis\":\"y\",\"type\":\"bar\"},{\"alignmentgroup\":\"True\",\"hovertemplate\":\"Channel=%{y}<br>Contribution_per_Touchpoint=%{x}<extra></extra>\",\"legendgroup\":\"display\",\"marker\":{\"color\":\"#EF553B\",\"pattern\":{\"shape\":\"\"}},\"name\":\"display\",\"offsetgroup\":\"display\",\"orientation\":\"h\",\"showlegend\":true,\"textposition\":\"auto\",\"x\":[0.0033301883512011662],\"xaxis\":\"x\",\"y\":[\"display\"],\"yaxis\":\"y\",\"type\":\"bar\"},{\"alignmentgroup\":\"True\",\"hovertemplate\":\"Channel=%{y}<br>Contribution_per_Touchpoint=%{x}<extra></extra>\",\"legendgroup\":\"organic_search\",\"marker\":{\"color\":\"#00cc96\",\"pattern\":{\"shape\":\"\"}},\"name\":\"organic_search\",\"offsetgroup\":\"organic_search\",\"orientation\":\"h\",\"showlegend\":true,\"textposition\":\"auto\",\"x\":[0.008003788443551638],\"xaxis\":\"x\",\"y\":[\"organic_search\"],\"yaxis\":\"y\",\"type\":\"bar\"},{\"alignmentgroup\":\"True\",\"hovertemplate\":\"Channel=%{y}<br>Contribution_per_Touchpoint=%{x}<extra></extra>\",\"legendgroup\":\"paid_search\",\"marker\":{\"color\":\"#ab63fa\",\"pattern\":{\"shape\":\"\"}},\"name\":\"paid_search\",\"offsetgroup\":\"paid_search\",\"orientation\":\"h\",\"showlegend\":true,\"textposition\":\"auto\",\"x\":[0.021816344098298576],\"xaxis\":\"x\",\"y\":[\"paid_search\"],\"yaxis\":\"y\",\"type\":\"bar\"},{\"alignmentgroup\":\"True\",\"hovertemplate\":\"Channel=%{y}<br>Contribution_per_Touchpoint=%{x}<extra></extra>\",\"legendgroup\":\"referral\",\"marker\":{\"color\":\"#FFA15A\",\"pattern\":{\"shape\":\"\"}},\"name\":\"referral\",\"offsetgroup\":\"referral\",\"orientation\":\"h\",\"showlegend\":true,\"textposition\":\"auto\",\"x\":[0.044569408371133205],\"xaxis\":\"x\",\"y\":[\"referral\"],\"yaxis\":\"y\",\"type\":\"bar\"},{\"alignmentgroup\":\"True\",\"hovertemplate\":\"Channel=%{y}<br>Contribution_per_Touchpoint=%{x}<extra></extra>\",\"legendgroup\":\"social\",\"marker\":{\"color\":\"#19d3f3\",\"pattern\":{\"shape\":\"\"}},\"name\":\"social\",\"offsetgroup\":\"social\",\"orientation\":\"h\",\"showlegend\":true,\"textposition\":\"auto\",\"x\":[0.0004861724297676816],\"xaxis\":\"x\",\"y\":[\"social\"],\"yaxis\":\"y\",\"type\":\"bar\"}],                        {\"template\":{\"data\":{\"histogram2dcontour\":[{\"type\":\"histogram2dcontour\",\"colorbar\":{\"outlinewidth\":0,\"ticks\":\"\"},\"colorscale\":[[0.0,\"#0d0887\"],[0.1111111111111111,\"#46039f\"],[0.2222222222222222,\"#7201a8\"],[0.3333333333333333,\"#9c179e\"],[0.4444444444444444,\"#bd3786\"],[0.5555555555555556,\"#d8576b\"],[0.6666666666666666,\"#ed7953\"],[0.7777777777777778,\"#fb9f3a\"],[0.8888888888888888,\"#fdca26\"],[1.0,\"#f0f921\"]]}],\"choropleth\":[{\"type\":\"choropleth\",\"colorbar\":{\"outlinewidth\":0,\"ticks\":\"\"}}],\"histogram2d\":[{\"type\":\"histogram2d\",\"colorbar\":{\"outlinewidth\":0,\"ticks\":\"\"},\"colorscale\":[[0.0,\"#0d0887\"],[0.1111111111111111,\"#46039f\"],[0.2222222222222222,\"#7201a8\"],[0.3333333333333333,\"#9c179e\"],[0.4444444444444444,\"#bd3786\"],[0.5555555555555556,\"#d8576b\"],[0.6666666666666666,\"#ed7953\"],[0.7777777777777778,\"#fb9f3a\"],[0.8888888888888888,\"#fdca26\"],[1.0,\"#f0f921\"]]}],\"heatmap\":[{\"type\":\"heatmap\",\"colorbar\":{\"outlinewidth\":0,\"ticks\":\"\"},\"colorscale\":[[0.0,\"#0d0887\"],[0.1111111111111111,\"#46039f\"],[0.2222222222222222,\"#7201a8\"],[0.3333333333333333,\"#9c179e\"],[0.4444444444444444,\"#bd3786\"],[0.5555555555555556,\"#d8576b\"],[0.6666666666666666,\"#ed7953\"],[0.7777777777777778,\"#fb9f3a\"],[0.8888888888888888,\"#fdca26\"],[1.0,\"#f0f921\"]]}],\"heatmapgl\":[{\"type\":\"heatmapgl\",\"colorbar\":{\"outlinewidth\":0,\"ticks\":\"\"},\"colorscale\":[[0.0,\"#0d0887\"],[0.1111111111111111,\"#46039f\"],[0.2222222222222222,\"#7201a8\"],[0.3333333333333333,\"#9c179e\"],[0.4444444444444444,\"#bd3786\"],[0.5555555555555556,\"#d8576b\"],[0.6666666666666666,\"#ed7953\"],[0.7777777777777778,\"#fb9f3a\"],[0.8888888888888888,\"#fdca26\"],[1.0,\"#f0f921\"]]}],\"contourcarpet\":[{\"type\":\"contourcarpet\",\"colorbar\":{\"outlinewidth\":0,\"ticks\":\"\"}}],\"contour\":[{\"type\":\"contour\",\"colorbar\":{\"outlinewidth\":0,\"ticks\":\"\"},\"colorscale\":[[0.0,\"#0d0887\"],[0.1111111111111111,\"#46039f\"],[0.2222222222222222,\"#7201a8\"],[0.3333333333333333,\"#9c179e\"],[0.4444444444444444,\"#bd3786\"],[0.5555555555555556,\"#d8576b\"],[0.6666666666666666,\"#ed7953\"],[0.7777777777777778,\"#fb9f3a\"],[0.8888888888888888,\"#fdca26\"],[1.0,\"#f0f921\"]]}],\"surface\":[{\"type\":\"surface\",\"colorbar\":{\"outlinewidth\":0,\"ticks\":\"\"},\"colorscale\":[[0.0,\"#0d0887\"],[0.1111111111111111,\"#46039f\"],[0.2222222222222222,\"#7201a8\"],[0.3333333333333333,\"#9c179e\"],[0.4444444444444444,\"#bd3786\"],[0.5555555555555556,\"#d8576b\"],[0.6666666666666666,\"#ed7953\"],[0.7777777777777778,\"#fb9f3a\"],[0.8888888888888888,\"#fdca26\"],[1.0,\"#f0f921\"]]}],\"mesh3d\":[{\"type\":\"mesh3d\",\"colorbar\":{\"outlinewidth\":0,\"ticks\":\"\"}}],\"scatter\":[{\"fillpattern\":{\"fillmode\":\"overlay\",\"size\":10,\"solidity\":0.2},\"type\":\"scatter\"}],\"parcoords\":[{\"type\":\"parcoords\",\"line\":{\"colorbar\":{\"outlinewidth\":0,\"ticks\":\"\"}}}],\"scatterpolargl\":[{\"type\":\"scatterpolargl\",\"marker\":{\"colorbar\":{\"outlinewidth\":0,\"ticks\":\"\"}}}],\"bar\":[{\"error_x\":{\"color\":\"#2a3f5f\"},\"error_y\":{\"color\":\"#2a3f5f\"},\"marker\":{\"line\":{\"color\":\"#E5ECF6\",\"width\":0.5},\"pattern\":{\"fillmode\":\"overlay\",\"size\":10,\"solidity\":0.2}},\"type\":\"bar\"}],\"scattergeo\":[{\"type\":\"scattergeo\",\"marker\":{\"colorbar\":{\"outlinewidth\":0,\"ticks\":\"\"}}}],\"scatterpolar\":[{\"type\":\"scatterpolar\",\"marker\":{\"colorbar\":{\"outlinewidth\":0,\"ticks\":\"\"}}}],\"histogram\":[{\"marker\":{\"pattern\":{\"fillmode\":\"overlay\",\"size\":10,\"solidity\":0.2}},\"type\":\"histogram\"}],\"scattergl\":[{\"type\":\"scattergl\",\"marker\":{\"colorbar\":{\"outlinewidth\":0,\"ticks\":\"\"}}}],\"scatter3d\":[{\"type\":\"scatter3d\",\"line\":{\"colorbar\":{\"outlinewidth\":0,\"ticks\":\"\"}},\"marker\":{\"colorbar\":{\"outlinewidth\":0,\"ticks\":\"\"}}}],\"scattermapbox\":[{\"type\":\"scattermapbox\",\"marker\":{\"colorbar\":{\"outlinewidth\":0,\"ticks\":\"\"}}}],\"scatterternary\":[{\"type\":\"scatterternary\",\"marker\":{\"colorbar\":{\"outlinewidth\":0,\"ticks\":\"\"}}}],\"scattercarpet\":[{\"type\":\"scattercarpet\",\"marker\":{\"colorbar\":{\"outlinewidth\":0,\"ticks\":\"\"}}}],\"carpet\":[{\"aaxis\":{\"endlinecolor\":\"#2a3f5f\",\"gridcolor\":\"white\",\"linecolor\":\"white\",\"minorgridcolor\":\"white\",\"startlinecolor\":\"#2a3f5f\"},\"baxis\":{\"endlinecolor\":\"#2a3f5f\",\"gridcolor\":\"white\",\"linecolor\":\"white\",\"minorgridcolor\":\"white\",\"startlinecolor\":\"#2a3f5f\"},\"type\":\"carpet\"}],\"table\":[{\"cells\":{\"fill\":{\"color\":\"#EBF0F8\"},\"line\":{\"color\":\"white\"}},\"header\":{\"fill\":{\"color\":\"#C8D4E3\"},\"line\":{\"color\":\"white\"}},\"type\":\"table\"}],\"barpolar\":[{\"marker\":{\"line\":{\"color\":\"#E5ECF6\",\"width\":0.5},\"pattern\":{\"fillmode\":\"overlay\",\"size\":10,\"solidity\":0.2}},\"type\":\"barpolar\"}],\"pie\":[{\"automargin\":true,\"type\":\"pie\"}]},\"layout\":{\"autotypenumbers\":\"strict\",\"colorway\":[\"#636efa\",\"#EF553B\",\"#00cc96\",\"#ab63fa\",\"#FFA15A\",\"#19d3f3\",\"#FF6692\",\"#B6E880\",\"#FF97FF\",\"#FECB52\"],\"font\":{\"color\":\"#2a3f5f\"},\"hovermode\":\"closest\",\"hoverlabel\":{\"align\":\"left\"},\"paper_bgcolor\":\"white\",\"plot_bgcolor\":\"#E5ECF6\",\"polar\":{\"bgcolor\":\"#E5ECF6\",\"angularaxis\":{\"gridcolor\":\"white\",\"linecolor\":\"white\",\"ticks\":\"\"},\"radialaxis\":{\"gridcolor\":\"white\",\"linecolor\":\"white\",\"ticks\":\"\"}},\"ternary\":{\"bgcolor\":\"#E5ECF6\",\"aaxis\":{\"gridcolor\":\"white\",\"linecolor\":\"white\",\"ticks\":\"\"},\"baxis\":{\"gridcolor\":\"white\",\"linecolor\":\"white\",\"ticks\":\"\"},\"caxis\":{\"gridcolor\":\"white\",\"linecolor\":\"white\",\"ticks\":\"\"}},\"coloraxis\":{\"colorbar\":{\"outlinewidth\":0,\"ticks\":\"\"}},\"colorscale\":{\"sequential\":[[0.0,\"#0d0887\"],[0.1111111111111111,\"#46039f\"],[0.2222222222222222,\"#7201a8\"],[0.3333333333333333,\"#9c179e\"],[0.4444444444444444,\"#bd3786\"],[0.5555555555555556,\"#d8576b\"],[0.6666666666666666,\"#ed7953\"],[0.7777777777777778,\"#fb9f3a\"],[0.8888888888888888,\"#fdca26\"],[1.0,\"#f0f921\"]],\"sequentialminus\":[[0.0,\"#0d0887\"],[0.1111111111111111,\"#46039f\"],[0.2222222222222222,\"#7201a8\"],[0.3333333333333333,\"#9c179e\"],[0.4444444444444444,\"#bd3786\"],[0.5555555555555556,\"#d8576b\"],[0.6666666666666666,\"#ed7953\"],[0.7777777777777778,\"#fb9f3a\"],[0.8888888888888888,\"#fdca26\"],[1.0,\"#f0f921\"]],\"diverging\":[[0,\"#8e0152\"],[0.1,\"#c51b7d\"],[0.2,\"#de77ae\"],[0.3,\"#f1b6da\"],[0.4,\"#fde0ef\"],[0.5,\"#f7f7f7\"],[0.6,\"#e6f5d0\"],[0.7,\"#b8e186\"],[0.8,\"#7fbc41\"],[0.9,\"#4d9221\"],[1,\"#276419\"]]},\"xaxis\":{\"gridcolor\":\"white\",\"linecolor\":\"white\",\"ticks\":\"\",\"title\":{\"standoff\":15},\"zerolinecolor\":\"white\",\"automargin\":true,\"zerolinewidth\":2},\"yaxis\":{\"gridcolor\":\"white\",\"linecolor\":\"white\",\"ticks\":\"\",\"title\":{\"standoff\":15},\"zerolinecolor\":\"white\",\"automargin\":true,\"zerolinewidth\":2},\"scene\":{\"xaxis\":{\"backgroundcolor\":\"#E5ECF6\",\"gridcolor\":\"white\",\"linecolor\":\"white\",\"showbackground\":true,\"ticks\":\"\",\"zerolinecolor\":\"white\",\"gridwidth\":2},\"yaxis\":{\"backgroundcolor\":\"#E5ECF6\",\"gridcolor\":\"white\",\"linecolor\":\"white\",\"showbackground\":true,\"ticks\":\"\",\"zerolinecolor\":\"white\",\"gridwidth\":2},\"zaxis\":{\"backgroundcolor\":\"#E5ECF6\",\"gridcolor\":\"white\",\"linecolor\":\"white\",\"showbackground\":true,\"ticks\":\"\",\"zerolinecolor\":\"white\",\"gridwidth\":2}},\"shapedefaults\":{\"line\":{\"color\":\"#2a3f5f\"}},\"annotationdefaults\":{\"arrowcolor\":\"#2a3f5f\",\"arrowhead\":0,\"arrowwidth\":1},\"geo\":{\"bgcolor\":\"white\",\"landcolor\":\"#E5ECF6\",\"subunitcolor\":\"white\",\"showland\":true,\"showlakes\":true,\"lakecolor\":\"white\"},\"title\":{\"x\":0.05},\"mapbox\":{\"style\":\"light\"}}},\"xaxis\":{\"anchor\":\"y\",\"domain\":[0.0,1.0],\"title\":{\"text\":\"Contribution_per_Touchpoint\"}},\"yaxis\":{\"anchor\":\"x\",\"domain\":[0.0,1.0],\"title\":{\"text\":\"Channel\"},\"categoryorder\":\"total ascending\",\"categoryarray\":[\"social\",\"referral\",\"paid_search\",\"organic_search\",\"display\",\"direct\"]},\"legend\":{\"title\":{\"text\":\"Channel\"},\"tracegroupgap\":0},\"title\":{\"text\":\"Contribution per Touchpoint by Channel\"},\"barmode\":\"relative\",\"width\":950,\"height\":500,\"plot_bgcolor\":\"#f2f2f2\"},                        {\"responsive\": true}                    ).then(function(){\n",
       "                            \n",
       "var gd = document.getElementById('066918e8-e338-45d1-8f2c-f7e133e5fd3b');\n",
       "var x = new MutationObserver(function (mutations, observer) {{\n",
       "        var display = window.getComputedStyle(gd).display;\n",
       "        if (!display || display === 'none') {{\n",
       "            console.log([gd, 'removed!']);\n",
       "            Plotly.purge(gd);\n",
       "            observer.disconnect();\n",
       "        }}\n",
       "}});\n",
       "\n",
       "// Listen for the removal of the full notebook cells\n",
       "var notebookContainer = gd.closest('#notebook-container');\n",
       "if (notebookContainer) {{\n",
       "    x.observe(notebookContainer, {childList: true});\n",
       "}}\n",
       "\n",
       "// Listen for the clearing of the current output cell\n",
       "var outputEl = gd.closest('.output');\n",
       "if (outputEl) {{\n",
       "    x.observe(outputEl, {childList: true});\n",
       "}}\n",
       "\n",
       "                        })                };                });            </script>        </div>"
      ]
     },
     "metadata": {},
     "output_type": "display_data"
    }
   ],
   "source": [
    "## look at columns with at least one conversion\n",
    "activity_cols = ['direct','display','organic_search','paid_search','referral','social']\n",
    "\n",
    "activity_df = pd.melt(scored_data_df_final, id_vars=['sequence_id'], value_vars=activity_cols, var_name='Channel', value_name='Touchpoints')\n",
    "activity_df = activity_df[activity_df['Touchpoints']>0]\n",
    "activity_df_agg = activity_df.groupby(['Channel'],as_index=False).agg(\n",
    "                Touchpoints=('Touchpoints','sum')\n",
    ")\n",
    "\n",
    "##\n",
    "\n",
    "agg_df = activity_df_agg.merge(impact_df_agg, on = 'Channel', how ='left')\n",
    "agg_df['Contribution_per_Touchpoint'] = agg_df['Impacts'] / agg_df['Touchpoints']\n",
    "\n",
    "\n",
    "## make visualization\n",
    "bar_fig = px.bar(agg_df\n",
    "                 ,x='Contribution_per_Touchpoint'\n",
    "                 ,y='Channel'\n",
    "                 ,title='Contribution per Touchpoint by Channel'\n",
    "                 ,color='Channel'\n",
    "                 )\n",
    "\n",
    "bar_fig.update_layout(width=950\n",
    "                      ,height=500\n",
    "                      ,yaxis={'categoryorder': 'total ascending'}\n",
    "                      ,plot_bgcolor='#f2f2f2') \n",
    "\n",
    "bar_fig.show()"
   ]
  },
  {
   "cell_type": "markdown",
   "id": "b5ec1d3f",
   "metadata": {},
   "source": [
    "For paid channels (e.g. paid search and display) it could make sense to calculate return on investments. \n",
    "\n",
    "For example what if:\n",
    "- Paid Search cost 2 dollars per touchpoint \n",
    "- Display cost .25 cents per touchpoint\n",
    "- My revenue per conversion is $250\n",
    "\n",
    "Is Paid search still more efficient / a better investment than display?"
   ]
  },
  {
   "cell_type": "code",
   "execution_count": 118,
   "id": "d9aa43af",
   "metadata": {},
   "outputs": [],
   "source": [
    "display_cost = agg_df.loc[agg_df['Channel']=='display','Touchpoints']*.25\n",
    "display_revenue = agg_df.loc[agg_df['Channel']=='display','Impacts']*250\n",
    "paid_search_cost = agg_df.loc[agg_df['Channel']=='paid_search','Touchpoints']*2\n",
    "paid_search_revenue = agg_df.loc[agg_df['Channel']=='paid_search','Impacts']*250\n",
    "\n",
    "display_roi = display_revenue / display_cost\n",
    "paid_search_roi = paid_search_revenue / paid_search_cost"
   ]
  },
  {
   "cell_type": "code",
   "execution_count": 119,
   "id": "6c52c37b",
   "metadata": {},
   "outputs": [
    {
     "name": "stdout",
     "output_type": "stream",
     "text": [
      "For every one dollar I spend in Display I make back $3.33\n"
     ]
    }
   ],
   "source": [
    "print(\"For every one dollar I spend in Display I make back ${:.2f}\".format(float(display_roi)))"
   ]
  },
  {
   "cell_type": "code",
   "execution_count": 120,
   "id": "5f813697",
   "metadata": {},
   "outputs": [
    {
     "name": "stdout",
     "output_type": "stream",
     "text": [
      "For every one dollar I spend in Paid Search I make back $2.73\n"
     ]
    }
   ],
   "source": [
    "print(\"For every one dollar I spend in Paid Search I make back ${:.2f}\".format(float(paid_search_roi)))"
   ]
  },
  {
   "cell_type": "markdown",
   "id": "a14c2c69",
   "metadata": {},
   "source": [
    "Another insight that might be relevant is effectiveness over time? For example, as the paid search team is testing new keywords or new campaigns monitoring the attribution effectiveness could be useful for them."
   ]
  },
  {
   "cell_type": "code",
   "execution_count": 150,
   "id": "07b55f41",
   "metadata": {},
   "outputs": [
    {
     "data": {
      "text/html": [
       "<div>\n",
       "<style scoped>\n",
       "    .dataframe tbody tr th:only-of-type {\n",
       "        vertical-align: middle;\n",
       "    }\n",
       "\n",
       "    .dataframe tbody tr th {\n",
       "        vertical-align: top;\n",
       "    }\n",
       "\n",
       "    .dataframe thead th {\n",
       "        text-align: right;\n",
       "    }\n",
       "</style>\n",
       "<table border=\"1\" class=\"dataframe\">\n",
       "  <thead>\n",
       "    <tr style=\"text-align: right;\">\n",
       "      <th></th>\n",
       "      <th>sequence_start_month</th>\n",
       "      <th>event_name</th>\n",
       "      <th>touchpoint_count</th>\n",
       "      <th>Impacts</th>\n",
       "      <th>impact_per_touchpoint</th>\n",
       "    </tr>\n",
       "  </thead>\n",
       "  <tbody>\n",
       "    <tr>\n",
       "      <th>0</th>\n",
       "      <td>2016-08</td>\n",
       "      <td>affiliates</td>\n",
       "      <td>177</td>\n",
       "      <td>0.000000</td>\n",
       "      <td>0.000000</td>\n",
       "    </tr>\n",
       "    <tr>\n",
       "      <th>1</th>\n",
       "      <td>2016-08</td>\n",
       "      <td>direct</td>\n",
       "      <td>997</td>\n",
       "      <td>16.904967</td>\n",
       "      <td>0.016956</td>\n",
       "    </tr>\n",
       "    <tr>\n",
       "      <th>2</th>\n",
       "      <td>2016-08</td>\n",
       "      <td>display</td>\n",
       "      <td>49</td>\n",
       "      <td>1.167432</td>\n",
       "      <td>0.023825</td>\n",
       "    </tr>\n",
       "    <tr>\n",
       "      <th>3</th>\n",
       "      <td>2016-08</td>\n",
       "      <td>organic_search</td>\n",
       "      <td>1919</td>\n",
       "      <td>29.281046</td>\n",
       "      <td>0.015258</td>\n",
       "    </tr>\n",
       "    <tr>\n",
       "      <th>4</th>\n",
       "      <td>2016-08</td>\n",
       "      <td>paid_search</td>\n",
       "      <td>176</td>\n",
       "      <td>2.193265</td>\n",
       "      <td>0.012462</td>\n",
       "    </tr>\n",
       "    <tr>\n",
       "      <th>...</th>\n",
       "      <td>...</td>\n",
       "      <td>...</td>\n",
       "      <td>...</td>\n",
       "      <td>...</td>\n",
       "      <td>...</td>\n",
       "    </tr>\n",
       "    <tr>\n",
       "      <th>150</th>\n",
       "      <td>2018-05</td>\n",
       "      <td>direct</td>\n",
       "      <td>2</td>\n",
       "      <td>0.000000</td>\n",
       "      <td>0.000000</td>\n",
       "    </tr>\n",
       "    <tr>\n",
       "      <th>151</th>\n",
       "      <td>2018-05</td>\n",
       "      <td>organic_search</td>\n",
       "      <td>16</td>\n",
       "      <td>0.000000</td>\n",
       "      <td>0.000000</td>\n",
       "    </tr>\n",
       "    <tr>\n",
       "      <th>152</th>\n",
       "      <td>2018-05</td>\n",
       "      <td>paid_search</td>\n",
       "      <td>1</td>\n",
       "      <td>0.000000</td>\n",
       "      <td>0.000000</td>\n",
       "    </tr>\n",
       "    <tr>\n",
       "      <th>153</th>\n",
       "      <td>2018-05</td>\n",
       "      <td>referral</td>\n",
       "      <td>5</td>\n",
       "      <td>0.000000</td>\n",
       "      <td>0.000000</td>\n",
       "    </tr>\n",
       "    <tr>\n",
       "      <th>154</th>\n",
       "      <td>2018-05</td>\n",
       "      <td>social</td>\n",
       "      <td>8</td>\n",
       "      <td>0.000000</td>\n",
       "      <td>0.000000</td>\n",
       "    </tr>\n",
       "  </tbody>\n",
       "</table>\n",
       "<p>155 rows × 5 columns</p>\n",
       "</div>"
      ],
      "text/plain": [
       "    sequence_start_month      event_name  touchpoint_count    Impacts  \\\n",
       "0                2016-08      affiliates               177   0.000000   \n",
       "1                2016-08          direct               997  16.904967   \n",
       "2                2016-08         display                49   1.167432   \n",
       "3                2016-08  organic_search              1919  29.281046   \n",
       "4                2016-08     paid_search               176   2.193265   \n",
       "..                   ...             ...               ...        ...   \n",
       "150              2018-05          direct                 2   0.000000   \n",
       "151              2018-05  organic_search                16   0.000000   \n",
       "152              2018-05     paid_search                 1   0.000000   \n",
       "153              2018-05        referral                 5   0.000000   \n",
       "154              2018-05          social                 8   0.000000   \n",
       "\n",
       "     impact_per_touchpoint  \n",
       "0                 0.000000  \n",
       "1                 0.016956  \n",
       "2                 0.023825  \n",
       "3                 0.015258  \n",
       "4                 0.012462  \n",
       "..                     ...  \n",
       "150               0.000000  \n",
       "151               0.000000  \n",
       "152               0.000000  \n",
       "153               0.000000  \n",
       "154               0.000000  \n",
       "\n",
       "[155 rows x 5 columns]"
      ]
     },
     "execution_count": 150,
     "metadata": {},
     "output_type": "execute_result"
    }
   ],
   "source": [
    "## Data prep\n",
    "\n",
    "# get every sequence ids sequence start month - year\n",
    "sequence_df['event_datetime'] = pd.to_datetime(sequence_df['event_datetime'])\n",
    "\n",
    "sequence_start_df = sequence_df.groupby('sequence_id')['event_datetime'].min().reset_index()\n",
    "\n",
    "sequence_start_df['year-month'] = sequence_start_df['event_datetime'].dt.strftime('%Y-%m')\n",
    "\n",
    "sequence_start_df = sequence_start_df[['sequence_id','year-month']]\n",
    "sequence_start_df.columns = ['sequence_id','sequence_start_month']\n",
    "\n",
    "# Activities by tactic + month\n",
    "sequence_df2 = sequence_df.merge(sequence_start_df, on ='sequence_id', how='left')\n",
    "\n",
    "sequence_df3 = sequence_df2.loc[~sequence_df2['event_name'].isin(['dead_end','conversion']),:]\n",
    "                            \n",
    "touchpoints_month_agg_df = sequence_df3.groupby(['sequence_start_month','event_name'], as_index=False).agg(\n",
    "                touchpoint_count=('sequence_id','count')\n",
    "\n",
    ")\n",
    "\n",
    "touchpoints_month_agg_df.sort_values(by=['sequence_start_month','event_name'], inplace=True)\n",
    "\n",
    "# Conversions by channel + month\n",
    "\n",
    "conversions_month_df1 = scored_data_df_final.merge(sequence_start_df, on='sequence_id',how='left')\n",
    "\n",
    "impact_cols = [col for col in conversions_month_df1.columns if '_impact' in col]\n",
    "\n",
    "conversions_month_df2 = pd.melt(conversions_month_df1, id_vars=['sequence_id','sequence_start_month'], value_vars=impact_cols, var_name='event_name', value_name='Impacts')\n",
    "conversions_month_df2 = conversions_month_df2[conversions_month_df2['Impacts']>0]\n",
    "\n",
    "conversions_month_df2['event_name'] = conversions_month_df2['event_name'].str.replace('_impact','')\n",
    "conversions_month_agg_df = conversions_month_df2.groupby(['sequence_start_month','event_name'],as_index=False).agg(\n",
    "                Impacts=('Impacts','sum')\n",
    ")\n",
    "\n",
    "conversions_month_agg_df.sort_values(by=['sequence_start_month','event_name'], inplace=True)\n",
    "\n",
    "\n",
    "# calculate effectivness per touch overtime\n",
    "month_agg_df = touchpoints_month_agg_df.merge(conversions_month_agg_df, on=['sequence_start_month','event_name'], how='left')\n",
    "month_agg_df = month_agg_df.fillna(0)\n",
    "month_agg_df['impact_per_touchpoint'] = month_agg_df['Impacts']/month_agg_df['touchpoint_count']\n",
    "month_agg_df.head()"
   ]
  },
  {
   "cell_type": "code",
   "execution_count": 153,
   "id": "bedbc9b9",
   "metadata": {},
   "outputs": [
    {
     "data": {
      "application/vnd.plotly.v1+json": {
       "config": {
        "plotlyServerURL": "https://plot.ly"
       },
       "data": [
        {
         "hovertemplate": "event_name=affiliates<br>sequence_start_month=%{x}<br>impact_per_touchpoint=%{y}<extra></extra>",
         "legendgroup": "affiliates",
         "line": {
          "color": "#636efa",
          "dash": "solid"
         },
         "marker": {
          "symbol": "circle"
         },
         "mode": "lines",
         "name": "affiliates",
         "orientation": "v",
         "showlegend": true,
         "type": "scatter",
         "x": [
          "2016-08",
          "2016-09",
          "2016-10",
          "2016-11",
          "2016-12",
          "2017-01",
          "2017-02",
          "2017-03",
          "2017-04",
          "2017-05",
          "2017-06",
          "2017-07",
          "2017-08",
          "2017-09",
          "2017-10",
          "2017-11",
          "2017-12",
          "2018-01",
          "2018-02",
          "2018-03",
          "2018-04",
          "2018-05"
         ],
         "xaxis": "x",
         "y": [
          0,
          0,
          0,
          0,
          0,
          0,
          0,
          0,
          0,
          0,
          0,
          0,
          0,
          0,
          0,
          0,
          0,
          0,
          0,
          0,
          0,
          0
         ],
         "yaxis": "y"
        },
        {
         "hovertemplate": "event_name=direct<br>sequence_start_month=%{x}<br>impact_per_touchpoint=%{y}<extra></extra>",
         "legendgroup": "direct",
         "line": {
          "color": "#EF553B",
          "dash": "solid"
         },
         "marker": {
          "symbol": "circle"
         },
         "mode": "lines",
         "name": "direct",
         "orientation": "v",
         "showlegend": true,
         "type": "scatter",
         "x": [
          "2016-08",
          "2016-09",
          "2016-10",
          "2016-11",
          "2016-12",
          "2017-01",
          "2017-02",
          "2017-03",
          "2017-04",
          "2017-05",
          "2017-06",
          "2017-07",
          "2017-08",
          "2017-09",
          "2017-10",
          "2017-11",
          "2017-12",
          "2018-01",
          "2018-02",
          "2018-03",
          "2018-04",
          "2018-05"
         ],
         "xaxis": "x",
         "y": [
          0.016955834134492066,
          0.014551551279154442,
          0.021653951964313852,
          0.009808516480528306,
          0.013113253381246873,
          0.007603644919360083,
          0.011284167577653756,
          0.016858557215576477,
          0.013652004010381307,
          0.01827689490621775,
          0.012982140607084877,
          0.009009009009009009,
          0.008946621768594528,
          0.005874745720845903,
          0.008960662084444758,
          0.006445926620849861,
          0.005121410634707565,
          0.0038560411311053984,
          0.0014785132075984396,
          0.02314481090860979,
          0.006045949214026602,
          0
         ],
         "yaxis": "y"
        },
        {
         "hovertemplate": "event_name=display<br>sequence_start_month=%{x}<br>impact_per_touchpoint=%{y}<extra></extra>",
         "legendgroup": "display",
         "line": {
          "color": "#00cc96",
          "dash": "solid"
         },
         "marker": {
          "symbol": "circle"
         },
         "mode": "lines",
         "name": "display",
         "orientation": "v",
         "showlegend": true,
         "type": "scatter",
         "x": [
          "2016-08",
          "2016-09",
          "2016-10",
          "2016-11",
          "2016-12",
          "2017-01",
          "2017-02",
          "2017-03",
          "2017-04",
          "2017-05",
          "2017-06",
          "2017-07",
          "2017-08",
          "2017-09",
          "2017-10",
          "2017-11",
          "2017-12",
          "2018-01",
          "2018-02",
          "2018-03",
          "2018-04"
         ],
         "xaxis": "x",
         "y": [
          0.02382513547826474,
          0.011315998568048933,
          0.012216412758972728,
          0.0057098844375949925,
          0.01694915254237288,
          0,
          0.005486002830442392,
          0,
          0,
          0.047619047619047616,
          0,
          0.037037037037037035,
          0.010394716315111775,
          0.001713796058269066,
          0.0008019246190858059,
          0,
          0,
          0,
          0,
          0,
          0
         ],
         "yaxis": "y"
        },
        {
         "hovertemplate": "event_name=organic_search<br>sequence_start_month=%{x}<br>impact_per_touchpoint=%{y}<extra></extra>",
         "legendgroup": "organic_search",
         "line": {
          "color": "#ab63fa",
          "dash": "solid"
         },
         "marker": {
          "symbol": "circle"
         },
         "mode": "lines",
         "name": "organic_search",
         "orientation": "v",
         "showlegend": true,
         "type": "scatter",
         "x": [
          "2016-08",
          "2016-09",
          "2016-10",
          "2016-11",
          "2016-12",
          "2017-01",
          "2017-02",
          "2017-03",
          "2017-04",
          "2017-05",
          "2017-06",
          "2017-07",
          "2017-08",
          "2017-09",
          "2017-10",
          "2017-11",
          "2017-12",
          "2018-01",
          "2018-02",
          "2018-03",
          "2018-04",
          "2018-05"
         ],
         "xaxis": "x",
         "y": [
          0.015258491761246953,
          0.006461846095515876,
          0.011257824001011706,
          0.009893869726252637,
          0.01028244156415344,
          0.012739102290240703,
          0.007518656866515278,
          0.005218787635487756,
          0.008823428097532874,
          0.013333333333333334,
          0.0058206333780469665,
          0.00785977404486487,
          0.009266640852302024,
          0.006601424597396812,
          0.0042834675576864266,
          0.00331606143439014,
          0.006906836277346242,
          0.005683416399720076,
          0.006292109879035374,
          0.005843222493267667,
          0.0073423995353629305,
          0
         ],
         "yaxis": "y"
        },
        {
         "hovertemplate": "event_name=paid_search<br>sequence_start_month=%{x}<br>impact_per_touchpoint=%{y}<extra></extra>",
         "legendgroup": "paid_search",
         "line": {
          "color": "#FFA15A",
          "dash": "solid"
         },
         "marker": {
          "symbol": "circle"
         },
         "mode": "lines",
         "name": "paid_search",
         "orientation": "v",
         "showlegend": true,
         "type": "scatter",
         "x": [
          "2016-08",
          "2016-09",
          "2016-10",
          "2016-11",
          "2016-12",
          "2017-01",
          "2017-02",
          "2017-03",
          "2017-04",
          "2017-05",
          "2017-06",
          "2017-07",
          "2017-08",
          "2017-09",
          "2017-10",
          "2017-11",
          "2017-12",
          "2018-01",
          "2018-02",
          "2018-03",
          "2018-04",
          "2018-05"
         ],
         "xaxis": "x",
         "y": [
          0.01246173317846033,
          0.03057688564932616,
          0.015037593984962405,
          0.006985396776280478,
          0.04297203932133857,
          0.004012573939548486,
          0.013994099034081817,
          0.015625,
          0.048816541231718184,
          0.017857142857142856,
          0.030927835051546393,
          0.024844720496894408,
          0.03382213131332347,
          0.03557642056498852,
          0.019722434720537887,
          0.005040921406111819,
          0.038461538461538464,
          0,
          0.0079833286060899,
          0.017275585974803637,
          0,
          0
         ],
         "yaxis": "y"
        },
        {
         "hovertemplate": "event_name=referral<br>sequence_start_month=%{x}<br>impact_per_touchpoint=%{y}<extra></extra>",
         "legendgroup": "referral",
         "line": {
          "color": "#19d3f3",
          "dash": "solid"
         },
         "marker": {
          "symbol": "circle"
         },
         "mode": "lines",
         "name": "referral",
         "orientation": "v",
         "showlegend": true,
         "type": "scatter",
         "x": [
          "2016-08",
          "2016-09",
          "2016-10",
          "2016-11",
          "2016-12",
          "2017-01",
          "2017-02",
          "2017-03",
          "2017-04",
          "2017-05",
          "2017-06",
          "2017-07",
          "2017-08",
          "2017-09",
          "2017-10",
          "2017-11",
          "2017-12",
          "2018-01",
          "2018-02",
          "2018-03",
          "2018-04",
          "2018-05"
         ],
         "xaxis": "x",
         "y": [
          0.06746180385796222,
          0.06646297028224053,
          0.036802244716365506,
          0.044710085133349446,
          0.06636920021248802,
          0.042958464832473155,
          0.04272846217870687,
          0.04962716634370791,
          0.039063399325873986,
          0.05204074291951946,
          0.06310970552495222,
          0.05367732791790893,
          0.06757300855050045,
          0.03872881378140134,
          0.026674803183013324,
          0.02036153090654934,
          0.023527187327417477,
          0.01730246326655688,
          0.02982148188369057,
          0.018705957475356947,
          0.020244709030035793,
          0
         ],
         "yaxis": "y"
        },
        {
         "hovertemplate": "event_name=social<br>sequence_start_month=%{x}<br>impact_per_touchpoint=%{y}<extra></extra>",
         "legendgroup": "social",
         "line": {
          "color": "#FF6692",
          "dash": "solid"
         },
         "marker": {
          "symbol": "circle"
         },
         "mode": "lines",
         "name": "social",
         "orientation": "v",
         "showlegend": true,
         "type": "scatter",
         "x": [
          "2016-08",
          "2016-09",
          "2016-10",
          "2016-11",
          "2016-12",
          "2017-01",
          "2017-02",
          "2017-03",
          "2017-04",
          "2017-05",
          "2017-06",
          "2017-07",
          "2017-08",
          "2017-09",
          "2017-10",
          "2017-11",
          "2017-12",
          "2018-01",
          "2018-02",
          "2018-03",
          "2018-04",
          "2018-05"
         ],
         "xaxis": "x",
         "y": [
          0.0005676256349883958,
          0,
          0,
          0.0002440214738897023,
          0.0018026933267295364,
          0,
          0.002617801047120419,
          0,
          0.001226993865030675,
          0.0038314176245210726,
          0,
          0.001697792869269949,
          0,
          0,
          0.00004762237030317831,
          0,
          0,
          0,
          0,
          0.0014248055533316135,
          0.0009643201542912247,
          0
         ],
         "yaxis": "y"
        },
        {
         "hovertemplate": "event_name=(other)<br>sequence_start_month=%{x}<br>impact_per_touchpoint=%{y}<extra></extra>",
         "legendgroup": "(other)",
         "line": {
          "color": "#B6E880",
          "dash": "solid"
         },
         "marker": {
          "symbol": "circle"
         },
         "mode": "lines",
         "name": "(other)",
         "orientation": "v",
         "showlegend": true,
         "type": "scatter",
         "x": [
          "2017-03",
          "2017-04"
         ],
         "xaxis": "x",
         "y": [
          0,
          0
         ],
         "yaxis": "y"
        }
       ],
       "layout": {
        "height": 500,
        "legend": {
         "title": {
          "text": "event_name"
         },
         "tracegroupgap": 0
        },
        "plot_bgcolor": "#f2f2f2",
        "template": {
         "data": {
          "bar": [
           {
            "error_x": {
             "color": "#2a3f5f"
            },
            "error_y": {
             "color": "#2a3f5f"
            },
            "marker": {
             "line": {
              "color": "#E5ECF6",
              "width": 0.5
             },
             "pattern": {
              "fillmode": "overlay",
              "size": 10,
              "solidity": 0.2
             }
            },
            "type": "bar"
           }
          ],
          "barpolar": [
           {
            "marker": {
             "line": {
              "color": "#E5ECF6",
              "width": 0.5
             },
             "pattern": {
              "fillmode": "overlay",
              "size": 10,
              "solidity": 0.2
             }
            },
            "type": "barpolar"
           }
          ],
          "carpet": [
           {
            "aaxis": {
             "endlinecolor": "#2a3f5f",
             "gridcolor": "white",
             "linecolor": "white",
             "minorgridcolor": "white",
             "startlinecolor": "#2a3f5f"
            },
            "baxis": {
             "endlinecolor": "#2a3f5f",
             "gridcolor": "white",
             "linecolor": "white",
             "minorgridcolor": "white",
             "startlinecolor": "#2a3f5f"
            },
            "type": "carpet"
           }
          ],
          "choropleth": [
           {
            "colorbar": {
             "outlinewidth": 0,
             "ticks": ""
            },
            "type": "choropleth"
           }
          ],
          "contour": [
           {
            "colorbar": {
             "outlinewidth": 0,
             "ticks": ""
            },
            "colorscale": [
             [
              0,
              "#0d0887"
             ],
             [
              0.1111111111111111,
              "#46039f"
             ],
             [
              0.2222222222222222,
              "#7201a8"
             ],
             [
              0.3333333333333333,
              "#9c179e"
             ],
             [
              0.4444444444444444,
              "#bd3786"
             ],
             [
              0.5555555555555556,
              "#d8576b"
             ],
             [
              0.6666666666666666,
              "#ed7953"
             ],
             [
              0.7777777777777778,
              "#fb9f3a"
             ],
             [
              0.8888888888888888,
              "#fdca26"
             ],
             [
              1,
              "#f0f921"
             ]
            ],
            "type": "contour"
           }
          ],
          "contourcarpet": [
           {
            "colorbar": {
             "outlinewidth": 0,
             "ticks": ""
            },
            "type": "contourcarpet"
           }
          ],
          "heatmap": [
           {
            "colorbar": {
             "outlinewidth": 0,
             "ticks": ""
            },
            "colorscale": [
             [
              0,
              "#0d0887"
             ],
             [
              0.1111111111111111,
              "#46039f"
             ],
             [
              0.2222222222222222,
              "#7201a8"
             ],
             [
              0.3333333333333333,
              "#9c179e"
             ],
             [
              0.4444444444444444,
              "#bd3786"
             ],
             [
              0.5555555555555556,
              "#d8576b"
             ],
             [
              0.6666666666666666,
              "#ed7953"
             ],
             [
              0.7777777777777778,
              "#fb9f3a"
             ],
             [
              0.8888888888888888,
              "#fdca26"
             ],
             [
              1,
              "#f0f921"
             ]
            ],
            "type": "heatmap"
           }
          ],
          "heatmapgl": [
           {
            "colorbar": {
             "outlinewidth": 0,
             "ticks": ""
            },
            "colorscale": [
             [
              0,
              "#0d0887"
             ],
             [
              0.1111111111111111,
              "#46039f"
             ],
             [
              0.2222222222222222,
              "#7201a8"
             ],
             [
              0.3333333333333333,
              "#9c179e"
             ],
             [
              0.4444444444444444,
              "#bd3786"
             ],
             [
              0.5555555555555556,
              "#d8576b"
             ],
             [
              0.6666666666666666,
              "#ed7953"
             ],
             [
              0.7777777777777778,
              "#fb9f3a"
             ],
             [
              0.8888888888888888,
              "#fdca26"
             ],
             [
              1,
              "#f0f921"
             ]
            ],
            "type": "heatmapgl"
           }
          ],
          "histogram": [
           {
            "marker": {
             "pattern": {
              "fillmode": "overlay",
              "size": 10,
              "solidity": 0.2
             }
            },
            "type": "histogram"
           }
          ],
          "histogram2d": [
           {
            "colorbar": {
             "outlinewidth": 0,
             "ticks": ""
            },
            "colorscale": [
             [
              0,
              "#0d0887"
             ],
             [
              0.1111111111111111,
              "#46039f"
             ],
             [
              0.2222222222222222,
              "#7201a8"
             ],
             [
              0.3333333333333333,
              "#9c179e"
             ],
             [
              0.4444444444444444,
              "#bd3786"
             ],
             [
              0.5555555555555556,
              "#d8576b"
             ],
             [
              0.6666666666666666,
              "#ed7953"
             ],
             [
              0.7777777777777778,
              "#fb9f3a"
             ],
             [
              0.8888888888888888,
              "#fdca26"
             ],
             [
              1,
              "#f0f921"
             ]
            ],
            "type": "histogram2d"
           }
          ],
          "histogram2dcontour": [
           {
            "colorbar": {
             "outlinewidth": 0,
             "ticks": ""
            },
            "colorscale": [
             [
              0,
              "#0d0887"
             ],
             [
              0.1111111111111111,
              "#46039f"
             ],
             [
              0.2222222222222222,
              "#7201a8"
             ],
             [
              0.3333333333333333,
              "#9c179e"
             ],
             [
              0.4444444444444444,
              "#bd3786"
             ],
             [
              0.5555555555555556,
              "#d8576b"
             ],
             [
              0.6666666666666666,
              "#ed7953"
             ],
             [
              0.7777777777777778,
              "#fb9f3a"
             ],
             [
              0.8888888888888888,
              "#fdca26"
             ],
             [
              1,
              "#f0f921"
             ]
            ],
            "type": "histogram2dcontour"
           }
          ],
          "mesh3d": [
           {
            "colorbar": {
             "outlinewidth": 0,
             "ticks": ""
            },
            "type": "mesh3d"
           }
          ],
          "parcoords": [
           {
            "line": {
             "colorbar": {
              "outlinewidth": 0,
              "ticks": ""
             }
            },
            "type": "parcoords"
           }
          ],
          "pie": [
           {
            "automargin": true,
            "type": "pie"
           }
          ],
          "scatter": [
           {
            "fillpattern": {
             "fillmode": "overlay",
             "size": 10,
             "solidity": 0.2
            },
            "type": "scatter"
           }
          ],
          "scatter3d": [
           {
            "line": {
             "colorbar": {
              "outlinewidth": 0,
              "ticks": ""
             }
            },
            "marker": {
             "colorbar": {
              "outlinewidth": 0,
              "ticks": ""
             }
            },
            "type": "scatter3d"
           }
          ],
          "scattercarpet": [
           {
            "marker": {
             "colorbar": {
              "outlinewidth": 0,
              "ticks": ""
             }
            },
            "type": "scattercarpet"
           }
          ],
          "scattergeo": [
           {
            "marker": {
             "colorbar": {
              "outlinewidth": 0,
              "ticks": ""
             }
            },
            "type": "scattergeo"
           }
          ],
          "scattergl": [
           {
            "marker": {
             "colorbar": {
              "outlinewidth": 0,
              "ticks": ""
             }
            },
            "type": "scattergl"
           }
          ],
          "scattermapbox": [
           {
            "marker": {
             "colorbar": {
              "outlinewidth": 0,
              "ticks": ""
             }
            },
            "type": "scattermapbox"
           }
          ],
          "scatterpolar": [
           {
            "marker": {
             "colorbar": {
              "outlinewidth": 0,
              "ticks": ""
             }
            },
            "type": "scatterpolar"
           }
          ],
          "scatterpolargl": [
           {
            "marker": {
             "colorbar": {
              "outlinewidth": 0,
              "ticks": ""
             }
            },
            "type": "scatterpolargl"
           }
          ],
          "scatterternary": [
           {
            "marker": {
             "colorbar": {
              "outlinewidth": 0,
              "ticks": ""
             }
            },
            "type": "scatterternary"
           }
          ],
          "surface": [
           {
            "colorbar": {
             "outlinewidth": 0,
             "ticks": ""
            },
            "colorscale": [
             [
              0,
              "#0d0887"
             ],
             [
              0.1111111111111111,
              "#46039f"
             ],
             [
              0.2222222222222222,
              "#7201a8"
             ],
             [
              0.3333333333333333,
              "#9c179e"
             ],
             [
              0.4444444444444444,
              "#bd3786"
             ],
             [
              0.5555555555555556,
              "#d8576b"
             ],
             [
              0.6666666666666666,
              "#ed7953"
             ],
             [
              0.7777777777777778,
              "#fb9f3a"
             ],
             [
              0.8888888888888888,
              "#fdca26"
             ],
             [
              1,
              "#f0f921"
             ]
            ],
            "type": "surface"
           }
          ],
          "table": [
           {
            "cells": {
             "fill": {
              "color": "#EBF0F8"
             },
             "line": {
              "color": "white"
             }
            },
            "header": {
             "fill": {
              "color": "#C8D4E3"
             },
             "line": {
              "color": "white"
             }
            },
            "type": "table"
           }
          ]
         },
         "layout": {
          "annotationdefaults": {
           "arrowcolor": "#2a3f5f",
           "arrowhead": 0,
           "arrowwidth": 1
          },
          "autotypenumbers": "strict",
          "coloraxis": {
           "colorbar": {
            "outlinewidth": 0,
            "ticks": ""
           }
          },
          "colorscale": {
           "diverging": [
            [
             0,
             "#8e0152"
            ],
            [
             0.1,
             "#c51b7d"
            ],
            [
             0.2,
             "#de77ae"
            ],
            [
             0.3,
             "#f1b6da"
            ],
            [
             0.4,
             "#fde0ef"
            ],
            [
             0.5,
             "#f7f7f7"
            ],
            [
             0.6,
             "#e6f5d0"
            ],
            [
             0.7,
             "#b8e186"
            ],
            [
             0.8,
             "#7fbc41"
            ],
            [
             0.9,
             "#4d9221"
            ],
            [
             1,
             "#276419"
            ]
           ],
           "sequential": [
            [
             0,
             "#0d0887"
            ],
            [
             0.1111111111111111,
             "#46039f"
            ],
            [
             0.2222222222222222,
             "#7201a8"
            ],
            [
             0.3333333333333333,
             "#9c179e"
            ],
            [
             0.4444444444444444,
             "#bd3786"
            ],
            [
             0.5555555555555556,
             "#d8576b"
            ],
            [
             0.6666666666666666,
             "#ed7953"
            ],
            [
             0.7777777777777778,
             "#fb9f3a"
            ],
            [
             0.8888888888888888,
             "#fdca26"
            ],
            [
             1,
             "#f0f921"
            ]
           ],
           "sequentialminus": [
            [
             0,
             "#0d0887"
            ],
            [
             0.1111111111111111,
             "#46039f"
            ],
            [
             0.2222222222222222,
             "#7201a8"
            ],
            [
             0.3333333333333333,
             "#9c179e"
            ],
            [
             0.4444444444444444,
             "#bd3786"
            ],
            [
             0.5555555555555556,
             "#d8576b"
            ],
            [
             0.6666666666666666,
             "#ed7953"
            ],
            [
             0.7777777777777778,
             "#fb9f3a"
            ],
            [
             0.8888888888888888,
             "#fdca26"
            ],
            [
             1,
             "#f0f921"
            ]
           ]
          },
          "colorway": [
           "#636efa",
           "#EF553B",
           "#00cc96",
           "#ab63fa",
           "#FFA15A",
           "#19d3f3",
           "#FF6692",
           "#B6E880",
           "#FF97FF",
           "#FECB52"
          ],
          "font": {
           "color": "#2a3f5f"
          },
          "geo": {
           "bgcolor": "white",
           "lakecolor": "white",
           "landcolor": "#E5ECF6",
           "showlakes": true,
           "showland": true,
           "subunitcolor": "white"
          },
          "hoverlabel": {
           "align": "left"
          },
          "hovermode": "closest",
          "mapbox": {
           "style": "light"
          },
          "paper_bgcolor": "white",
          "plot_bgcolor": "#E5ECF6",
          "polar": {
           "angularaxis": {
            "gridcolor": "white",
            "linecolor": "white",
            "ticks": ""
           },
           "bgcolor": "#E5ECF6",
           "radialaxis": {
            "gridcolor": "white",
            "linecolor": "white",
            "ticks": ""
           }
          },
          "scene": {
           "xaxis": {
            "backgroundcolor": "#E5ECF6",
            "gridcolor": "white",
            "gridwidth": 2,
            "linecolor": "white",
            "showbackground": true,
            "ticks": "",
            "zerolinecolor": "white"
           },
           "yaxis": {
            "backgroundcolor": "#E5ECF6",
            "gridcolor": "white",
            "gridwidth": 2,
            "linecolor": "white",
            "showbackground": true,
            "ticks": "",
            "zerolinecolor": "white"
           },
           "zaxis": {
            "backgroundcolor": "#E5ECF6",
            "gridcolor": "white",
            "gridwidth": 2,
            "linecolor": "white",
            "showbackground": true,
            "ticks": "",
            "zerolinecolor": "white"
           }
          },
          "shapedefaults": {
           "line": {
            "color": "#2a3f5f"
           }
          },
          "ternary": {
           "aaxis": {
            "gridcolor": "white",
            "linecolor": "white",
            "ticks": ""
           },
           "baxis": {
            "gridcolor": "white",
            "linecolor": "white",
            "ticks": ""
           },
           "bgcolor": "#E5ECF6",
           "caxis": {
            "gridcolor": "white",
            "linecolor": "white",
            "ticks": ""
           }
          },
          "title": {
           "x": 0.05
          },
          "xaxis": {
           "automargin": true,
           "gridcolor": "white",
           "linecolor": "white",
           "ticks": "",
           "title": {
            "standoff": 15
           },
           "zerolinecolor": "white",
           "zerolinewidth": 2
          },
          "yaxis": {
           "automargin": true,
           "gridcolor": "white",
           "linecolor": "white",
           "ticks": "",
           "title": {
            "standoff": 15
           },
           "zerolinecolor": "white",
           "zerolinewidth": 2
          }
         }
        },
        "title": {
         "text": "Channel Effectiveness Overtime"
        },
        "width": 950,
        "xaxis": {
         "anchor": "y",
         "domain": [
          0,
          1
         ],
         "title": {
          "text": "sequence_start_month"
         }
        },
        "yaxis": {
         "anchor": "x",
         "categoryorder": "total ascending",
         "domain": [
          0,
          1
         ],
         "title": {
          "text": "impact_per_touchpoint"
         }
        }
       }
      },
      "text/html": [
       "<div>                            <div id=\"277bbe9e-5c87-499f-9f73-4e6737e13fc9\" class=\"plotly-graph-div\" style=\"height:500px; width:950px;\"></div>            <script type=\"text/javascript\">                require([\"plotly\"], function(Plotly) {                    window.PLOTLYENV=window.PLOTLYENV || {};                                    if (document.getElementById(\"277bbe9e-5c87-499f-9f73-4e6737e13fc9\")) {                    Plotly.newPlot(                        \"277bbe9e-5c87-499f-9f73-4e6737e13fc9\",                        [{\"hovertemplate\":\"event_name=affiliates<br>sequence_start_month=%{x}<br>impact_per_touchpoint=%{y}<extra></extra>\",\"legendgroup\":\"affiliates\",\"line\":{\"color\":\"#636efa\",\"dash\":\"solid\"},\"marker\":{\"symbol\":\"circle\"},\"mode\":\"lines\",\"name\":\"affiliates\",\"orientation\":\"v\",\"showlegend\":true,\"x\":[\"2016-08\",\"2016-09\",\"2016-10\",\"2016-11\",\"2016-12\",\"2017-01\",\"2017-02\",\"2017-03\",\"2017-04\",\"2017-05\",\"2017-06\",\"2017-07\",\"2017-08\",\"2017-09\",\"2017-10\",\"2017-11\",\"2017-12\",\"2018-01\",\"2018-02\",\"2018-03\",\"2018-04\",\"2018-05\"],\"xaxis\":\"x\",\"y\":[0.0,0.0,0.0,0.0,0.0,0.0,0.0,0.0,0.0,0.0,0.0,0.0,0.0,0.0,0.0,0.0,0.0,0.0,0.0,0.0,0.0,0.0],\"yaxis\":\"y\",\"type\":\"scatter\"},{\"hovertemplate\":\"event_name=direct<br>sequence_start_month=%{x}<br>impact_per_touchpoint=%{y}<extra></extra>\",\"legendgroup\":\"direct\",\"line\":{\"color\":\"#EF553B\",\"dash\":\"solid\"},\"marker\":{\"symbol\":\"circle\"},\"mode\":\"lines\",\"name\":\"direct\",\"orientation\":\"v\",\"showlegend\":true,\"x\":[\"2016-08\",\"2016-09\",\"2016-10\",\"2016-11\",\"2016-12\",\"2017-01\",\"2017-02\",\"2017-03\",\"2017-04\",\"2017-05\",\"2017-06\",\"2017-07\",\"2017-08\",\"2017-09\",\"2017-10\",\"2017-11\",\"2017-12\",\"2018-01\",\"2018-02\",\"2018-03\",\"2018-04\",\"2018-05\"],\"xaxis\":\"x\",\"y\":[0.016955834134492066,0.014551551279154442,0.021653951964313852,0.009808516480528306,0.013113253381246873,0.007603644919360083,0.011284167577653756,0.016858557215576477,0.013652004010381307,0.01827689490621775,0.012982140607084877,0.009009009009009009,0.008946621768594528,0.005874745720845903,0.008960662084444758,0.006445926620849861,0.005121410634707565,0.0038560411311053984,0.0014785132075984396,0.02314481090860979,0.006045949214026602,0.0],\"yaxis\":\"y\",\"type\":\"scatter\"},{\"hovertemplate\":\"event_name=display<br>sequence_start_month=%{x}<br>impact_per_touchpoint=%{y}<extra></extra>\",\"legendgroup\":\"display\",\"line\":{\"color\":\"#00cc96\",\"dash\":\"solid\"},\"marker\":{\"symbol\":\"circle\"},\"mode\":\"lines\",\"name\":\"display\",\"orientation\":\"v\",\"showlegend\":true,\"x\":[\"2016-08\",\"2016-09\",\"2016-10\",\"2016-11\",\"2016-12\",\"2017-01\",\"2017-02\",\"2017-03\",\"2017-04\",\"2017-05\",\"2017-06\",\"2017-07\",\"2017-08\",\"2017-09\",\"2017-10\",\"2017-11\",\"2017-12\",\"2018-01\",\"2018-02\",\"2018-03\",\"2018-04\"],\"xaxis\":\"x\",\"y\":[0.02382513547826474,0.011315998568048933,0.012216412758972728,0.0057098844375949925,0.01694915254237288,0.0,0.005486002830442392,0.0,0.0,0.047619047619047616,0.0,0.037037037037037035,0.010394716315111775,0.001713796058269066,0.0008019246190858059,0.0,0.0,0.0,0.0,0.0,0.0],\"yaxis\":\"y\",\"type\":\"scatter\"},{\"hovertemplate\":\"event_name=organic_search<br>sequence_start_month=%{x}<br>impact_per_touchpoint=%{y}<extra></extra>\",\"legendgroup\":\"organic_search\",\"line\":{\"color\":\"#ab63fa\",\"dash\":\"solid\"},\"marker\":{\"symbol\":\"circle\"},\"mode\":\"lines\",\"name\":\"organic_search\",\"orientation\":\"v\",\"showlegend\":true,\"x\":[\"2016-08\",\"2016-09\",\"2016-10\",\"2016-11\",\"2016-12\",\"2017-01\",\"2017-02\",\"2017-03\",\"2017-04\",\"2017-05\",\"2017-06\",\"2017-07\",\"2017-08\",\"2017-09\",\"2017-10\",\"2017-11\",\"2017-12\",\"2018-01\",\"2018-02\",\"2018-03\",\"2018-04\",\"2018-05\"],\"xaxis\":\"x\",\"y\":[0.015258491761246953,0.006461846095515876,0.011257824001011706,0.009893869726252637,0.01028244156415344,0.012739102290240703,0.007518656866515278,0.005218787635487756,0.008823428097532874,0.013333333333333334,0.0058206333780469665,0.00785977404486487,0.009266640852302024,0.006601424597396812,0.0042834675576864266,0.00331606143439014,0.006906836277346242,0.005683416399720076,0.006292109879035374,0.005843222493267667,0.0073423995353629305,0.0],\"yaxis\":\"y\",\"type\":\"scatter\"},{\"hovertemplate\":\"event_name=paid_search<br>sequence_start_month=%{x}<br>impact_per_touchpoint=%{y}<extra></extra>\",\"legendgroup\":\"paid_search\",\"line\":{\"color\":\"#FFA15A\",\"dash\":\"solid\"},\"marker\":{\"symbol\":\"circle\"},\"mode\":\"lines\",\"name\":\"paid_search\",\"orientation\":\"v\",\"showlegend\":true,\"x\":[\"2016-08\",\"2016-09\",\"2016-10\",\"2016-11\",\"2016-12\",\"2017-01\",\"2017-02\",\"2017-03\",\"2017-04\",\"2017-05\",\"2017-06\",\"2017-07\",\"2017-08\",\"2017-09\",\"2017-10\",\"2017-11\",\"2017-12\",\"2018-01\",\"2018-02\",\"2018-03\",\"2018-04\",\"2018-05\"],\"xaxis\":\"x\",\"y\":[0.01246173317846033,0.03057688564932616,0.015037593984962405,0.006985396776280478,0.04297203932133857,0.004012573939548486,0.013994099034081817,0.015625,0.048816541231718184,0.017857142857142856,0.030927835051546393,0.024844720496894408,0.03382213131332347,0.03557642056498852,0.019722434720537887,0.005040921406111819,0.038461538461538464,0.0,0.0079833286060899,0.017275585974803637,0.0,0.0],\"yaxis\":\"y\",\"type\":\"scatter\"},{\"hovertemplate\":\"event_name=referral<br>sequence_start_month=%{x}<br>impact_per_touchpoint=%{y}<extra></extra>\",\"legendgroup\":\"referral\",\"line\":{\"color\":\"#19d3f3\",\"dash\":\"solid\"},\"marker\":{\"symbol\":\"circle\"},\"mode\":\"lines\",\"name\":\"referral\",\"orientation\":\"v\",\"showlegend\":true,\"x\":[\"2016-08\",\"2016-09\",\"2016-10\",\"2016-11\",\"2016-12\",\"2017-01\",\"2017-02\",\"2017-03\",\"2017-04\",\"2017-05\",\"2017-06\",\"2017-07\",\"2017-08\",\"2017-09\",\"2017-10\",\"2017-11\",\"2017-12\",\"2018-01\",\"2018-02\",\"2018-03\",\"2018-04\",\"2018-05\"],\"xaxis\":\"x\",\"y\":[0.06746180385796222,0.06646297028224053,0.036802244716365506,0.044710085133349446,0.06636920021248802,0.042958464832473155,0.04272846217870687,0.04962716634370791,0.039063399325873986,0.05204074291951946,0.06310970552495222,0.05367732791790893,0.06757300855050045,0.03872881378140134,0.026674803183013324,0.02036153090654934,0.023527187327417477,0.01730246326655688,0.02982148188369057,0.018705957475356947,0.020244709030035793,0.0],\"yaxis\":\"y\",\"type\":\"scatter\"},{\"hovertemplate\":\"event_name=social<br>sequence_start_month=%{x}<br>impact_per_touchpoint=%{y}<extra></extra>\",\"legendgroup\":\"social\",\"line\":{\"color\":\"#FF6692\",\"dash\":\"solid\"},\"marker\":{\"symbol\":\"circle\"},\"mode\":\"lines\",\"name\":\"social\",\"orientation\":\"v\",\"showlegend\":true,\"x\":[\"2016-08\",\"2016-09\",\"2016-10\",\"2016-11\",\"2016-12\",\"2017-01\",\"2017-02\",\"2017-03\",\"2017-04\",\"2017-05\",\"2017-06\",\"2017-07\",\"2017-08\",\"2017-09\",\"2017-10\",\"2017-11\",\"2017-12\",\"2018-01\",\"2018-02\",\"2018-03\",\"2018-04\",\"2018-05\"],\"xaxis\":\"x\",\"y\":[0.0005676256349883958,0.0,0.0,0.0002440214738897023,0.0018026933267295364,0.0,0.002617801047120419,0.0,0.001226993865030675,0.0038314176245210726,0.0,0.001697792869269949,0.0,0.0,4.762237030317831e-05,0.0,0.0,0.0,0.0,0.0014248055533316135,0.0009643201542912247,0.0],\"yaxis\":\"y\",\"type\":\"scatter\"},{\"hovertemplate\":\"event_name=(other)<br>sequence_start_month=%{x}<br>impact_per_touchpoint=%{y}<extra></extra>\",\"legendgroup\":\"(other)\",\"line\":{\"color\":\"#B6E880\",\"dash\":\"solid\"},\"marker\":{\"symbol\":\"circle\"},\"mode\":\"lines\",\"name\":\"(other)\",\"orientation\":\"v\",\"showlegend\":true,\"x\":[\"2017-03\",\"2017-04\"],\"xaxis\":\"x\",\"y\":[0.0,0.0],\"yaxis\":\"y\",\"type\":\"scatter\"}],                        {\"template\":{\"data\":{\"histogram2dcontour\":[{\"type\":\"histogram2dcontour\",\"colorbar\":{\"outlinewidth\":0,\"ticks\":\"\"},\"colorscale\":[[0.0,\"#0d0887\"],[0.1111111111111111,\"#46039f\"],[0.2222222222222222,\"#7201a8\"],[0.3333333333333333,\"#9c179e\"],[0.4444444444444444,\"#bd3786\"],[0.5555555555555556,\"#d8576b\"],[0.6666666666666666,\"#ed7953\"],[0.7777777777777778,\"#fb9f3a\"],[0.8888888888888888,\"#fdca26\"],[1.0,\"#f0f921\"]]}],\"choropleth\":[{\"type\":\"choropleth\",\"colorbar\":{\"outlinewidth\":0,\"ticks\":\"\"}}],\"histogram2d\":[{\"type\":\"histogram2d\",\"colorbar\":{\"outlinewidth\":0,\"ticks\":\"\"},\"colorscale\":[[0.0,\"#0d0887\"],[0.1111111111111111,\"#46039f\"],[0.2222222222222222,\"#7201a8\"],[0.3333333333333333,\"#9c179e\"],[0.4444444444444444,\"#bd3786\"],[0.5555555555555556,\"#d8576b\"],[0.6666666666666666,\"#ed7953\"],[0.7777777777777778,\"#fb9f3a\"],[0.8888888888888888,\"#fdca26\"],[1.0,\"#f0f921\"]]}],\"heatmap\":[{\"type\":\"heatmap\",\"colorbar\":{\"outlinewidth\":0,\"ticks\":\"\"},\"colorscale\":[[0.0,\"#0d0887\"],[0.1111111111111111,\"#46039f\"],[0.2222222222222222,\"#7201a8\"],[0.3333333333333333,\"#9c179e\"],[0.4444444444444444,\"#bd3786\"],[0.5555555555555556,\"#d8576b\"],[0.6666666666666666,\"#ed7953\"],[0.7777777777777778,\"#fb9f3a\"],[0.8888888888888888,\"#fdca26\"],[1.0,\"#f0f921\"]]}],\"heatmapgl\":[{\"type\":\"heatmapgl\",\"colorbar\":{\"outlinewidth\":0,\"ticks\":\"\"},\"colorscale\":[[0.0,\"#0d0887\"],[0.1111111111111111,\"#46039f\"],[0.2222222222222222,\"#7201a8\"],[0.3333333333333333,\"#9c179e\"],[0.4444444444444444,\"#bd3786\"],[0.5555555555555556,\"#d8576b\"],[0.6666666666666666,\"#ed7953\"],[0.7777777777777778,\"#fb9f3a\"],[0.8888888888888888,\"#fdca26\"],[1.0,\"#f0f921\"]]}],\"contourcarpet\":[{\"type\":\"contourcarpet\",\"colorbar\":{\"outlinewidth\":0,\"ticks\":\"\"}}],\"contour\":[{\"type\":\"contour\",\"colorbar\":{\"outlinewidth\":0,\"ticks\":\"\"},\"colorscale\":[[0.0,\"#0d0887\"],[0.1111111111111111,\"#46039f\"],[0.2222222222222222,\"#7201a8\"],[0.3333333333333333,\"#9c179e\"],[0.4444444444444444,\"#bd3786\"],[0.5555555555555556,\"#d8576b\"],[0.6666666666666666,\"#ed7953\"],[0.7777777777777778,\"#fb9f3a\"],[0.8888888888888888,\"#fdca26\"],[1.0,\"#f0f921\"]]}],\"surface\":[{\"type\":\"surface\",\"colorbar\":{\"outlinewidth\":0,\"ticks\":\"\"},\"colorscale\":[[0.0,\"#0d0887\"],[0.1111111111111111,\"#46039f\"],[0.2222222222222222,\"#7201a8\"],[0.3333333333333333,\"#9c179e\"],[0.4444444444444444,\"#bd3786\"],[0.5555555555555556,\"#d8576b\"],[0.6666666666666666,\"#ed7953\"],[0.7777777777777778,\"#fb9f3a\"],[0.8888888888888888,\"#fdca26\"],[1.0,\"#f0f921\"]]}],\"mesh3d\":[{\"type\":\"mesh3d\",\"colorbar\":{\"outlinewidth\":0,\"ticks\":\"\"}}],\"scatter\":[{\"fillpattern\":{\"fillmode\":\"overlay\",\"size\":10,\"solidity\":0.2},\"type\":\"scatter\"}],\"parcoords\":[{\"type\":\"parcoords\",\"line\":{\"colorbar\":{\"outlinewidth\":0,\"ticks\":\"\"}}}],\"scatterpolargl\":[{\"type\":\"scatterpolargl\",\"marker\":{\"colorbar\":{\"outlinewidth\":0,\"ticks\":\"\"}}}],\"bar\":[{\"error_x\":{\"color\":\"#2a3f5f\"},\"error_y\":{\"color\":\"#2a3f5f\"},\"marker\":{\"line\":{\"color\":\"#E5ECF6\",\"width\":0.5},\"pattern\":{\"fillmode\":\"overlay\",\"size\":10,\"solidity\":0.2}},\"type\":\"bar\"}],\"scattergeo\":[{\"type\":\"scattergeo\",\"marker\":{\"colorbar\":{\"outlinewidth\":0,\"ticks\":\"\"}}}],\"scatterpolar\":[{\"type\":\"scatterpolar\",\"marker\":{\"colorbar\":{\"outlinewidth\":0,\"ticks\":\"\"}}}],\"histogram\":[{\"marker\":{\"pattern\":{\"fillmode\":\"overlay\",\"size\":10,\"solidity\":0.2}},\"type\":\"histogram\"}],\"scattergl\":[{\"type\":\"scattergl\",\"marker\":{\"colorbar\":{\"outlinewidth\":0,\"ticks\":\"\"}}}],\"scatter3d\":[{\"type\":\"scatter3d\",\"line\":{\"colorbar\":{\"outlinewidth\":0,\"ticks\":\"\"}},\"marker\":{\"colorbar\":{\"outlinewidth\":0,\"ticks\":\"\"}}}],\"scattermapbox\":[{\"type\":\"scattermapbox\",\"marker\":{\"colorbar\":{\"outlinewidth\":0,\"ticks\":\"\"}}}],\"scatterternary\":[{\"type\":\"scatterternary\",\"marker\":{\"colorbar\":{\"outlinewidth\":0,\"ticks\":\"\"}}}],\"scattercarpet\":[{\"type\":\"scattercarpet\",\"marker\":{\"colorbar\":{\"outlinewidth\":0,\"ticks\":\"\"}}}],\"carpet\":[{\"aaxis\":{\"endlinecolor\":\"#2a3f5f\",\"gridcolor\":\"white\",\"linecolor\":\"white\",\"minorgridcolor\":\"white\",\"startlinecolor\":\"#2a3f5f\"},\"baxis\":{\"endlinecolor\":\"#2a3f5f\",\"gridcolor\":\"white\",\"linecolor\":\"white\",\"minorgridcolor\":\"white\",\"startlinecolor\":\"#2a3f5f\"},\"type\":\"carpet\"}],\"table\":[{\"cells\":{\"fill\":{\"color\":\"#EBF0F8\"},\"line\":{\"color\":\"white\"}},\"header\":{\"fill\":{\"color\":\"#C8D4E3\"},\"line\":{\"color\":\"white\"}},\"type\":\"table\"}],\"barpolar\":[{\"marker\":{\"line\":{\"color\":\"#E5ECF6\",\"width\":0.5},\"pattern\":{\"fillmode\":\"overlay\",\"size\":10,\"solidity\":0.2}},\"type\":\"barpolar\"}],\"pie\":[{\"automargin\":true,\"type\":\"pie\"}]},\"layout\":{\"autotypenumbers\":\"strict\",\"colorway\":[\"#636efa\",\"#EF553B\",\"#00cc96\",\"#ab63fa\",\"#FFA15A\",\"#19d3f3\",\"#FF6692\",\"#B6E880\",\"#FF97FF\",\"#FECB52\"],\"font\":{\"color\":\"#2a3f5f\"},\"hovermode\":\"closest\",\"hoverlabel\":{\"align\":\"left\"},\"paper_bgcolor\":\"white\",\"plot_bgcolor\":\"#E5ECF6\",\"polar\":{\"bgcolor\":\"#E5ECF6\",\"angularaxis\":{\"gridcolor\":\"white\",\"linecolor\":\"white\",\"ticks\":\"\"},\"radialaxis\":{\"gridcolor\":\"white\",\"linecolor\":\"white\",\"ticks\":\"\"}},\"ternary\":{\"bgcolor\":\"#E5ECF6\",\"aaxis\":{\"gridcolor\":\"white\",\"linecolor\":\"white\",\"ticks\":\"\"},\"baxis\":{\"gridcolor\":\"white\",\"linecolor\":\"white\",\"ticks\":\"\"},\"caxis\":{\"gridcolor\":\"white\",\"linecolor\":\"white\",\"ticks\":\"\"}},\"coloraxis\":{\"colorbar\":{\"outlinewidth\":0,\"ticks\":\"\"}},\"colorscale\":{\"sequential\":[[0.0,\"#0d0887\"],[0.1111111111111111,\"#46039f\"],[0.2222222222222222,\"#7201a8\"],[0.3333333333333333,\"#9c179e\"],[0.4444444444444444,\"#bd3786\"],[0.5555555555555556,\"#d8576b\"],[0.6666666666666666,\"#ed7953\"],[0.7777777777777778,\"#fb9f3a\"],[0.8888888888888888,\"#fdca26\"],[1.0,\"#f0f921\"]],\"sequentialminus\":[[0.0,\"#0d0887\"],[0.1111111111111111,\"#46039f\"],[0.2222222222222222,\"#7201a8\"],[0.3333333333333333,\"#9c179e\"],[0.4444444444444444,\"#bd3786\"],[0.5555555555555556,\"#d8576b\"],[0.6666666666666666,\"#ed7953\"],[0.7777777777777778,\"#fb9f3a\"],[0.8888888888888888,\"#fdca26\"],[1.0,\"#f0f921\"]],\"diverging\":[[0,\"#8e0152\"],[0.1,\"#c51b7d\"],[0.2,\"#de77ae\"],[0.3,\"#f1b6da\"],[0.4,\"#fde0ef\"],[0.5,\"#f7f7f7\"],[0.6,\"#e6f5d0\"],[0.7,\"#b8e186\"],[0.8,\"#7fbc41\"],[0.9,\"#4d9221\"],[1,\"#276419\"]]},\"xaxis\":{\"gridcolor\":\"white\",\"linecolor\":\"white\",\"ticks\":\"\",\"title\":{\"standoff\":15},\"zerolinecolor\":\"white\",\"automargin\":true,\"zerolinewidth\":2},\"yaxis\":{\"gridcolor\":\"white\",\"linecolor\":\"white\",\"ticks\":\"\",\"title\":{\"standoff\":15},\"zerolinecolor\":\"white\",\"automargin\":true,\"zerolinewidth\":2},\"scene\":{\"xaxis\":{\"backgroundcolor\":\"#E5ECF6\",\"gridcolor\":\"white\",\"linecolor\":\"white\",\"showbackground\":true,\"ticks\":\"\",\"zerolinecolor\":\"white\",\"gridwidth\":2},\"yaxis\":{\"backgroundcolor\":\"#E5ECF6\",\"gridcolor\":\"white\",\"linecolor\":\"white\",\"showbackground\":true,\"ticks\":\"\",\"zerolinecolor\":\"white\",\"gridwidth\":2},\"zaxis\":{\"backgroundcolor\":\"#E5ECF6\",\"gridcolor\":\"white\",\"linecolor\":\"white\",\"showbackground\":true,\"ticks\":\"\",\"zerolinecolor\":\"white\",\"gridwidth\":2}},\"shapedefaults\":{\"line\":{\"color\":\"#2a3f5f\"}},\"annotationdefaults\":{\"arrowcolor\":\"#2a3f5f\",\"arrowhead\":0,\"arrowwidth\":1},\"geo\":{\"bgcolor\":\"white\",\"landcolor\":\"#E5ECF6\",\"subunitcolor\":\"white\",\"showland\":true,\"showlakes\":true,\"lakecolor\":\"white\"},\"title\":{\"x\":0.05},\"mapbox\":{\"style\":\"light\"}}},\"xaxis\":{\"anchor\":\"y\",\"domain\":[0.0,1.0],\"title\":{\"text\":\"sequence_start_month\"}},\"yaxis\":{\"anchor\":\"x\",\"domain\":[0.0,1.0],\"title\":{\"text\":\"impact_per_touchpoint\"},\"categoryorder\":\"total ascending\"},\"legend\":{\"title\":{\"text\":\"event_name\"},\"tracegroupgap\":0},\"title\":{\"text\":\"Channel Effectiveness Overtime\"},\"width\":950,\"height\":500,\"plot_bgcolor\":\"#f2f2f2\"},                        {\"responsive\": true}                    ).then(function(){\n",
       "                            \n",
       "var gd = document.getElementById('277bbe9e-5c87-499f-9f73-4e6737e13fc9');\n",
       "var x = new MutationObserver(function (mutations, observer) {{\n",
       "        var display = window.getComputedStyle(gd).display;\n",
       "        if (!display || display === 'none') {{\n",
       "            console.log([gd, 'removed!']);\n",
       "            Plotly.purge(gd);\n",
       "            observer.disconnect();\n",
       "        }}\n",
       "}});\n",
       "\n",
       "// Listen for the removal of the full notebook cells\n",
       "var notebookContainer = gd.closest('#notebook-container');\n",
       "if (notebookContainer) {{\n",
       "    x.observe(notebookContainer, {childList: true});\n",
       "}}\n",
       "\n",
       "// Listen for the clearing of the current output cell\n",
       "var outputEl = gd.closest('.output');\n",
       "if (outputEl) {{\n",
       "    x.observe(outputEl, {childList: true});\n",
       "}}\n",
       "\n",
       "                        })                };                });            </script>        </div>"
      ]
     },
     "metadata": {},
     "output_type": "display_data"
    }
   ],
   "source": [
    "## make visualization\n",
    "bar_fig = px.line(month_agg_df\n",
    "                 ,x='sequence_start_month'\n",
    "                 ,y='impact_per_touchpoint'\n",
    "                 ,title='Channel Effectiveness Overtime'\n",
    "                 ,color='event_name'\n",
    "                 )\n",
    "\n",
    "bar_fig.update_layout(width=950\n",
    "                      ,height=500\n",
    "                      ,yaxis={'categoryorder': 'total ascending'}\n",
    "                      ,plot_bgcolor='#f2f2f2') \n",
    "\n",
    "bar_fig.show()"
   ]
  },
  {
   "cell_type": "markdown",
   "id": "a7169803",
   "metadata": {},
   "source": [
    "Let's talk about some limitations of this approach in its current status now.\n",
    "\n",
    "#### Limitation 1: Static Weights\n",
    "\n",
    "We only get 1 weight/coefficient for a given channel touchpoint that doesn't change given the presence of other touchpoints so the interaction effects are limitied just to the attribution games' nature of the canabalism. Other approaches may actually let these base weights change given control variables and synergistic relationships across the channels. \n",
    "\n",
    "Weights should/could change based on:\n",
    "1) synergyistic effects (presence or lack of presence of other channels)\n",
    "\n",
    "2) special patterns or sequences\n",
    "\n",
    "3) control variables (geography, customer demographics, etc.)\n",
    "\n",
    "4) proximity or how close the marketing touchpoint occured to the conversion\n",
    "\n",
    "Logistic oversimplifies by just giving you one set of weights to use regardless of these other potential factors.\n",
    "\n",
    "For example if we had a model that could tell us which GEO, device type, countries, and day parts are best the Paid Search and Display channel can increase their spend in these segments in well performing areas. They can also decrease spend or completely turn off the channels in bad performing segments.\n",
    "\n",
    "A model that is aware of synergistic effects, sequences, and proximity can help tell us next best action or next best channel to execute to get our customers to convert. \n",
    "\n",
    "##### Limitation 2: No Base Contribution or Concept of Incrementality, \n",
    "\n",
    "Another thing to consider is that this current approach gives marketing \"full credit\". In reality marketing might only be responsbile for some portion of the sales. This is called incrementality. That maybe you see 100 conversions but marketing only contributed to 20% of that or 20 conversions.\n",
    "\n",
    "How do we include a base contribution? this can be incorporated in many different ways\n",
    "\n",
    "1) Inclusion of control variables that get some of the credit\n",
    "\n",
    "2) In some scenarios, you can look at conversions where no marketing is present and see what that conversion rate or model probability is and call that \"base\" \n",
    "\n",
    "3) You can run an incrementality experiment and some how try to incorporate those insights into the analysis"
   ]
  },
  {
   "cell_type": "markdown",
   "id": "09358c4b",
   "metadata": {},
   "source": [
    "## What Next?\n",
    "\n",
    "**Try similar approach with these better algorithms (does not address the mission of sequences)**\n",
    "- Try xgboost\n",
    "\n",
    "**Introduce Control Variables**\n",
    "- Introduce daypart, devicetype, and geo\n",
    "\n",
    "**Build initiator closer model**\n",
    "- first touch channel, last touch channel, 8 channels\n",
    "\n",
    "**Build position based only (non-sequence) solutions**\n",
    "- number of features = last N positions * 8 channels, + null\n",
    "- eg affiliate|1, affiliate|2, affiliate|3 ... etc\n",
    "\n",
    "**Build small-sequence solutions xgboost**\n",
    "- number of features permutations of 1 touchpoint present (8 channels) + permutations of 2 tactic + permutations of 3 tactic\n",
    "\n",
    "**Build large scale sequence solutions with embedding, dimensionality reduction, sequence mining techniques**\n",
    "- Figuring out hot to embbed or train machine learning algoirthms in the highly complex and spare sequences data\n",
    "\n",
    "**go straight for LSTM fully sequential**\n",
    "- you will need to research what type of input data is needed\n",
    "- you will need to go back to the source data and grab more observations as well (feel free to use earlier notebooks so you don't have to start from scratch)"
   ]
  }
 ],
 "metadata": {
  "kernelspec": {
   "display_name": "Python 3 (ipykernel)",
   "language": "python",
   "name": "python3"
  },
  "language_info": {
   "codemirror_mode": {
    "name": "ipython",
    "version": 3
   },
   "file_extension": ".py",
   "mimetype": "text/x-python",
   "name": "python",
   "nbconvert_exporter": "python",
   "pygments_lexer": "ipython3",
   "version": "3.9.6"
  }
 },
 "nbformat": 4,
 "nbformat_minor": 5
}

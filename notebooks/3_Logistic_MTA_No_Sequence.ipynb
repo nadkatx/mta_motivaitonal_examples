{
 "cells": [
  {
   "cell_type": "code",
   "execution_count": 2,
   "id": "7e415b52",
   "metadata": {},
   "outputs": [],
   "source": [
    "import pandas as pd\n",
    "import numpy as np\n",
    "from scipy import special\n",
    "\n",
    "import plotly.express as px\n",
    "import plotly.graph_objects as go\n",
    "\n",
    "from sklearn.model_selection import train_test_split, GridSearchCV\n",
    "from sklearn.linear_model import LogisticRegression\n",
    "from sklearn.metrics import roc_auc_score, roc_curve"
   ]
  },
  {
   "cell_type": "markdown",
   "id": "46e2f4bd",
   "metadata": {},
   "source": [
    "# Motivational Example A - Logistic MTA with No Sequence\n",
    "\n",
    "This notebook will build a basic logistic model on MTA data with no sequence. \n",
    "\n",
    "It will model on frequency of touchpoints in a journey. \n",
    "\n",
    "It will arbitrarily enforce a non data driven 45 day window (perhaps provided by our marketing SME). You are encouraged to also look into data driven ways to define the proper window or model directly on touchpoint proximity."
   ]
  },
  {
   "cell_type": "code",
   "execution_count": 5,
   "id": "5f5acdbf",
   "metadata": {},
   "outputs": [
    {
     "data": {
      "text/html": [
       "<div>\n",
       "<style scoped>\n",
       "    .dataframe tbody tr th:only-of-type {\n",
       "        vertical-align: middle;\n",
       "    }\n",
       "\n",
       "    .dataframe tbody tr th {\n",
       "        vertical-align: top;\n",
       "    }\n",
       "\n",
       "    .dataframe thead th {\n",
       "        text-align: right;\n",
       "    }\n",
       "</style>\n",
       "<table border=\"1\" class=\"dataframe\">\n",
       "  <thead>\n",
       "    <tr style=\"text-align: right;\">\n",
       "      <th></th>\n",
       "      <th>sequence_id</th>\n",
       "      <th>fullVisitorId</th>\n",
       "      <th>event_name</th>\n",
       "      <th>event_datetime</th>\n",
       "      <th>conversion_proximity</th>\n",
       "    </tr>\n",
       "  </thead>\n",
       "  <tbody>\n",
       "    <tr>\n",
       "      <th>0</th>\n",
       "      <td>0099Rqojoj1MCXN</td>\n",
       "      <td>7343617347507729080</td>\n",
       "      <td>organic_search</td>\n",
       "      <td>2018-04-15 17:31:50</td>\n",
       "      <td>75.0</td>\n",
       "    </tr>\n",
       "    <tr>\n",
       "      <th>1</th>\n",
       "      <td>0099Rqojoj1MCXN</td>\n",
       "      <td>7343617347507729080</td>\n",
       "      <td>dead_end</td>\n",
       "      <td>2018-04-15 17:33:05</td>\n",
       "      <td>0.0</td>\n",
       "    </tr>\n",
       "    <tr>\n",
       "      <th>2</th>\n",
       "      <td>00A9Lkka73okUx2</td>\n",
       "      <td>89656057821147903</td>\n",
       "      <td>organic_search</td>\n",
       "      <td>2017-09-14 16:36:56</td>\n",
       "      <td>1033.0</td>\n",
       "    </tr>\n",
       "    <tr>\n",
       "      <th>3</th>\n",
       "      <td>00A9Lkka73okUx2</td>\n",
       "      <td>89656057821147903</td>\n",
       "      <td>dead_end</td>\n",
       "      <td>2017-09-14 16:54:09</td>\n",
       "      <td>0.0</td>\n",
       "    </tr>\n",
       "    <tr>\n",
       "      <th>4</th>\n",
       "      <td>00B30tmbMwJn7Cf</td>\n",
       "      <td>4307745811624101170</td>\n",
       "      <td>organic_search</td>\n",
       "      <td>2017-04-21 02:41:23</td>\n",
       "      <td>1.0</td>\n",
       "    </tr>\n",
       "    <tr>\n",
       "      <th>5</th>\n",
       "      <td>00B30tmbMwJn7Cf</td>\n",
       "      <td>4307745811624101170</td>\n",
       "      <td>dead_end</td>\n",
       "      <td>2017-04-21 02:41:24</td>\n",
       "      <td>0.0</td>\n",
       "    </tr>\n",
       "    <tr>\n",
       "      <th>6</th>\n",
       "      <td>00BKxKnEYlKbw9b</td>\n",
       "      <td>7129167701457127936</td>\n",
       "      <td>organic_search</td>\n",
       "      <td>2016-10-02 15:16:09</td>\n",
       "      <td>1.0</td>\n",
       "    </tr>\n",
       "    <tr>\n",
       "      <th>7</th>\n",
       "      <td>00BKxKnEYlKbw9b</td>\n",
       "      <td>7129167701457127936</td>\n",
       "      <td>dead_end</td>\n",
       "      <td>2016-10-02 15:16:10</td>\n",
       "      <td>0.0</td>\n",
       "    </tr>\n",
       "    <tr>\n",
       "      <th>8</th>\n",
       "      <td>00EttOfsTTyp45B</td>\n",
       "      <td>3217678225016118393</td>\n",
       "      <td>referral</td>\n",
       "      <td>2017-10-23 19:44:20</td>\n",
       "      <td>143.0</td>\n",
       "    </tr>\n",
       "    <tr>\n",
       "      <th>9</th>\n",
       "      <td>00EttOfsTTyp45B</td>\n",
       "      <td>3217678225016118393</td>\n",
       "      <td>dead_end</td>\n",
       "      <td>2017-10-23 19:46:43</td>\n",
       "      <td>0.0</td>\n",
       "    </tr>\n",
       "  </tbody>\n",
       "</table>\n",
       "</div>"
      ],
      "text/plain": [
       "       sequence_id        fullVisitorId      event_name       event_datetime  \\\n",
       "0  0099Rqojoj1MCXN  7343617347507729080  organic_search  2018-04-15 17:31:50   \n",
       "1  0099Rqojoj1MCXN  7343617347507729080        dead_end  2018-04-15 17:33:05   \n",
       "2  00A9Lkka73okUx2    89656057821147903  organic_search  2017-09-14 16:36:56   \n",
       "3  00A9Lkka73okUx2    89656057821147903        dead_end  2017-09-14 16:54:09   \n",
       "4  00B30tmbMwJn7Cf  4307745811624101170  organic_search  2017-04-21 02:41:23   \n",
       "5  00B30tmbMwJn7Cf  4307745811624101170        dead_end  2017-04-21 02:41:24   \n",
       "6  00BKxKnEYlKbw9b  7129167701457127936  organic_search  2016-10-02 15:16:09   \n",
       "7  00BKxKnEYlKbw9b  7129167701457127936        dead_end  2016-10-02 15:16:10   \n",
       "8  00EttOfsTTyp45B  3217678225016118393        referral  2017-10-23 19:44:20   \n",
       "9  00EttOfsTTyp45B  3217678225016118393        dead_end  2017-10-23 19:46:43   \n",
       "\n",
       "   conversion_proximity  \n",
       "0                  75.0  \n",
       "1                   0.0  \n",
       "2                1033.0  \n",
       "3                   0.0  \n",
       "4                   1.0  \n",
       "5                   0.0  \n",
       "6                   1.0  \n",
       "7                   0.0  \n",
       "8                 143.0  \n",
       "9                   0.0  "
      ]
     },
     "execution_count": 5,
     "metadata": {},
     "output_type": "execute_result"
    }
   ],
   "source": [
    "sequence_df = pd.read_csv('../datasets/sequence_fact.csv')\n",
    "sequence_df.head(10)"
   ]
  },
  {
   "cell_type": "code",
   "execution_count": 7,
   "id": "01a83c8b",
   "metadata": {},
   "outputs": [],
   "source": [
    "sequence_to_visitor_map = sequence_df[['sequence_id','fullVisitorId']].drop_duplicates().reset_index(drop=True)"
   ]
  },
  {
   "cell_type": "markdown",
   "id": "244ef5d8",
   "metadata": {},
   "source": [
    "## Make a modeling dataset\n",
    "\n",
    "We want to filter out rows where conversion proximity >= 45 days (45 days *  86400 seconds per day\n",
    " = 3,888,000 seconds).\n",
    "\n",
    "We want 1 row to represent the sequence id.\n",
    "\n",
    "For fun, lets build a string column that shows the events in order\n",
    "\n",
    "Next there is a conversion column 1 = yes conversion 0 equals dead end journey\n",
    "\n",
    "Finally, since this a non sequence table we would need to make a column based on each channel if it is present in the 45 day journey. "
   ]
  },
  {
   "cell_type": "code",
   "execution_count": 8,
   "id": "64e79b33",
   "metadata": {},
   "outputs": [],
   "source": [
    "## filter conversion_proximity \n",
    "model_prep_df1 = sequence_df.loc[(sequence_df['conversion_proximity']/86400)<=45,:]"
   ]
  },
  {
   "cell_type": "code",
   "execution_count": 9,
   "id": "a09e47fc",
   "metadata": {},
   "outputs": [
    {
     "data": {
      "text/html": [
       "<div>\n",
       "<style scoped>\n",
       "    .dataframe tbody tr th:only-of-type {\n",
       "        vertical-align: middle;\n",
       "    }\n",
       "\n",
       "    .dataframe tbody tr th {\n",
       "        vertical-align: top;\n",
       "    }\n",
       "\n",
       "    .dataframe thead th {\n",
       "        text-align: right;\n",
       "    }\n",
       "</style>\n",
       "<table border=\"1\" class=\"dataframe\">\n",
       "  <thead>\n",
       "    <tr style=\"text-align: right;\">\n",
       "      <th></th>\n",
       "      <th>sequence_id</th>\n",
       "      <th>sequence_details</th>\n",
       "    </tr>\n",
       "  </thead>\n",
       "  <tbody>\n",
       "    <tr>\n",
       "      <th>0</th>\n",
       "      <td>0099Rqojoj1MCXN</td>\n",
       "      <td>organic_search&gt;dead_end</td>\n",
       "    </tr>\n",
       "    <tr>\n",
       "      <th>1</th>\n",
       "      <td>00A9Lkka73okUx2</td>\n",
       "      <td>organic_search&gt;dead_end</td>\n",
       "    </tr>\n",
       "    <tr>\n",
       "      <th>2</th>\n",
       "      <td>00B30tmbMwJn7Cf</td>\n",
       "      <td>organic_search&gt;dead_end</td>\n",
       "    </tr>\n",
       "    <tr>\n",
       "      <th>3</th>\n",
       "      <td>00BKxKnEYlKbw9b</td>\n",
       "      <td>organic_search&gt;dead_end</td>\n",
       "    </tr>\n",
       "    <tr>\n",
       "      <th>4</th>\n",
       "      <td>00EttOfsTTyp45B</td>\n",
       "      <td>referral&gt;dead_end</td>\n",
       "    </tr>\n",
       "  </tbody>\n",
       "</table>\n",
       "</div>"
      ],
      "text/plain": [
       "       sequence_id         sequence_details\n",
       "0  0099Rqojoj1MCXN  organic_search>dead_end\n",
       "1  00A9Lkka73okUx2  organic_search>dead_end\n",
       "2  00B30tmbMwJn7Cf  organic_search>dead_end\n",
       "3  00BKxKnEYlKbw9b  organic_search>dead_end\n",
       "4  00EttOfsTTyp45B        referral>dead_end"
      ]
     },
     "execution_count": 9,
     "metadata": {},
     "output_type": "execute_result"
    }
   ],
   "source": [
    "## make the sequence details\n",
    "model_prep_df2 = model_prep_df1.groupby('sequence_id')['event_name'].agg(lambda x: '>'.join(x)).reset_index()\n",
    "model_prep_df2.columns = ['sequence_id','sequence_details']\n",
    "model_prep_df2.head()"
   ]
  },
  {
   "cell_type": "code",
   "execution_count": 10,
   "id": "46c5a27a",
   "metadata": {},
   "outputs": [
    {
     "data": {
      "text/html": [
       "<div>\n",
       "<style scoped>\n",
       "    .dataframe tbody tr th:only-of-type {\n",
       "        vertical-align: middle;\n",
       "    }\n",
       "\n",
       "    .dataframe tbody tr th {\n",
       "        vertical-align: top;\n",
       "    }\n",
       "\n",
       "    .dataframe thead th {\n",
       "        text-align: right;\n",
       "    }\n",
       "</style>\n",
       "<table border=\"1\" class=\"dataframe\">\n",
       "  <thead>\n",
       "    <tr style=\"text-align: right;\">\n",
       "      <th></th>\n",
       "      <th>sequence_id</th>\n",
       "      <th>(other)</th>\n",
       "      <th>affiliates</th>\n",
       "      <th>conversion</th>\n",
       "      <th>dead_end</th>\n",
       "      <th>direct</th>\n",
       "      <th>display</th>\n",
       "      <th>organic_search</th>\n",
       "      <th>paid_search</th>\n",
       "      <th>referral</th>\n",
       "      <th>social</th>\n",
       "    </tr>\n",
       "  </thead>\n",
       "  <tbody>\n",
       "    <tr>\n",
       "      <th>0</th>\n",
       "      <td>0099Rqojoj1MCXN</td>\n",
       "      <td>0</td>\n",
       "      <td>0</td>\n",
       "      <td>0</td>\n",
       "      <td>1</td>\n",
       "      <td>0</td>\n",
       "      <td>0</td>\n",
       "      <td>1</td>\n",
       "      <td>0</td>\n",
       "      <td>0</td>\n",
       "      <td>0</td>\n",
       "    </tr>\n",
       "    <tr>\n",
       "      <th>1</th>\n",
       "      <td>00A9Lkka73okUx2</td>\n",
       "      <td>0</td>\n",
       "      <td>0</td>\n",
       "      <td>0</td>\n",
       "      <td>1</td>\n",
       "      <td>0</td>\n",
       "      <td>0</td>\n",
       "      <td>1</td>\n",
       "      <td>0</td>\n",
       "      <td>0</td>\n",
       "      <td>0</td>\n",
       "    </tr>\n",
       "    <tr>\n",
       "      <th>2</th>\n",
       "      <td>00B30tmbMwJn7Cf</td>\n",
       "      <td>0</td>\n",
       "      <td>0</td>\n",
       "      <td>0</td>\n",
       "      <td>1</td>\n",
       "      <td>0</td>\n",
       "      <td>0</td>\n",
       "      <td>1</td>\n",
       "      <td>0</td>\n",
       "      <td>0</td>\n",
       "      <td>0</td>\n",
       "    </tr>\n",
       "    <tr>\n",
       "      <th>3</th>\n",
       "      <td>00BKxKnEYlKbw9b</td>\n",
       "      <td>0</td>\n",
       "      <td>0</td>\n",
       "      <td>0</td>\n",
       "      <td>1</td>\n",
       "      <td>0</td>\n",
       "      <td>0</td>\n",
       "      <td>1</td>\n",
       "      <td>0</td>\n",
       "      <td>0</td>\n",
       "      <td>0</td>\n",
       "    </tr>\n",
       "    <tr>\n",
       "      <th>4</th>\n",
       "      <td>00EttOfsTTyp45B</td>\n",
       "      <td>0</td>\n",
       "      <td>0</td>\n",
       "      <td>0</td>\n",
       "      <td>1</td>\n",
       "      <td>0</td>\n",
       "      <td>0</td>\n",
       "      <td>0</td>\n",
       "      <td>0</td>\n",
       "      <td>1</td>\n",
       "      <td>0</td>\n",
       "    </tr>\n",
       "  </tbody>\n",
       "</table>\n",
       "</div>"
      ],
      "text/plain": [
       "       sequence_id  (other)  affiliates  conversion  dead_end  direct  \\\n",
       "0  0099Rqojoj1MCXN        0           0           0         1       0   \n",
       "1  00A9Lkka73okUx2        0           0           0         1       0   \n",
       "2  00B30tmbMwJn7Cf        0           0           0         1       0   \n",
       "3  00BKxKnEYlKbw9b        0           0           0         1       0   \n",
       "4  00EttOfsTTyp45B        0           0           0         1       0   \n",
       "\n",
       "   display  organic_search  paid_search  referral  social  \n",
       "0        0               1            0         0       0  \n",
       "1        0               1            0         0       0  \n",
       "2        0               1            0         0       0  \n",
       "3        0               1            0         0       0  \n",
       "4        0               0            0         1       0  "
      ]
     },
     "execution_count": 10,
     "metadata": {},
     "output_type": "execute_result"
    }
   ],
   "source": [
    "## make the modeling features\n",
    "model_prep_df3 = model_prep_df1.pivot_table(index='sequence_id', columns='event_name', aggfunc='size', fill_value=0).reset_index()\n",
    "model_prep_df3 = model_prep_df3.rename_axis(None, axis=1)\n",
    "model_prep_df3.head()"
   ]
  },
  {
   "cell_type": "code",
   "execution_count": 11,
   "id": "26a6817b",
   "metadata": {},
   "outputs": [
    {
     "data": {
      "text/html": [
       "<div>\n",
       "<style scoped>\n",
       "    .dataframe tbody tr th:only-of-type {\n",
       "        vertical-align: middle;\n",
       "    }\n",
       "\n",
       "    .dataframe tbody tr th {\n",
       "        vertical-align: top;\n",
       "    }\n",
       "\n",
       "    .dataframe thead th {\n",
       "        text-align: right;\n",
       "    }\n",
       "</style>\n",
       "<table border=\"1\" class=\"dataframe\">\n",
       "  <thead>\n",
       "    <tr style=\"text-align: right;\">\n",
       "      <th></th>\n",
       "      <th>fullVisitorId</th>\n",
       "      <th>sequence_id</th>\n",
       "      <th>sequence_details</th>\n",
       "      <th>affiliates</th>\n",
       "      <th>direct</th>\n",
       "      <th>display</th>\n",
       "      <th>organic_search</th>\n",
       "      <th>paid_search</th>\n",
       "      <th>referral</th>\n",
       "      <th>social</th>\n",
       "      <th>(other)</th>\n",
       "      <th>conversion</th>\n",
       "    </tr>\n",
       "  </thead>\n",
       "  <tbody>\n",
       "    <tr>\n",
       "      <th>0</th>\n",
       "      <td>7343617347507729080</td>\n",
       "      <td>0099Rqojoj1MCXN</td>\n",
       "      <td>organic_search&gt;dead_end</td>\n",
       "      <td>0</td>\n",
       "      <td>0</td>\n",
       "      <td>0</td>\n",
       "      <td>1</td>\n",
       "      <td>0</td>\n",
       "      <td>0</td>\n",
       "      <td>0</td>\n",
       "      <td>0</td>\n",
       "      <td>0</td>\n",
       "    </tr>\n",
       "    <tr>\n",
       "      <th>1</th>\n",
       "      <td>89656057821147903</td>\n",
       "      <td>00A9Lkka73okUx2</td>\n",
       "      <td>organic_search&gt;dead_end</td>\n",
       "      <td>0</td>\n",
       "      <td>0</td>\n",
       "      <td>0</td>\n",
       "      <td>1</td>\n",
       "      <td>0</td>\n",
       "      <td>0</td>\n",
       "      <td>0</td>\n",
       "      <td>0</td>\n",
       "      <td>0</td>\n",
       "    </tr>\n",
       "    <tr>\n",
       "      <th>2</th>\n",
       "      <td>4307745811624101170</td>\n",
       "      <td>00B30tmbMwJn7Cf</td>\n",
       "      <td>organic_search&gt;dead_end</td>\n",
       "      <td>0</td>\n",
       "      <td>0</td>\n",
       "      <td>0</td>\n",
       "      <td>1</td>\n",
       "      <td>0</td>\n",
       "      <td>0</td>\n",
       "      <td>0</td>\n",
       "      <td>0</td>\n",
       "      <td>0</td>\n",
       "    </tr>\n",
       "    <tr>\n",
       "      <th>3</th>\n",
       "      <td>7129167701457127936</td>\n",
       "      <td>00BKxKnEYlKbw9b</td>\n",
       "      <td>organic_search&gt;dead_end</td>\n",
       "      <td>0</td>\n",
       "      <td>0</td>\n",
       "      <td>0</td>\n",
       "      <td>1</td>\n",
       "      <td>0</td>\n",
       "      <td>0</td>\n",
       "      <td>0</td>\n",
       "      <td>0</td>\n",
       "      <td>0</td>\n",
       "    </tr>\n",
       "    <tr>\n",
       "      <th>4</th>\n",
       "      <td>3217678225016118393</td>\n",
       "      <td>00EttOfsTTyp45B</td>\n",
       "      <td>referral&gt;dead_end</td>\n",
       "      <td>0</td>\n",
       "      <td>0</td>\n",
       "      <td>0</td>\n",
       "      <td>0</td>\n",
       "      <td>0</td>\n",
       "      <td>1</td>\n",
       "      <td>0</td>\n",
       "      <td>0</td>\n",
       "      <td>0</td>\n",
       "    </tr>\n",
       "  </tbody>\n",
       "</table>\n",
       "</div>"
      ],
      "text/plain": [
       "         fullVisitorId      sequence_id         sequence_details  affiliates  \\\n",
       "0  7343617347507729080  0099Rqojoj1MCXN  organic_search>dead_end           0   \n",
       "1    89656057821147903  00A9Lkka73okUx2  organic_search>dead_end           0   \n",
       "2  4307745811624101170  00B30tmbMwJn7Cf  organic_search>dead_end           0   \n",
       "3  7129167701457127936  00BKxKnEYlKbw9b  organic_search>dead_end           0   \n",
       "4  3217678225016118393  00EttOfsTTyp45B        referral>dead_end           0   \n",
       "\n",
       "   direct  display  organic_search  paid_search  referral  social  (other)  \\\n",
       "0       0        0               1            0         0       0        0   \n",
       "1       0        0               1            0         0       0        0   \n",
       "2       0        0               1            0         0       0        0   \n",
       "3       0        0               1            0         0       0        0   \n",
       "4       0        0               0            0         1       0        0   \n",
       "\n",
       "   conversion  \n",
       "0           0  \n",
       "1           0  \n",
       "2           0  \n",
       "3           0  \n",
       "4           0  "
      ]
     },
     "execution_count": 11,
     "metadata": {},
     "output_type": "execute_result"
    }
   ],
   "source": [
    "## Final joining and prep\n",
    "model_prep_df4 = model_prep_df2.merge(model_prep_df3, on='sequence_id',how='left')\n",
    "\n",
    "## Add visitor id back in\n",
    "model_prep_df4 = model_prep_df4.merge(sequence_to_visitor_map, on='sequence_id',how='left')\n",
    "\n",
    "\n",
    "## drop dead_end and move Y to last spot\n",
    "model_data_final =  model_prep_df4[['fullVisitorId','sequence_id','sequence_details','affiliates'\n",
    "                                 ,'direct','display','organic_search'\n",
    "                                 ,'paid_search','referral','social'\n",
    "                                 ,'(other)','conversion']]\n",
    "model_data_final.head()"
   ]
  },
  {
   "cell_type": "code",
   "execution_count": 14,
   "id": "24592654",
   "metadata": {},
   "outputs": [
    {
     "name": "stdout",
     "output_type": "stream",
     "text": [
      "<class 'pandas.core.frame.DataFrame'>\n",
      "Int64Index: 99718 entries, 0 to 99717\n",
      "Data columns (total 12 columns):\n",
      " #   Column            Non-Null Count  Dtype \n",
      "---  ------            --------------  ----- \n",
      " 0   fullVisitorId     99718 non-null  object\n",
      " 1   sequence_id       99718 non-null  object\n",
      " 2   sequence_details  99718 non-null  object\n",
      " 3   affiliates        99718 non-null  int64 \n",
      " 4   direct            99718 non-null  int64 \n",
      " 5   display           99718 non-null  int64 \n",
      " 6   organic_search    99718 non-null  int64 \n",
      " 7   paid_search       99718 non-null  int64 \n",
      " 8   referral          99718 non-null  int64 \n",
      " 9   social            99718 non-null  int64 \n",
      " 10  (other)           99718 non-null  int64 \n",
      " 11  conversion        99718 non-null  int64 \n",
      "dtypes: int64(9), object(3)\n",
      "memory usage: 9.9+ MB\n"
     ]
    }
   ],
   "source": [
    "model_data_final.info()"
   ]
  },
  {
   "cell_type": "code",
   "execution_count": 9,
   "id": "fa04fdd4",
   "metadata": {},
   "outputs": [],
   "source": [
    "vis_detail = pd.read_csv('../datasets/visitor_detail.csv')\n",
    "# vis_detail.head(10)"
   ]
  },
  {
   "cell_type": "markdown",
   "id": "812c479c",
   "metadata": {},
   "source": [
    "We will split the data into 60 20 20 train validate test \n",
    "\n",
    "- train is used to fit models. Validate is used while making model selection feature selection decisions. Test is a true holdout for final reporting to stakeholders."
   ]
  },
  {
   "cell_type": "code",
   "execution_count": 16,
   "id": "04ce5f1f",
   "metadata": {},
   "outputs": [],
   "source": [
    "# Split the data into train, validation, and test sets\n",
    "temp_data, test_data = train_test_split(model_prep_df4, test_size=0.2, random_state=42)\n",
    "train_data, val_data = train_test_split(temp_data, test_size=0.25, random_state=42)"
   ]
  },
  {
   "cell_type": "code",
   "execution_count": 17,
   "id": "95994983",
   "metadata": {},
   "outputs": [],
   "source": [
    "ind_vars = ['affiliates','direct','display','organic_search','paid_search','referral','social','(other)']\n",
    "dep_var = 'conversion'\n",
    "\n",
    "# Separate the features and target variable\n",
    "X_train = train_data[ind_vars]\n",
    "y_train = train_data[dep_var]\n",
    "X_val = val_data[ind_vars]\n",
    "y_val = val_data[dep_var]\n",
    "X_test = test_data[ind_vars]\n",
    "y_test = test_data[dep_var]"
   ]
  },
  {
   "cell_type": "code",
   "execution_count": 52,
   "id": "fdd069a5",
   "metadata": {},
   "outputs": [
    {
     "data": {
      "text/plain": [
       "LogisticRegression(C=100)"
      ]
     },
     "execution_count": 52,
     "metadata": {},
     "output_type": "execute_result"
    }
   ],
   "source": [
    "# Define the parameter grid for grid search\n",
    "param_grid = {\n",
    "    'C': [0.1, 1, 10, 100]\n",
    "}\n",
    "\n",
    "lr_model = LogisticRegression()\n",
    "\n",
    "grid_search = GridSearchCV(lr_model, param_grid, cv=5, scoring='neg_log_loss')\n",
    "grid_search.fit(X_train, y_train)\n",
    "\n",
    "lr_model = LogisticRegression(**grid_search.best_params_)\n",
    "lr_model.fit(X_train, y_train)"
   ]
  },
  {
   "cell_type": "code",
   "execution_count": 53,
   "id": "a6b4e7bb",
   "metadata": {},
   "outputs": [
    {
     "name": "stdout",
     "output_type": "stream",
     "text": [
      "Train AUC: 0.8036488658056495\n",
      "Test AUC: 0.8066017391060295\n"
     ]
    }
   ],
   "source": [
    "train_pred = lr_model.predict_proba(X_train)[:, 1]\n",
    "val_pred = lr_model.predict_proba(X_val)[:, 1]\n",
    "\n",
    "train_auc = roc_auc_score(y_train, train_pred)\n",
    "test_auc = roc_auc_score(y_val, val_pred)\n",
    "\n",
    "print(\"Train AUC:\", train_auc)\n",
    "print(\"Test AUC:\", test_auc)"
   ]
  },
  {
   "cell_type": "code",
   "execution_count": 63,
   "id": "607584b3",
   "metadata": {},
   "outputs": [
    {
     "data": {
      "application/vnd.plotly.v1+json": {
       "config": {
        "plotlyServerURL": "https://plot.ly"
       },
       "data": [
        {
         "mode": "lines",
         "name": "Train AUC= 0.80",
         "type": "scatter",
         "x": [
          0,
          0.00001694742907500932,
          0.00005084228722502796,
          0.00006778971630003728,
          0.00010168457445005592,
          0.00013557943260007456,
          0.00016947429075009322,
          0.0002372640070501305,
          0.0003050537233501678,
          0.0003220011524251771,
          0.0003220011524251771,
          0.00035589601057519574,
          0.0005931600176253262,
          0.0005931600176253262,
          0.0006101074467003356,
          0.0006440023048503542,
          0.0006440023048503542,
          0.0006609497339253635,
          0.0009829508863505407,
          0.0010168457445005592,
          0.001050740602650578,
          0.001050740602650578,
          0.0011524251771006337,
          0.0011524251771006337,
          0.0021353760634511745,
          0.0021353760634511745,
          0.002169270921601193,
          0.0021862183506762022,
          0.0022540080669762397,
          0.0022879029251262582,
          0.002372640070501305,
          0.0023895874995763142,
          0.002474324644951361,
          0.002474324644951361,
          0.002576009219401417,
          0.002592956648476426,
          0.002592956648476426,
          0.005355387587702946,
          0.005406229874927973,
          0.005457072162153001,
          0.00549096702030302,
          0.0055248618784530384,
          0.005677388740128122,
          0.005694336169203132,
          0.00572823102735315,
          0.005762125885503169,
          0.0057960207436531875,
          0.005880757889028234,
          0.005914652747178253,
          0.005965495034403281,
          0.006067179608853337,
          0.006101074467003356,
          0.006558655052028607,
          0.006575602481103617,
          0.006643392197403654,
          0.006965393349828831,
          0.00699928820797885,
          0.017777853099684778,
          0.017794800528759785,
          0.017845642815984816,
          0.01825238111378504,
          0.018269328542860046,
          0.018337118259160085,
          0.018371013117310105,
          0.018387960546385113,
          0.018421855404535132,
          0.01848964512083517,
          0.018557434837135206,
          0.018574382266210217,
          0.018659119411585264,
          0.01869301426973528,
          0.018862488560485374,
          0.018896383418635393,
          0.01901501542216046,
          0.019082805138460494,
          0.019184489712910553,
          0.01920143714198556,
          0.01952343829441074,
          0.019540385723485747,
          0.019574280581635767,
          0.019608175439785786,
          0.01970986001423584,
          0.02020133545741111,
          0.02021828288648612,
          0.02045554689353625,
          0.02052333660983629,
          0.022268921804562247,
          0.02228586923363726,
          0.02250618581161238,
          0.022573975527912415,
          0.022624817815137442,
          0.02269260753143748,
          0.02269260753143748,
          0.025658407619564113,
          0.02567535504863912,
          0.02567535504863912,
          0.02598040877198929,
          0.02598040877198929,
          0.02765820425041521,
          0.02772599396671525,
          0.027793783683015286,
          0.027827678541165305,
          0.027844625970240313,
          0.02820052198081551,
          0.1056502728536081,
          0.10576890485713317,
          0.1065484865945836,
          0.10658238145273362,
          0.10676880317255873,
          0.10680269803070874,
          0.10697217232145884,
          0.10929397010473511,
          0.10934481239196014,
          0.10953123411178524,
          0.10956512896993525,
          0.11156492560078636,
          0.11158187302986138,
          0.11161576788801139,
          0.11205640104396163,
          0.11212419076026167,
          0.12893604040267093,
          0.12898688268989594,
          0.13488458800799918,
          0.1360370131850998,
          0.13615564518862489,
          0.13640985662475003,
          0.13642680405382504,
          0.1365284886282751,
          0.13666406806087517,
          0.13957902586177676,
          0.1678473375588923,
          0.16786428498796732,
          0.16789817984611735,
          0.16974544961529336,
          0.16984713418974343,
          0.18165949225502492,
          0.18169338711317493,
          0.5789241772023184,
          0.7101650679591905,
          0.7101820153882656,
          0.7107243331186659,
          0.710859912551266,
          0.710961597125716,
          0.710978544554791,
          0.711012439412941,
          0.7110802291292411,
          0.7321119886113276,
          0.7350608412703793,
          0.7358065281496797,
          0.7360946344439548,
          0.7362132664474799,
          0.7362810561637799,
          0.736331898451005,
          0.73634884588008,
          0.73638274073823,
          0.73641663559638,
          0.7364844253126801,
          0.7365352675999051,
          0.7365691624580551,
          0.7365861098871301,
          0.7369589533267803,
          0.7370097956140054,
          0.7370606379012303,
          0.7371453750466054,
          0.7371792699047555,
          0.7372301121919804,
          0.7372640070501305,
          0.738196115649256,
          0.7386367488052062,
          0.9711385282852592,
          0.9711724231434091,
          0.9712063180015592,
          0.9712402128597092,
          0.9712910551469343,
          0.9713418974341592,
          0.9713927397213843,
          0.9714096871504593,
          0.978290343354913,
          0.978324238213063,
          0.9783581330712131,
          0.9783920279293631,
          0.9784767650747381,
          0.9784937125038131,
          0.9797986645425889,
          0.9798156119716639,
          0.9802223502694641,
          0.9802562451276141,
          0.9803748771311392,
          0.9803918245602142,
          0.9808494051452394,
          0.9810527742941396,
          0.9971528319153984,
          0.9971697793444735,
          0.9973562010642986,
          0.9973900959224485,
          0.9974070433515235,
          0.9974917804968986,
          0.9975087279259737,
          0.9975595702131986,
          0.9975765176422736,
          0.9976104125004237,
          0.9976273599294987,
          0.9977120970748737,
          0.9978137816493238,
          0.9978646239365488,
          0.9994068399823747,
          0.9994915771277497,
          0.9997457885638749,
          0.9998135782801749,
          0.9998644205673999,
          0.9999322102836999,
          1
         ],
         "y": [
          0,
          0,
          0,
          0,
          0,
          0.0012135922330097086,
          0.0048543689320388345,
          0.0048543689320388345,
          0.00849514563106796,
          0.00849514563106796,
          0.009708737864077669,
          0.009708737864077669,
          0.013349514563106795,
          0.014563106796116505,
          0.014563106796116505,
          0.014563106796116505,
          0.015776699029126214,
          0.015776699029126214,
          0.032766990291262135,
          0.032766990291262135,
          0.032766990291262135,
          0.03398058252427184,
          0.03398058252427184,
          0.03519417475728155,
          0.05339805825242718,
          0.05461165048543689,
          0.05461165048543689,
          0.05703883495145631,
          0.05703883495145631,
          0.05703883495145631,
          0.05703883495145631,
          0.05703883495145631,
          0.06067961165048544,
          0.061893203883495146,
          0.06432038834951456,
          0.06432038834951456,
          0.06553398058252427,
          0.11407766990291263,
          0.11407766990291263,
          0.11407766990291263,
          0.11407766990291263,
          0.11529126213592233,
          0.11529126213592233,
          0.11529126213592233,
          0.11529126213592233,
          0.11529126213592233,
          0.11529126213592233,
          0.11771844660194175,
          0.11893203883495146,
          0.11893203883495146,
          0.11893203883495146,
          0.11893203883495146,
          0.12257281553398058,
          0.12257281553398058,
          0.12257281553398058,
          0.1262135922330097,
          0.1262135922330097,
          0.22451456310679613,
          0.22451456310679613,
          0.22572815533980584,
          0.22815533980582525,
          0.22815533980582525,
          0.22936893203883496,
          0.22936893203883496,
          0.23058252427184467,
          0.23058252427184467,
          0.23179611650485438,
          0.23179611650485438,
          0.23179611650485438,
          0.23179611650485438,
          0.23179611650485438,
          0.23300970873786409,
          0.23300970873786409,
          0.2342233009708738,
          0.2342233009708738,
          0.2342233009708738,
          0.2342233009708738,
          0.2342233009708738,
          0.2342233009708738,
          0.2342233009708738,
          0.2366504854368932,
          0.2366504854368932,
          0.24029126213592233,
          0.24029126213592233,
          0.24150485436893204,
          0.24150485436893204,
          0.24635922330097088,
          0.24635922330097088,
          0.2487864077669903,
          0.2487864077669903,
          0.25,
          0.25,
          0.2512135922330097,
          0.25849514563106796,
          0.25849514563106796,
          0.25970873786407767,
          0.2657766990291262,
          0.2669902912621359,
          0.279126213592233,
          0.279126213592233,
          0.279126213592233,
          0.279126213592233,
          0.279126213592233,
          0.2803398058252427,
          0.5072815533980582,
          0.5072815533980582,
          0.508495145631068,
          0.508495145631068,
          0.5121359223300971,
          0.5121359223300971,
          0.5133495145631068,
          0.5194174757281553,
          0.5194174757281553,
          0.5194174757281553,
          0.5194174757281553,
          0.5266990291262136,
          0.5266990291262136,
          0.5279126213592233,
          0.5339805825242718,
          0.5364077669902912,
          0.566747572815534,
          0.566747572815534,
          0.587378640776699,
          0.5946601941747572,
          0.5946601941747572,
          0.5946601941747572,
          0.5946601941747572,
          0.5946601941747572,
          0.5946601941747572,
          0.6055825242718447,
          0.6614077669902912,
          0.6614077669902912,
          0.6614077669902912,
          0.662621359223301,
          0.662621359223301,
          0.6929611650485437,
          0.6929611650485437,
          0.8774271844660194,
          0.9830097087378641,
          0.9830097087378641,
          0.9830097087378641,
          0.9830097087378641,
          0.9830097087378641,
          0.9830097087378641,
          0.9830097087378641,
          0.9830097087378641,
          0.9854368932038835,
          0.9866504854368932,
          0.9902912621359223,
          0.9902912621359223,
          0.9902912621359223,
          0.9902912621359223,
          0.9902912621359223,
          0.9902912621359223,
          0.9902912621359223,
          0.9902912621359223,
          0.9902912621359223,
          0.9902912621359223,
          0.9902912621359223,
          0.9902912621359223,
          0.9902912621359223,
          0.9902912621359223,
          0.9902912621359223,
          0.9902912621359223,
          0.9902912621359223,
          0.9902912621359223,
          0.9902912621359223,
          0.9902912621359223,
          0.9902912621359223,
          0.9975728155339806,
          0.9975728155339806,
          0.9975728155339806,
          0.9975728155339806,
          0.9975728155339806,
          0.9975728155339806,
          0.9987864077669902,
          0.9987864077669902,
          0.9987864077669902,
          0.9987864077669902,
          0.9987864077669902,
          0.9987864077669902,
          0.9987864077669902,
          0.9987864077669902,
          1,
          1,
          1,
          1,
          1,
          1,
          1,
          1,
          1,
          1,
          1,
          1,
          1,
          1,
          1,
          1,
          1,
          1,
          1,
          1,
          1,
          1,
          1,
          1,
          1,
          1,
          1,
          1,
          1
         ]
        },
        {
         "mode": "lines",
         "name": "Validate AUC= 0.81",
         "type": "scatter",
         "x": [
          0,
          0.00005076657528683115,
          0.0003045994517209869,
          0.0003045994517209869,
          0.0005584323281551427,
          0.0006091989034419738,
          0.0007107320540156361,
          0.0007614986293024672,
          0.0013706975327444412,
          0.0015229972586049345,
          0.0015229972586049345,
          0.0025383287643415573,
          0.00263986191491522,
          0.00263986191491522,
          0.002690628490202051,
          0.0027413950654888823,
          0.0030967610924967004,
          0.0030967610924967004,
          0.0032490608183571934,
          0.003350593968930856,
          0.006142755609706569,
          0.006244288760280232,
          0.006396588486140725,
          0.006447355061427556,
          0.006548888212001219,
          0.006751954513148543,
          0.006853487663722205,
          0.00751345314245101,
          0.00751345314245101,
          0.007564219717737841,
          0.007767286018885166,
          0.007868819169458828,
          0.018326733678546044,
          0.01842826682911971,
          0.018834399431414357,
          0.01893593258198802,
          0.019138998883135343,
          0.019342065184282668,
          0.01944359833485633,
          0.019595898060716824,
          0.01984973093715098,
          0.01990049751243781,
          0.020103563813585135,
          0.02040816326530612,
          0.020509696415879786,
          0.020560462991166616,
          0.020661996141740278,
          0.02157579449690324,
          0.021829627373337393,
          0.021880393948624226,
          0.023555690933089655,
          0.023707990658950146,
          0.023809523809523808,
          0.02700781805259417,
          0.02741395065488882,
          0.02914001421464108,
          0.02919078078992791,
          0.029444613666362068,
          0.029495380241648897,
          0.10204081632653061,
          0.1021931160523911,
          0.1031576809828409,
          0.10320844755812773,
          0.10336074728398822,
          0.10356381358513554,
          0.10549294344603513,
          0.10569600974718245,
          0.10813280536095035,
          0.10818357193623718,
          0.10833587166209767,
          0.108538937963245,
          0.10864047111381867,
          0.12610417301248858,
          0.1261549395877754,
          0.13219616204690832,
          0.1334653264290791,
          0.13356685957965275,
          0.13407452533252107,
          0.13417605848309472,
          0.13437912478424205,
          0.13701898669915727,
          0.16468677023048026,
          0.16615900091379834,
          0.1662097674890852,
          0.1789521778860798,
          0.17900294446136664,
          0.5803127221037668,
          0.7148441466138694,
          0.7151995126408772,
          0.7153518123667377,
          0.735100010153315,
          0.7378414052188039,
          0.7378921717940907,
          0.73870443699868,
          0.7392121027515484,
          0.7394659356279826,
          0.7396690019291299,
          0.7396690019291299,
          0.7397197685044167,
          0.7400751345314245,
          0.740227434257285,
          0.740532033709006,
          0.7405828002842928,
          0.7416488983653162,
          0.7419534978170372,
          0.9710122855112194,
          0.971113818661793,
          0.9712153518123667,
          0.9712661183876535,
          0.9779673063255153,
          0.9782211392019494,
          0.979236470707686,
          0.9798456696111281,
          0.9799472027617017,
          0.9808102345415778,
          0.9812163671438725,
          0.9965478728804955,
          0.9969032389075033,
          0.9969540054827901,
          0.9971570717839374,
          0.9974616712356584,
          0.9992385013706976,
          0.9994415676718449,
          0.9996446339729922,
          0.9996446339729922,
          0.9998477002741395,
          1
         ],
         "y": [
          0,
          0,
          0,
          0.0040650406504065045,
          0.008130081300813009,
          0.008130081300813009,
          0.008130081300813009,
          0.008130081300813009,
          0.016260162601626018,
          0.016260162601626018,
          0.02032520325203252,
          0.04065040650406504,
          0.04065040650406504,
          0.04878048780487805,
          0.052845528455284556,
          0.052845528455284556,
          0.052845528455284556,
          0.056910569105691054,
          0.056910569105691054,
          0.056910569105691054,
          0.11382113821138211,
          0.11382113821138211,
          0.11382113821138211,
          0.11382113821138211,
          0.11382113821138211,
          0.11382113821138211,
          0.11382113821138211,
          0.11788617886178862,
          0.12195121951219512,
          0.12195121951219512,
          0.13008130081300814,
          0.13008130081300814,
          0.23983739837398374,
          0.23983739837398374,
          0.24390243902439024,
          0.24796747967479674,
          0.24796747967479674,
          0.24796747967479674,
          0.24796747967479674,
          0.24796747967479674,
          0.24796747967479674,
          0.24796747967479674,
          0.24796747967479674,
          0.25203252032520324,
          0.25203252032520324,
          0.25203252032520324,
          0.25203252032520324,
          0.25203252032520324,
          0.25203252032520324,
          0.25203252032520324,
          0.25203252032520324,
          0.25609756097560976,
          0.25609756097560976,
          0.26422764227642276,
          0.2682926829268293,
          0.27235772357723576,
          0.27235772357723576,
          0.27235772357723576,
          0.27235772357723576,
          0.516260162601626,
          0.516260162601626,
          0.516260162601626,
          0.516260162601626,
          0.516260162601626,
          0.516260162601626,
          0.524390243902439,
          0.524390243902439,
          0.5284552845528455,
          0.5284552845528455,
          0.5284552845528455,
          0.5284552845528455,
          0.5284552845528455,
          0.556910569105691,
          0.556910569105691,
          0.5772357723577236,
          0.5813008130081301,
          0.5813008130081301,
          0.5813008130081301,
          0.5813008130081301,
          0.5813008130081301,
          0.5934959349593496,
          0.6626016260162602,
          0.6666666666666666,
          0.6666666666666666,
          0.6910569105691057,
          0.6910569105691057,
          0.8943089430894309,
          0.9796747967479674,
          0.9796747967479674,
          0.9796747967479674,
          0.983739837398374,
          0.983739837398374,
          0.983739837398374,
          0.983739837398374,
          0.983739837398374,
          0.983739837398374,
          0.983739837398374,
          0.9878048780487805,
          0.9878048780487805,
          0.9878048780487805,
          0.9878048780487805,
          0.9878048780487805,
          0.9878048780487805,
          0.9878048780487805,
          0.9878048780487805,
          0.991869918699187,
          0.991869918699187,
          0.991869918699187,
          0.991869918699187,
          0.9959349593495935,
          0.9959349593495935,
          0.9959349593495935,
          0.9959349593495935,
          0.9959349593495935,
          0.9959349593495935,
          0.9959349593495935,
          0.9959349593495935,
          0.9959349593495935,
          0.9959349593495935,
          0.9959349593495935,
          0.9959349593495935,
          0.9959349593495935,
          0.9959349593495935,
          0.9959349593495935,
          1,
          1,
          1
         ]
        }
       ],
       "layout": {
        "height": 500,
        "shapes": [
         {
          "line": {
           "dash": "dash"
          },
          "type": "line",
          "x0": 0,
          "x1": 1,
          "y0": 0,
          "y1": 1
         }
        ],
        "template": {
         "data": {
          "bar": [
           {
            "error_x": {
             "color": "#2a3f5f"
            },
            "error_y": {
             "color": "#2a3f5f"
            },
            "marker": {
             "line": {
              "color": "#E5ECF6",
              "width": 0.5
             },
             "pattern": {
              "fillmode": "overlay",
              "size": 10,
              "solidity": 0.2
             }
            },
            "type": "bar"
           }
          ],
          "barpolar": [
           {
            "marker": {
             "line": {
              "color": "#E5ECF6",
              "width": 0.5
             },
             "pattern": {
              "fillmode": "overlay",
              "size": 10,
              "solidity": 0.2
             }
            },
            "type": "barpolar"
           }
          ],
          "carpet": [
           {
            "aaxis": {
             "endlinecolor": "#2a3f5f",
             "gridcolor": "white",
             "linecolor": "white",
             "minorgridcolor": "white",
             "startlinecolor": "#2a3f5f"
            },
            "baxis": {
             "endlinecolor": "#2a3f5f",
             "gridcolor": "white",
             "linecolor": "white",
             "minorgridcolor": "white",
             "startlinecolor": "#2a3f5f"
            },
            "type": "carpet"
           }
          ],
          "choropleth": [
           {
            "colorbar": {
             "outlinewidth": 0,
             "ticks": ""
            },
            "type": "choropleth"
           }
          ],
          "contour": [
           {
            "colorbar": {
             "outlinewidth": 0,
             "ticks": ""
            },
            "colorscale": [
             [
              0,
              "#0d0887"
             ],
             [
              0.1111111111111111,
              "#46039f"
             ],
             [
              0.2222222222222222,
              "#7201a8"
             ],
             [
              0.3333333333333333,
              "#9c179e"
             ],
             [
              0.4444444444444444,
              "#bd3786"
             ],
             [
              0.5555555555555556,
              "#d8576b"
             ],
             [
              0.6666666666666666,
              "#ed7953"
             ],
             [
              0.7777777777777778,
              "#fb9f3a"
             ],
             [
              0.8888888888888888,
              "#fdca26"
             ],
             [
              1,
              "#f0f921"
             ]
            ],
            "type": "contour"
           }
          ],
          "contourcarpet": [
           {
            "colorbar": {
             "outlinewidth": 0,
             "ticks": ""
            },
            "type": "contourcarpet"
           }
          ],
          "heatmap": [
           {
            "colorbar": {
             "outlinewidth": 0,
             "ticks": ""
            },
            "colorscale": [
             [
              0,
              "#0d0887"
             ],
             [
              0.1111111111111111,
              "#46039f"
             ],
             [
              0.2222222222222222,
              "#7201a8"
             ],
             [
              0.3333333333333333,
              "#9c179e"
             ],
             [
              0.4444444444444444,
              "#bd3786"
             ],
             [
              0.5555555555555556,
              "#d8576b"
             ],
             [
              0.6666666666666666,
              "#ed7953"
             ],
             [
              0.7777777777777778,
              "#fb9f3a"
             ],
             [
              0.8888888888888888,
              "#fdca26"
             ],
             [
              1,
              "#f0f921"
             ]
            ],
            "type": "heatmap"
           }
          ],
          "heatmapgl": [
           {
            "colorbar": {
             "outlinewidth": 0,
             "ticks": ""
            },
            "colorscale": [
             [
              0,
              "#0d0887"
             ],
             [
              0.1111111111111111,
              "#46039f"
             ],
             [
              0.2222222222222222,
              "#7201a8"
             ],
             [
              0.3333333333333333,
              "#9c179e"
             ],
             [
              0.4444444444444444,
              "#bd3786"
             ],
             [
              0.5555555555555556,
              "#d8576b"
             ],
             [
              0.6666666666666666,
              "#ed7953"
             ],
             [
              0.7777777777777778,
              "#fb9f3a"
             ],
             [
              0.8888888888888888,
              "#fdca26"
             ],
             [
              1,
              "#f0f921"
             ]
            ],
            "type": "heatmapgl"
           }
          ],
          "histogram": [
           {
            "marker": {
             "pattern": {
              "fillmode": "overlay",
              "size": 10,
              "solidity": 0.2
             }
            },
            "type": "histogram"
           }
          ],
          "histogram2d": [
           {
            "colorbar": {
             "outlinewidth": 0,
             "ticks": ""
            },
            "colorscale": [
             [
              0,
              "#0d0887"
             ],
             [
              0.1111111111111111,
              "#46039f"
             ],
             [
              0.2222222222222222,
              "#7201a8"
             ],
             [
              0.3333333333333333,
              "#9c179e"
             ],
             [
              0.4444444444444444,
              "#bd3786"
             ],
             [
              0.5555555555555556,
              "#d8576b"
             ],
             [
              0.6666666666666666,
              "#ed7953"
             ],
             [
              0.7777777777777778,
              "#fb9f3a"
             ],
             [
              0.8888888888888888,
              "#fdca26"
             ],
             [
              1,
              "#f0f921"
             ]
            ],
            "type": "histogram2d"
           }
          ],
          "histogram2dcontour": [
           {
            "colorbar": {
             "outlinewidth": 0,
             "ticks": ""
            },
            "colorscale": [
             [
              0,
              "#0d0887"
             ],
             [
              0.1111111111111111,
              "#46039f"
             ],
             [
              0.2222222222222222,
              "#7201a8"
             ],
             [
              0.3333333333333333,
              "#9c179e"
             ],
             [
              0.4444444444444444,
              "#bd3786"
             ],
             [
              0.5555555555555556,
              "#d8576b"
             ],
             [
              0.6666666666666666,
              "#ed7953"
             ],
             [
              0.7777777777777778,
              "#fb9f3a"
             ],
             [
              0.8888888888888888,
              "#fdca26"
             ],
             [
              1,
              "#f0f921"
             ]
            ],
            "type": "histogram2dcontour"
           }
          ],
          "mesh3d": [
           {
            "colorbar": {
             "outlinewidth": 0,
             "ticks": ""
            },
            "type": "mesh3d"
           }
          ],
          "parcoords": [
           {
            "line": {
             "colorbar": {
              "outlinewidth": 0,
              "ticks": ""
             }
            },
            "type": "parcoords"
           }
          ],
          "pie": [
           {
            "automargin": true,
            "type": "pie"
           }
          ],
          "scatter": [
           {
            "fillpattern": {
             "fillmode": "overlay",
             "size": 10,
             "solidity": 0.2
            },
            "type": "scatter"
           }
          ],
          "scatter3d": [
           {
            "line": {
             "colorbar": {
              "outlinewidth": 0,
              "ticks": ""
             }
            },
            "marker": {
             "colorbar": {
              "outlinewidth": 0,
              "ticks": ""
             }
            },
            "type": "scatter3d"
           }
          ],
          "scattercarpet": [
           {
            "marker": {
             "colorbar": {
              "outlinewidth": 0,
              "ticks": ""
             }
            },
            "type": "scattercarpet"
           }
          ],
          "scattergeo": [
           {
            "marker": {
             "colorbar": {
              "outlinewidth": 0,
              "ticks": ""
             }
            },
            "type": "scattergeo"
           }
          ],
          "scattergl": [
           {
            "marker": {
             "colorbar": {
              "outlinewidth": 0,
              "ticks": ""
             }
            },
            "type": "scattergl"
           }
          ],
          "scattermapbox": [
           {
            "marker": {
             "colorbar": {
              "outlinewidth": 0,
              "ticks": ""
             }
            },
            "type": "scattermapbox"
           }
          ],
          "scatterpolar": [
           {
            "marker": {
             "colorbar": {
              "outlinewidth": 0,
              "ticks": ""
             }
            },
            "type": "scatterpolar"
           }
          ],
          "scatterpolargl": [
           {
            "marker": {
             "colorbar": {
              "outlinewidth": 0,
              "ticks": ""
             }
            },
            "type": "scatterpolargl"
           }
          ],
          "scatterternary": [
           {
            "marker": {
             "colorbar": {
              "outlinewidth": 0,
              "ticks": ""
             }
            },
            "type": "scatterternary"
           }
          ],
          "surface": [
           {
            "colorbar": {
             "outlinewidth": 0,
             "ticks": ""
            },
            "colorscale": [
             [
              0,
              "#0d0887"
             ],
             [
              0.1111111111111111,
              "#46039f"
             ],
             [
              0.2222222222222222,
              "#7201a8"
             ],
             [
              0.3333333333333333,
              "#9c179e"
             ],
             [
              0.4444444444444444,
              "#bd3786"
             ],
             [
              0.5555555555555556,
              "#d8576b"
             ],
             [
              0.6666666666666666,
              "#ed7953"
             ],
             [
              0.7777777777777778,
              "#fb9f3a"
             ],
             [
              0.8888888888888888,
              "#fdca26"
             ],
             [
              1,
              "#f0f921"
             ]
            ],
            "type": "surface"
           }
          ],
          "table": [
           {
            "cells": {
             "fill": {
              "color": "#EBF0F8"
             },
             "line": {
              "color": "white"
             }
            },
            "header": {
             "fill": {
              "color": "#C8D4E3"
             },
             "line": {
              "color": "white"
             }
            },
            "type": "table"
           }
          ]
         },
         "layout": {
          "annotationdefaults": {
           "arrowcolor": "#2a3f5f",
           "arrowhead": 0,
           "arrowwidth": 1
          },
          "autotypenumbers": "strict",
          "coloraxis": {
           "colorbar": {
            "outlinewidth": 0,
            "ticks": ""
           }
          },
          "colorscale": {
           "diverging": [
            [
             0,
             "#8e0152"
            ],
            [
             0.1,
             "#c51b7d"
            ],
            [
             0.2,
             "#de77ae"
            ],
            [
             0.3,
             "#f1b6da"
            ],
            [
             0.4,
             "#fde0ef"
            ],
            [
             0.5,
             "#f7f7f7"
            ],
            [
             0.6,
             "#e6f5d0"
            ],
            [
             0.7,
             "#b8e186"
            ],
            [
             0.8,
             "#7fbc41"
            ],
            [
             0.9,
             "#4d9221"
            ],
            [
             1,
             "#276419"
            ]
           ],
           "sequential": [
            [
             0,
             "#0d0887"
            ],
            [
             0.1111111111111111,
             "#46039f"
            ],
            [
             0.2222222222222222,
             "#7201a8"
            ],
            [
             0.3333333333333333,
             "#9c179e"
            ],
            [
             0.4444444444444444,
             "#bd3786"
            ],
            [
             0.5555555555555556,
             "#d8576b"
            ],
            [
             0.6666666666666666,
             "#ed7953"
            ],
            [
             0.7777777777777778,
             "#fb9f3a"
            ],
            [
             0.8888888888888888,
             "#fdca26"
            ],
            [
             1,
             "#f0f921"
            ]
           ],
           "sequentialminus": [
            [
             0,
             "#0d0887"
            ],
            [
             0.1111111111111111,
             "#46039f"
            ],
            [
             0.2222222222222222,
             "#7201a8"
            ],
            [
             0.3333333333333333,
             "#9c179e"
            ],
            [
             0.4444444444444444,
             "#bd3786"
            ],
            [
             0.5555555555555556,
             "#d8576b"
            ],
            [
             0.6666666666666666,
             "#ed7953"
            ],
            [
             0.7777777777777778,
             "#fb9f3a"
            ],
            [
             0.8888888888888888,
             "#fdca26"
            ],
            [
             1,
             "#f0f921"
            ]
           ]
          },
          "colorway": [
           "#636efa",
           "#EF553B",
           "#00cc96",
           "#ab63fa",
           "#FFA15A",
           "#19d3f3",
           "#FF6692",
           "#B6E880",
           "#FF97FF",
           "#FECB52"
          ],
          "font": {
           "color": "#2a3f5f"
          },
          "geo": {
           "bgcolor": "white",
           "lakecolor": "white",
           "landcolor": "#E5ECF6",
           "showlakes": true,
           "showland": true,
           "subunitcolor": "white"
          },
          "hoverlabel": {
           "align": "left"
          },
          "hovermode": "closest",
          "mapbox": {
           "style": "light"
          },
          "paper_bgcolor": "white",
          "plot_bgcolor": "#E5ECF6",
          "polar": {
           "angularaxis": {
            "gridcolor": "white",
            "linecolor": "white",
            "ticks": ""
           },
           "bgcolor": "#E5ECF6",
           "radialaxis": {
            "gridcolor": "white",
            "linecolor": "white",
            "ticks": ""
           }
          },
          "scene": {
           "xaxis": {
            "backgroundcolor": "#E5ECF6",
            "gridcolor": "white",
            "gridwidth": 2,
            "linecolor": "white",
            "showbackground": true,
            "ticks": "",
            "zerolinecolor": "white"
           },
           "yaxis": {
            "backgroundcolor": "#E5ECF6",
            "gridcolor": "white",
            "gridwidth": 2,
            "linecolor": "white",
            "showbackground": true,
            "ticks": "",
            "zerolinecolor": "white"
           },
           "zaxis": {
            "backgroundcolor": "#E5ECF6",
            "gridcolor": "white",
            "gridwidth": 2,
            "linecolor": "white",
            "showbackground": true,
            "ticks": "",
            "zerolinecolor": "white"
           }
          },
          "shapedefaults": {
           "line": {
            "color": "#2a3f5f"
           }
          },
          "ternary": {
           "aaxis": {
            "gridcolor": "white",
            "linecolor": "white",
            "ticks": ""
           },
           "baxis": {
            "gridcolor": "white",
            "linecolor": "white",
            "ticks": ""
           },
           "bgcolor": "#E5ECF6",
           "caxis": {
            "gridcolor": "white",
            "linecolor": "white",
            "ticks": ""
           }
          },
          "title": {
           "x": 0.05
          },
          "xaxis": {
           "automargin": true,
           "gridcolor": "white",
           "linecolor": "white",
           "ticks": "",
           "title": {
            "standoff": 15
           },
           "zerolinecolor": "white",
           "zerolinewidth": 2
          },
          "yaxis": {
           "automargin": true,
           "gridcolor": "white",
           "linecolor": "white",
           "ticks": "",
           "title": {
            "standoff": 15
           },
           "zerolinecolor": "white",
           "zerolinewidth": 2
          }
         }
        },
        "title": {
         "text": "AUC for Train and Validate"
        },
        "width": 700,
        "xaxis": {
         "constrain": "domain",
         "title": {
          "text": "False Positive Rate"
         }
        },
        "yaxis": {
         "scaleanchor": "x",
         "scaleratio": 1,
         "title": {
          "text": "True Positive Rate"
         }
        }
       }
      },
      "text/html": [
       "<div>                            <div id=\"3eadfca3-1055-4ca0-a3c7-f3587fe6bf24\" class=\"plotly-graph-div\" style=\"height:500px; width:700px;\"></div>            <script type=\"text/javascript\">                require([\"plotly\"], function(Plotly) {                    window.PLOTLYENV=window.PLOTLYENV || {};                                    if (document.getElementById(\"3eadfca3-1055-4ca0-a3c7-f3587fe6bf24\")) {                    Plotly.newPlot(                        \"3eadfca3-1055-4ca0-a3c7-f3587fe6bf24\",                        [{\"mode\":\"lines\",\"name\":\"Train AUC= 0.80\",\"x\":[0.0,1.694742907500932e-05,5.084228722502796e-05,6.778971630003728e-05,0.00010168457445005592,0.00013557943260007456,0.00016947429075009322,0.0002372640070501305,0.0003050537233501678,0.0003220011524251771,0.0003220011524251771,0.00035589601057519574,0.0005931600176253262,0.0005931600176253262,0.0006101074467003356,0.0006440023048503542,0.0006440023048503542,0.0006609497339253635,0.0009829508863505407,0.0010168457445005592,0.001050740602650578,0.001050740602650578,0.0011524251771006337,0.0011524251771006337,0.0021353760634511745,0.0021353760634511745,0.002169270921601193,0.0021862183506762022,0.0022540080669762397,0.0022879029251262582,0.002372640070501305,0.0023895874995763142,0.002474324644951361,0.002474324644951361,0.002576009219401417,0.002592956648476426,0.002592956648476426,0.005355387587702946,0.005406229874927973,0.005457072162153001,0.00549096702030302,0.0055248618784530384,0.005677388740128122,0.005694336169203132,0.00572823102735315,0.005762125885503169,0.0057960207436531875,0.005880757889028234,0.005914652747178253,0.005965495034403281,0.006067179608853337,0.006101074467003356,0.006558655052028607,0.006575602481103617,0.006643392197403654,0.006965393349828831,0.00699928820797885,0.017777853099684778,0.017794800528759785,0.017845642815984816,0.01825238111378504,0.018269328542860046,0.018337118259160085,0.018371013117310105,0.018387960546385113,0.018421855404535132,0.01848964512083517,0.018557434837135206,0.018574382266210217,0.018659119411585264,0.01869301426973528,0.018862488560485374,0.018896383418635393,0.01901501542216046,0.019082805138460494,0.019184489712910553,0.01920143714198556,0.01952343829441074,0.019540385723485747,0.019574280581635767,0.019608175439785786,0.01970986001423584,0.02020133545741111,0.02021828288648612,0.02045554689353625,0.02052333660983629,0.022268921804562247,0.02228586923363726,0.02250618581161238,0.022573975527912415,0.022624817815137442,0.02269260753143748,0.02269260753143748,0.025658407619564113,0.02567535504863912,0.02567535504863912,0.02598040877198929,0.02598040877198929,0.02765820425041521,0.02772599396671525,0.027793783683015286,0.027827678541165305,0.027844625970240313,0.02820052198081551,0.1056502728536081,0.10576890485713317,0.1065484865945836,0.10658238145273362,0.10676880317255873,0.10680269803070874,0.10697217232145884,0.10929397010473511,0.10934481239196014,0.10953123411178524,0.10956512896993525,0.11156492560078636,0.11158187302986138,0.11161576788801139,0.11205640104396163,0.11212419076026167,0.12893604040267093,0.12898688268989594,0.13488458800799918,0.1360370131850998,0.13615564518862489,0.13640985662475003,0.13642680405382504,0.1365284886282751,0.13666406806087517,0.13957902586177676,0.1678473375588923,0.16786428498796732,0.16789817984611735,0.16974544961529336,0.16984713418974343,0.18165949225502492,0.18169338711317493,0.5789241772023184,0.7101650679591905,0.7101820153882656,0.7107243331186659,0.710859912551266,0.710961597125716,0.710978544554791,0.711012439412941,0.7110802291292411,0.7321119886113276,0.7350608412703793,0.7358065281496797,0.7360946344439548,0.7362132664474799,0.7362810561637799,0.736331898451005,0.73634884588008,0.73638274073823,0.73641663559638,0.7364844253126801,0.7365352675999051,0.7365691624580551,0.7365861098871301,0.7369589533267803,0.7370097956140054,0.7370606379012303,0.7371453750466054,0.7371792699047555,0.7372301121919804,0.7372640070501305,0.738196115649256,0.7386367488052062,0.9711385282852592,0.9711724231434091,0.9712063180015592,0.9712402128597092,0.9712910551469343,0.9713418974341592,0.9713927397213843,0.9714096871504593,0.978290343354913,0.978324238213063,0.9783581330712131,0.9783920279293631,0.9784767650747381,0.9784937125038131,0.9797986645425889,0.9798156119716639,0.9802223502694641,0.9802562451276141,0.9803748771311392,0.9803918245602142,0.9808494051452394,0.9810527742941396,0.9971528319153984,0.9971697793444735,0.9973562010642986,0.9973900959224485,0.9974070433515235,0.9974917804968986,0.9975087279259737,0.9975595702131986,0.9975765176422736,0.9976104125004237,0.9976273599294987,0.9977120970748737,0.9978137816493238,0.9978646239365488,0.9994068399823747,0.9994915771277497,0.9997457885638749,0.9998135782801749,0.9998644205673999,0.9999322102836999,1.0],\"y\":[0.0,0.0,0.0,0.0,0.0,0.0012135922330097086,0.0048543689320388345,0.0048543689320388345,0.00849514563106796,0.00849514563106796,0.009708737864077669,0.009708737864077669,0.013349514563106795,0.014563106796116505,0.014563106796116505,0.014563106796116505,0.015776699029126214,0.015776699029126214,0.032766990291262135,0.032766990291262135,0.032766990291262135,0.03398058252427184,0.03398058252427184,0.03519417475728155,0.05339805825242718,0.05461165048543689,0.05461165048543689,0.05703883495145631,0.05703883495145631,0.05703883495145631,0.05703883495145631,0.05703883495145631,0.06067961165048544,0.061893203883495146,0.06432038834951456,0.06432038834951456,0.06553398058252427,0.11407766990291263,0.11407766990291263,0.11407766990291263,0.11407766990291263,0.11529126213592233,0.11529126213592233,0.11529126213592233,0.11529126213592233,0.11529126213592233,0.11529126213592233,0.11771844660194175,0.11893203883495146,0.11893203883495146,0.11893203883495146,0.11893203883495146,0.12257281553398058,0.12257281553398058,0.12257281553398058,0.1262135922330097,0.1262135922330097,0.22451456310679613,0.22451456310679613,0.22572815533980584,0.22815533980582525,0.22815533980582525,0.22936893203883496,0.22936893203883496,0.23058252427184467,0.23058252427184467,0.23179611650485438,0.23179611650485438,0.23179611650485438,0.23179611650485438,0.23179611650485438,0.23300970873786409,0.23300970873786409,0.2342233009708738,0.2342233009708738,0.2342233009708738,0.2342233009708738,0.2342233009708738,0.2342233009708738,0.2342233009708738,0.2366504854368932,0.2366504854368932,0.24029126213592233,0.24029126213592233,0.24150485436893204,0.24150485436893204,0.24635922330097088,0.24635922330097088,0.2487864077669903,0.2487864077669903,0.25,0.25,0.2512135922330097,0.25849514563106796,0.25849514563106796,0.25970873786407767,0.2657766990291262,0.2669902912621359,0.279126213592233,0.279126213592233,0.279126213592233,0.279126213592233,0.279126213592233,0.2803398058252427,0.5072815533980582,0.5072815533980582,0.508495145631068,0.508495145631068,0.5121359223300971,0.5121359223300971,0.5133495145631068,0.5194174757281553,0.5194174757281553,0.5194174757281553,0.5194174757281553,0.5266990291262136,0.5266990291262136,0.5279126213592233,0.5339805825242718,0.5364077669902912,0.566747572815534,0.566747572815534,0.587378640776699,0.5946601941747572,0.5946601941747572,0.5946601941747572,0.5946601941747572,0.5946601941747572,0.5946601941747572,0.6055825242718447,0.6614077669902912,0.6614077669902912,0.6614077669902912,0.662621359223301,0.662621359223301,0.6929611650485437,0.6929611650485437,0.8774271844660194,0.9830097087378641,0.9830097087378641,0.9830097087378641,0.9830097087378641,0.9830097087378641,0.9830097087378641,0.9830097087378641,0.9830097087378641,0.9854368932038835,0.9866504854368932,0.9902912621359223,0.9902912621359223,0.9902912621359223,0.9902912621359223,0.9902912621359223,0.9902912621359223,0.9902912621359223,0.9902912621359223,0.9902912621359223,0.9902912621359223,0.9902912621359223,0.9902912621359223,0.9902912621359223,0.9902912621359223,0.9902912621359223,0.9902912621359223,0.9902912621359223,0.9902912621359223,0.9902912621359223,0.9902912621359223,0.9902912621359223,0.9975728155339806,0.9975728155339806,0.9975728155339806,0.9975728155339806,0.9975728155339806,0.9975728155339806,0.9987864077669902,0.9987864077669902,0.9987864077669902,0.9987864077669902,0.9987864077669902,0.9987864077669902,0.9987864077669902,0.9987864077669902,1.0,1.0,1.0,1.0,1.0,1.0,1.0,1.0,1.0,1.0,1.0,1.0,1.0,1.0,1.0,1.0,1.0,1.0,1.0,1.0,1.0,1.0,1.0,1.0,1.0,1.0,1.0,1.0,1.0],\"type\":\"scatter\"},{\"mode\":\"lines\",\"name\":\"Validate AUC= 0.81\",\"x\":[0.0,5.076657528683115e-05,0.0003045994517209869,0.0003045994517209869,0.0005584323281551427,0.0006091989034419738,0.0007107320540156361,0.0007614986293024672,0.0013706975327444412,0.0015229972586049345,0.0015229972586049345,0.0025383287643415573,0.00263986191491522,0.00263986191491522,0.002690628490202051,0.0027413950654888823,0.0030967610924967004,0.0030967610924967004,0.0032490608183571934,0.003350593968930856,0.006142755609706569,0.006244288760280232,0.006396588486140725,0.006447355061427556,0.006548888212001219,0.006751954513148543,0.006853487663722205,0.00751345314245101,0.00751345314245101,0.007564219717737841,0.007767286018885166,0.007868819169458828,0.018326733678546044,0.01842826682911971,0.018834399431414357,0.01893593258198802,0.019138998883135343,0.019342065184282668,0.01944359833485633,0.019595898060716824,0.01984973093715098,0.01990049751243781,0.020103563813585135,0.02040816326530612,0.020509696415879786,0.020560462991166616,0.020661996141740278,0.02157579449690324,0.021829627373337393,0.021880393948624226,0.023555690933089655,0.023707990658950146,0.023809523809523808,0.02700781805259417,0.02741395065488882,0.02914001421464108,0.02919078078992791,0.029444613666362068,0.029495380241648897,0.10204081632653061,0.1021931160523911,0.1031576809828409,0.10320844755812773,0.10336074728398822,0.10356381358513554,0.10549294344603513,0.10569600974718245,0.10813280536095035,0.10818357193623718,0.10833587166209767,0.108538937963245,0.10864047111381867,0.12610417301248858,0.1261549395877754,0.13219616204690832,0.1334653264290791,0.13356685957965275,0.13407452533252107,0.13417605848309472,0.13437912478424205,0.13701898669915727,0.16468677023048026,0.16615900091379834,0.1662097674890852,0.1789521778860798,0.17900294446136664,0.5803127221037668,0.7148441466138694,0.7151995126408772,0.7153518123667377,0.735100010153315,0.7378414052188039,0.7378921717940907,0.73870443699868,0.7392121027515484,0.7394659356279826,0.7396690019291299,0.7396690019291299,0.7397197685044167,0.7400751345314245,0.740227434257285,0.740532033709006,0.7405828002842928,0.7416488983653162,0.7419534978170372,0.9710122855112194,0.971113818661793,0.9712153518123667,0.9712661183876535,0.9779673063255153,0.9782211392019494,0.979236470707686,0.9798456696111281,0.9799472027617017,0.9808102345415778,0.9812163671438725,0.9965478728804955,0.9969032389075033,0.9969540054827901,0.9971570717839374,0.9974616712356584,0.9992385013706976,0.9994415676718449,0.9996446339729922,0.9996446339729922,0.9998477002741395,1.0],\"y\":[0.0,0.0,0.0,0.0040650406504065045,0.008130081300813009,0.008130081300813009,0.008130081300813009,0.008130081300813009,0.016260162601626018,0.016260162601626018,0.02032520325203252,0.04065040650406504,0.04065040650406504,0.04878048780487805,0.052845528455284556,0.052845528455284556,0.052845528455284556,0.056910569105691054,0.056910569105691054,0.056910569105691054,0.11382113821138211,0.11382113821138211,0.11382113821138211,0.11382113821138211,0.11382113821138211,0.11382113821138211,0.11382113821138211,0.11788617886178862,0.12195121951219512,0.12195121951219512,0.13008130081300814,0.13008130081300814,0.23983739837398374,0.23983739837398374,0.24390243902439024,0.24796747967479674,0.24796747967479674,0.24796747967479674,0.24796747967479674,0.24796747967479674,0.24796747967479674,0.24796747967479674,0.24796747967479674,0.25203252032520324,0.25203252032520324,0.25203252032520324,0.25203252032520324,0.25203252032520324,0.25203252032520324,0.25203252032520324,0.25203252032520324,0.25609756097560976,0.25609756097560976,0.26422764227642276,0.2682926829268293,0.27235772357723576,0.27235772357723576,0.27235772357723576,0.27235772357723576,0.516260162601626,0.516260162601626,0.516260162601626,0.516260162601626,0.516260162601626,0.516260162601626,0.524390243902439,0.524390243902439,0.5284552845528455,0.5284552845528455,0.5284552845528455,0.5284552845528455,0.5284552845528455,0.556910569105691,0.556910569105691,0.5772357723577236,0.5813008130081301,0.5813008130081301,0.5813008130081301,0.5813008130081301,0.5813008130081301,0.5934959349593496,0.6626016260162602,0.6666666666666666,0.6666666666666666,0.6910569105691057,0.6910569105691057,0.8943089430894309,0.9796747967479674,0.9796747967479674,0.9796747967479674,0.983739837398374,0.983739837398374,0.983739837398374,0.983739837398374,0.983739837398374,0.983739837398374,0.983739837398374,0.9878048780487805,0.9878048780487805,0.9878048780487805,0.9878048780487805,0.9878048780487805,0.9878048780487805,0.9878048780487805,0.9878048780487805,0.991869918699187,0.991869918699187,0.991869918699187,0.991869918699187,0.9959349593495935,0.9959349593495935,0.9959349593495935,0.9959349593495935,0.9959349593495935,0.9959349593495935,0.9959349593495935,0.9959349593495935,0.9959349593495935,0.9959349593495935,0.9959349593495935,0.9959349593495935,0.9959349593495935,0.9959349593495935,0.9959349593495935,1.0,1.0,1.0],\"type\":\"scatter\"}],                        {\"template\":{\"data\":{\"histogram2dcontour\":[{\"type\":\"histogram2dcontour\",\"colorbar\":{\"outlinewidth\":0,\"ticks\":\"\"},\"colorscale\":[[0.0,\"#0d0887\"],[0.1111111111111111,\"#46039f\"],[0.2222222222222222,\"#7201a8\"],[0.3333333333333333,\"#9c179e\"],[0.4444444444444444,\"#bd3786\"],[0.5555555555555556,\"#d8576b\"],[0.6666666666666666,\"#ed7953\"],[0.7777777777777778,\"#fb9f3a\"],[0.8888888888888888,\"#fdca26\"],[1.0,\"#f0f921\"]]}],\"choropleth\":[{\"type\":\"choropleth\",\"colorbar\":{\"outlinewidth\":0,\"ticks\":\"\"}}],\"histogram2d\":[{\"type\":\"histogram2d\",\"colorbar\":{\"outlinewidth\":0,\"ticks\":\"\"},\"colorscale\":[[0.0,\"#0d0887\"],[0.1111111111111111,\"#46039f\"],[0.2222222222222222,\"#7201a8\"],[0.3333333333333333,\"#9c179e\"],[0.4444444444444444,\"#bd3786\"],[0.5555555555555556,\"#d8576b\"],[0.6666666666666666,\"#ed7953\"],[0.7777777777777778,\"#fb9f3a\"],[0.8888888888888888,\"#fdca26\"],[1.0,\"#f0f921\"]]}],\"heatmap\":[{\"type\":\"heatmap\",\"colorbar\":{\"outlinewidth\":0,\"ticks\":\"\"},\"colorscale\":[[0.0,\"#0d0887\"],[0.1111111111111111,\"#46039f\"],[0.2222222222222222,\"#7201a8\"],[0.3333333333333333,\"#9c179e\"],[0.4444444444444444,\"#bd3786\"],[0.5555555555555556,\"#d8576b\"],[0.6666666666666666,\"#ed7953\"],[0.7777777777777778,\"#fb9f3a\"],[0.8888888888888888,\"#fdca26\"],[1.0,\"#f0f921\"]]}],\"heatmapgl\":[{\"type\":\"heatmapgl\",\"colorbar\":{\"outlinewidth\":0,\"ticks\":\"\"},\"colorscale\":[[0.0,\"#0d0887\"],[0.1111111111111111,\"#46039f\"],[0.2222222222222222,\"#7201a8\"],[0.3333333333333333,\"#9c179e\"],[0.4444444444444444,\"#bd3786\"],[0.5555555555555556,\"#d8576b\"],[0.6666666666666666,\"#ed7953\"],[0.7777777777777778,\"#fb9f3a\"],[0.8888888888888888,\"#fdca26\"],[1.0,\"#f0f921\"]]}],\"contourcarpet\":[{\"type\":\"contourcarpet\",\"colorbar\":{\"outlinewidth\":0,\"ticks\":\"\"}}],\"contour\":[{\"type\":\"contour\",\"colorbar\":{\"outlinewidth\":0,\"ticks\":\"\"},\"colorscale\":[[0.0,\"#0d0887\"],[0.1111111111111111,\"#46039f\"],[0.2222222222222222,\"#7201a8\"],[0.3333333333333333,\"#9c179e\"],[0.4444444444444444,\"#bd3786\"],[0.5555555555555556,\"#d8576b\"],[0.6666666666666666,\"#ed7953\"],[0.7777777777777778,\"#fb9f3a\"],[0.8888888888888888,\"#fdca26\"],[1.0,\"#f0f921\"]]}],\"surface\":[{\"type\":\"surface\",\"colorbar\":{\"outlinewidth\":0,\"ticks\":\"\"},\"colorscale\":[[0.0,\"#0d0887\"],[0.1111111111111111,\"#46039f\"],[0.2222222222222222,\"#7201a8\"],[0.3333333333333333,\"#9c179e\"],[0.4444444444444444,\"#bd3786\"],[0.5555555555555556,\"#d8576b\"],[0.6666666666666666,\"#ed7953\"],[0.7777777777777778,\"#fb9f3a\"],[0.8888888888888888,\"#fdca26\"],[1.0,\"#f0f921\"]]}],\"mesh3d\":[{\"type\":\"mesh3d\",\"colorbar\":{\"outlinewidth\":0,\"ticks\":\"\"}}],\"scatter\":[{\"fillpattern\":{\"fillmode\":\"overlay\",\"size\":10,\"solidity\":0.2},\"type\":\"scatter\"}],\"parcoords\":[{\"type\":\"parcoords\",\"line\":{\"colorbar\":{\"outlinewidth\":0,\"ticks\":\"\"}}}],\"scatterpolargl\":[{\"type\":\"scatterpolargl\",\"marker\":{\"colorbar\":{\"outlinewidth\":0,\"ticks\":\"\"}}}],\"bar\":[{\"error_x\":{\"color\":\"#2a3f5f\"},\"error_y\":{\"color\":\"#2a3f5f\"},\"marker\":{\"line\":{\"color\":\"#E5ECF6\",\"width\":0.5},\"pattern\":{\"fillmode\":\"overlay\",\"size\":10,\"solidity\":0.2}},\"type\":\"bar\"}],\"scattergeo\":[{\"type\":\"scattergeo\",\"marker\":{\"colorbar\":{\"outlinewidth\":0,\"ticks\":\"\"}}}],\"scatterpolar\":[{\"type\":\"scatterpolar\",\"marker\":{\"colorbar\":{\"outlinewidth\":0,\"ticks\":\"\"}}}],\"histogram\":[{\"marker\":{\"pattern\":{\"fillmode\":\"overlay\",\"size\":10,\"solidity\":0.2}},\"type\":\"histogram\"}],\"scattergl\":[{\"type\":\"scattergl\",\"marker\":{\"colorbar\":{\"outlinewidth\":0,\"ticks\":\"\"}}}],\"scatter3d\":[{\"type\":\"scatter3d\",\"line\":{\"colorbar\":{\"outlinewidth\":0,\"ticks\":\"\"}},\"marker\":{\"colorbar\":{\"outlinewidth\":0,\"ticks\":\"\"}}}],\"scattermapbox\":[{\"type\":\"scattermapbox\",\"marker\":{\"colorbar\":{\"outlinewidth\":0,\"ticks\":\"\"}}}],\"scatterternary\":[{\"type\":\"scatterternary\",\"marker\":{\"colorbar\":{\"outlinewidth\":0,\"ticks\":\"\"}}}],\"scattercarpet\":[{\"type\":\"scattercarpet\",\"marker\":{\"colorbar\":{\"outlinewidth\":0,\"ticks\":\"\"}}}],\"carpet\":[{\"aaxis\":{\"endlinecolor\":\"#2a3f5f\",\"gridcolor\":\"white\",\"linecolor\":\"white\",\"minorgridcolor\":\"white\",\"startlinecolor\":\"#2a3f5f\"},\"baxis\":{\"endlinecolor\":\"#2a3f5f\",\"gridcolor\":\"white\",\"linecolor\":\"white\",\"minorgridcolor\":\"white\",\"startlinecolor\":\"#2a3f5f\"},\"type\":\"carpet\"}],\"table\":[{\"cells\":{\"fill\":{\"color\":\"#EBF0F8\"},\"line\":{\"color\":\"white\"}},\"header\":{\"fill\":{\"color\":\"#C8D4E3\"},\"line\":{\"color\":\"white\"}},\"type\":\"table\"}],\"barpolar\":[{\"marker\":{\"line\":{\"color\":\"#E5ECF6\",\"width\":0.5},\"pattern\":{\"fillmode\":\"overlay\",\"size\":10,\"solidity\":0.2}},\"type\":\"barpolar\"}],\"pie\":[{\"automargin\":true,\"type\":\"pie\"}]},\"layout\":{\"autotypenumbers\":\"strict\",\"colorway\":[\"#636efa\",\"#EF553B\",\"#00cc96\",\"#ab63fa\",\"#FFA15A\",\"#19d3f3\",\"#FF6692\",\"#B6E880\",\"#FF97FF\",\"#FECB52\"],\"font\":{\"color\":\"#2a3f5f\"},\"hovermode\":\"closest\",\"hoverlabel\":{\"align\":\"left\"},\"paper_bgcolor\":\"white\",\"plot_bgcolor\":\"#E5ECF6\",\"polar\":{\"bgcolor\":\"#E5ECF6\",\"angularaxis\":{\"gridcolor\":\"white\",\"linecolor\":\"white\",\"ticks\":\"\"},\"radialaxis\":{\"gridcolor\":\"white\",\"linecolor\":\"white\",\"ticks\":\"\"}},\"ternary\":{\"bgcolor\":\"#E5ECF6\",\"aaxis\":{\"gridcolor\":\"white\",\"linecolor\":\"white\",\"ticks\":\"\"},\"baxis\":{\"gridcolor\":\"white\",\"linecolor\":\"white\",\"ticks\":\"\"},\"caxis\":{\"gridcolor\":\"white\",\"linecolor\":\"white\",\"ticks\":\"\"}},\"coloraxis\":{\"colorbar\":{\"outlinewidth\":0,\"ticks\":\"\"}},\"colorscale\":{\"sequential\":[[0.0,\"#0d0887\"],[0.1111111111111111,\"#46039f\"],[0.2222222222222222,\"#7201a8\"],[0.3333333333333333,\"#9c179e\"],[0.4444444444444444,\"#bd3786\"],[0.5555555555555556,\"#d8576b\"],[0.6666666666666666,\"#ed7953\"],[0.7777777777777778,\"#fb9f3a\"],[0.8888888888888888,\"#fdca26\"],[1.0,\"#f0f921\"]],\"sequentialminus\":[[0.0,\"#0d0887\"],[0.1111111111111111,\"#46039f\"],[0.2222222222222222,\"#7201a8\"],[0.3333333333333333,\"#9c179e\"],[0.4444444444444444,\"#bd3786\"],[0.5555555555555556,\"#d8576b\"],[0.6666666666666666,\"#ed7953\"],[0.7777777777777778,\"#fb9f3a\"],[0.8888888888888888,\"#fdca26\"],[1.0,\"#f0f921\"]],\"diverging\":[[0,\"#8e0152\"],[0.1,\"#c51b7d\"],[0.2,\"#de77ae\"],[0.3,\"#f1b6da\"],[0.4,\"#fde0ef\"],[0.5,\"#f7f7f7\"],[0.6,\"#e6f5d0\"],[0.7,\"#b8e186\"],[0.8,\"#7fbc41\"],[0.9,\"#4d9221\"],[1,\"#276419\"]]},\"xaxis\":{\"gridcolor\":\"white\",\"linecolor\":\"white\",\"ticks\":\"\",\"title\":{\"standoff\":15},\"zerolinecolor\":\"white\",\"automargin\":true,\"zerolinewidth\":2},\"yaxis\":{\"gridcolor\":\"white\",\"linecolor\":\"white\",\"ticks\":\"\",\"title\":{\"standoff\":15},\"zerolinecolor\":\"white\",\"automargin\":true,\"zerolinewidth\":2},\"scene\":{\"xaxis\":{\"backgroundcolor\":\"#E5ECF6\",\"gridcolor\":\"white\",\"linecolor\":\"white\",\"showbackground\":true,\"ticks\":\"\",\"zerolinecolor\":\"white\",\"gridwidth\":2},\"yaxis\":{\"backgroundcolor\":\"#E5ECF6\",\"gridcolor\":\"white\",\"linecolor\":\"white\",\"showbackground\":true,\"ticks\":\"\",\"zerolinecolor\":\"white\",\"gridwidth\":2},\"zaxis\":{\"backgroundcolor\":\"#E5ECF6\",\"gridcolor\":\"white\",\"linecolor\":\"white\",\"showbackground\":true,\"ticks\":\"\",\"zerolinecolor\":\"white\",\"gridwidth\":2}},\"shapedefaults\":{\"line\":{\"color\":\"#2a3f5f\"}},\"annotationdefaults\":{\"arrowcolor\":\"#2a3f5f\",\"arrowhead\":0,\"arrowwidth\":1},\"geo\":{\"bgcolor\":\"white\",\"landcolor\":\"#E5ECF6\",\"subunitcolor\":\"white\",\"showland\":true,\"showlakes\":true,\"lakecolor\":\"white\"},\"title\":{\"x\":0.05},\"mapbox\":{\"style\":\"light\"}}},\"shapes\":[{\"line\":{\"dash\":\"dash\"},\"type\":\"line\",\"x0\":0,\"x1\":1,\"y0\":0,\"y1\":1}],\"yaxis\":{\"title\":{\"text\":\"True Positive Rate\"},\"scaleanchor\":\"x\",\"scaleratio\":1},\"xaxis\":{\"title\":{\"text\":\"False Positive Rate\"},\"constrain\":\"domain\"},\"title\":{\"text\":\"AUC for Train and Validate\"},\"width\":700,\"height\":500},                        {\"responsive\": true}                    ).then(function(){\n",
       "                            \n",
       "var gd = document.getElementById('3eadfca3-1055-4ca0-a3c7-f3587fe6bf24');\n",
       "var x = new MutationObserver(function (mutations, observer) {{\n",
       "        var display = window.getComputedStyle(gd).display;\n",
       "        if (!display || display === 'none') {{\n",
       "            console.log([gd, 'removed!']);\n",
       "            Plotly.purge(gd);\n",
       "            observer.disconnect();\n",
       "        }}\n",
       "}});\n",
       "\n",
       "// Listen for the removal of the full notebook cells\n",
       "var notebookContainer = gd.closest('#notebook-container');\n",
       "if (notebookContainer) {{\n",
       "    x.observe(notebookContainer, {childList: true});\n",
       "}}\n",
       "\n",
       "// Listen for the clearing of the current output cell\n",
       "var outputEl = gd.closest('.output');\n",
       "if (outputEl) {{\n",
       "    x.observe(outputEl, {childList: true});\n",
       "}}\n",
       "\n",
       "                        })                };                });            </script>        </div>"
      ]
     },
     "metadata": {},
     "output_type": "display_data"
    }
   ],
   "source": [
    "fig = go.Figure()\n",
    "fig.add_shape(\n",
    "    type='line', line=dict(dash='dash'),\n",
    "    x0=0, x1=1, y0=0, y1=1\n",
    ")\n",
    "\n",
    "for i, j in enumerate(['train','validate']):\n",
    "    \n",
    "    \n",
    "    if j == 'train':\n",
    "        fpr, tpr, _ = roc_curve(y_train, train_pred)\n",
    "        auc_score = roc_auc_score(y_train, train_pred)\n",
    "    elif j == 'validate':\n",
    "        fpr, tpr, _ = roc_curve(y_val, val_pred)\n",
    "        auc_score = roc_auc_score(y_val, val_pred)\n",
    "\n",
    "    name = \"{} AUC= {:.2f}\".format(j.title(),auc_score)\n",
    "    fig.add_trace(go.Scatter(x=fpr, y=tpr, name=name, mode='lines'))\n",
    "\n",
    "fig.update_layout(\n",
    "    title='AUC for Train and Validate'\n",
    "    ,xaxis_title='False Positive Rate'\n",
    "    ,yaxis_title='True Positive Rate'\n",
    "    ,yaxis=dict(scaleanchor=\"x\", scaleratio=1)\n",
    "    ,xaxis=dict(constrain='domain')\n",
    "    ,width=700\n",
    "    ,height=500\n",
    ")\n",
    "fig.show()"
   ]
  },
  {
   "cell_type": "code",
   "execution_count": 76,
   "id": "29096adf",
   "metadata": {},
   "outputs": [
    {
     "name": "stdout",
     "output_type": "stream",
     "text": [
      "logisitc coefficients in log-odds\n",
      "\n",
      "affiliates: -9.54\n",
      "direct: 0.12\n",
      "display: -0.07\n",
      "organic_search: 0.16\n",
      "paid_search: 0.55\n",
      "referral: 0.84\n",
      "social: -2.69\n",
      "(other): -0.04\n"
     ]
    }
   ],
   "source": [
    "# Get the coefficients (weights) for each variable\n",
    "coefficients = lr_model.coef_\n",
    "\n",
    "print(\"logisitc coefficients in log-odds\")\n",
    "print(\"\")\n",
    "# Print the coefficients\n",
    "for i, feature_name in enumerate(X_train.columns):\n",
    "\n",
    "    print(\"{}: {:.2f}\".format(feature_name,coefficients[0][i]))"
   ]
  },
  {
   "cell_type": "code",
   "execution_count": 86,
   "id": "80afb612",
   "metadata": {},
   "outputs": [
    {
     "name": "stdout",
     "output_type": "stream",
     "text": [
      "logisitc coefficients\n",
      "\n",
      "affiliates | odds ratio: 0.00, probability impact: -1.00\n",
      "direct | odds ratio: 1.13, probability impact: 0.13\n",
      "display | odds ratio: 0.93, probability impact: -0.07\n",
      "organic_search | odds ratio: 1.17, probability impact: 0.17\n",
      "paid_search | odds ratio: 1.73, probability impact: 0.73\n",
      "referral | odds ratio: 2.31, probability impact: 1.31\n",
      "social | odds ratio: 0.07, probability impact: -0.93\n",
      "(other) | odds ratio: 0.96, probability impact: -0.04\n"
     ]
    }
   ],
   "source": [
    "# Get the coefficients (weights) for each variable\n",
    "coefficients = lr_model.coef_\n",
    "\n",
    "print(\"logisitc coefficients\")\n",
    "print(\"\")\n",
    "# Print the coefficients\n",
    "for i, feature_name in enumerate(X_train.columns):\n",
    "    odds_ratio = np.exp(coefficients[0][i])\n",
    "    probability_impact = np.exp(coefficients[0][i]) - 1\n",
    "    print(\"{} | odds ratio: {:.2f}, probability impact: {:.2f}\".format(feature_name,odds_ratio,probability_impact))"
   ]
  },
  {
   "cell_type": "markdown",
   "id": "3f8633a5",
   "metadata": {},
   "source": [
    "To interpret this: a 1 unit increase in direct channel touchpoints results in the odds of conversion increasing by 13%."
   ]
  },
  {
   "cell_type": "markdown",
   "id": "2b2de855",
   "metadata": {},
   "source": [
    "## Deploying these weights into a business system/ attribution report dataset\n",
    "\n",
    "So now how can we logically create a data driven logisitc regression input that would let us divy up conversions appropriately?\n",
    "\n",
    "To divy up these credits we would need to meet the following rules.\n",
    "- If a touchpoint is present but no conversion it gets zero credit for a conversion\n",
    "- If a touchpoint is present but there is a conversion it gets >= 0 credit for a conversion\n",
    "- If a touchpoint not present it gets no credit and it gets no penalty either."
   ]
  },
  {
   "cell_type": "markdown",
   "id": "e00d35b8",
   "metadata": {},
   "source": [
    "The softmax function transforms the original logistic coefficients into a set of values that sum up to 1, with each value representing the probability weight of the corresponding independent variable in contributing to the outcome variable. These probability weights can be interpreted as the relative importance of each independent variable in predicting the outcome variable."
   ]
  },
  {
   "cell_type": "code",
   "execution_count": 83,
   "id": "7788f623",
   "metadata": {},
   "outputs": [
    {
     "name": "stdout",
     "output_type": "stream",
     "text": [
      "logisitc coefficients in softmax\n",
      "\n",
      "affiliates: 0.00001\n",
      "direct: 0.13573\n",
      "display: 0.11199\n",
      "organic_search: 0.14151\n",
      "paid_search: 0.20818\n",
      "referral: 0.27844\n",
      "social: 0.00819\n",
      "(other): 0.11595\n"
     ]
    }
   ],
   "source": [
    "## example interpretation\n",
    "\n",
    "coefficients = special.softmax(lr_model.coef_)\n",
    "print(\"logisitc coefficients in softmax\")\n",
    "print(\"\")\n",
    "# Print the coefficients\n",
    "for i, feature_name in enumerate(X_train.columns):\n",
    "\n",
    "    print(\"{}: {:.5f}\".format(feature_name,coefficients[0][i]))"
   ]
  },
  {
   "cell_type": "markdown",
   "id": "4d6a0ee2",
   "metadata": {},
   "source": [
    "These probability weights can be interpreted as follows: referral has the highest probability weight of 0.278, which means it is the most important independent variable in predicting the outcome variable. "
   ]
  },
  {
   "cell_type": "markdown",
   "id": "4656a7c4",
   "metadata": {},
   "source": [
    "Assume we had 1 touchpoint of each channel present and then a conversion. These set of numbers could represent how much credit each channel gets in that scenario. "
   ]
  },
  {
   "cell_type": "markdown",
   "id": "d28552ec",
   "metadata": {},
   "source": [
    "Now what if we saw a journey with 2 paid search 1 referal 1 affiliate then a conversion"
   ]
  },
  {
   "cell_type": "markdown",
   "id": "ce76a701",
   "metadata": {},
   "source": [
    "The conversion should be divvyd up like this"
   ]
  },
  {
   "cell_type": "code",
   "execution_count": 95,
   "id": "00f318fc",
   "metadata": {},
   "outputs": [
    {
     "name": "stdout",
     "output_type": "stream",
     "text": [
      "paid search channel credit: 0.599\n",
      "paid search per touchpoint credit: 0.300\n",
      "\n",
      "referral channel credit: 0.401\n",
      "referral touchpoint credit: 0.401\n",
      "\n",
      "affiliate channel credit: 0.000\n",
      "affiliate touchpoint credit: 0.000\n"
     ]
    }
   ],
   "source": [
    "channel_impacts = 2 * (0.20818) + 1 * (0.27844) + 1 * (0.00001)\n",
    "\n",
    "paid_search_channel_contribution = (2 * (0.20818)) / channel_impacts\n",
    "paid_search_touchpoint_contribution = paid_search_channel_contribution / 2\n",
    "\n",
    "referral_channel_contribution = (1 * (0.27844)) / channel_impacts\n",
    "referral_touchpoint_contribution = referral_channel_contribution / 1\n",
    "\n",
    "affiliate_channel_contribution = (1 * (0.00001)) / channel_impacts\n",
    "affiliate_touchpoint_contribution = affiliate_channel_contribution / 1\n",
    "\n",
    "print(\"paid search channel credit: {:.3f}\".format(paid_search_channel_contribution))\n",
    "print(\"paid search per touchpoint credit: {:.3f}\".format(paid_search_touchpoint_contribution))\n",
    "print(\"\")\n",
    "print(\"referral channel credit: {:.3f}\".format(referral_channel_contribution))\n",
    "print(\"referral touchpoint credit: {:.3f}\".format(referral_touchpoint_contribution))\n",
    "print(\"\")\n",
    "print(\"affiliate channel credit: {:.3f}\".format(affiliate_channel_contribution))\n",
    "print(\"affiliate touchpoint credit: {:.3f}\".format(affiliate_touchpoint_contribution))"
   ]
  },
  {
   "cell_type": "markdown",
   "id": "8525fab1",
   "metadata": {},
   "source": [
    "In summary, we can use the softmax transformation on the logistic regression coefficients to give us indepentent variable impacts on a scale between 0 and 1 and summing up to 1\n",
    "\n",
    "These weights are data driven and sensible to then be deployed to calculate channel contribution and touchpoint contribution like the example above. \n",
    "\n",
    "Once the entire dataset is scored, we can now slice and dice the results. "
   ]
  },
  {
   "cell_type": "markdown",
   "id": "152f3569",
   "metadata": {},
   "source": [
    "Let's talk about some limitations of this approach in its currently status now.\n",
    "\n",
    "We only get 1 weight/coefficient for a given channel touchpoint that doesn't inherently change given the presence of other touchpoints so the interaction effects are limitied just to the attribution games' nature of the canabalism. Other approaches may actually let these base weights change given control variables and synergies across the channels. \n",
    "\n",
    "Weights could change based on\n",
    "1) synergyistic effects\n",
    "2) special patterns or sequences\n",
    "3) control variables (geography, customer demographics, etc.)"
   ]
  },
  {
   "cell_type": "markdown",
   "id": "28d68efc",
   "metadata": {},
   "source": [
    "## What Next\n",
    "\n",
    "**Try similar approach with these better algorithms (does not address the mission of sequences)**\n",
    "- Check for multi-colliniatry try logistic Bagging\n",
    "- Try xgboost\n",
    "\n",
    "**Try markov chain**\n",
    "- you will need to research what type of input data is needed\n",
    "\n",
    "**Build position based only (non-sequence) solutions**\n",
    "- number of features = last N positions * 8 channels\n",
    "- eg affiliate|1, affiliate|2, affiliate|3 ... etc\n",
    "\n",
    "**Build small-sequence solutions with log regression, log regression bagged, xgboost**\n",
    "- number of features permutations of 1 touchpoint present (8 channels) + permutations of 2 tactic + permutations of 3 tactic\n",
    "\n",
    "**Build large scale sequence solutions with embedding, dimensionality reduction, sequence mining techniques**\n",
    "- Figuring out hot to embbed or train machine learning algoirthms in the highly complex and spare sequences data\n",
    "\n",
    "**go straight for LSTM**\n",
    "- you will need to research what type of input data is needed"
   ]
  }
 ],
 "metadata": {
  "kernelspec": {
   "display_name": "Python 3 (ipykernel)",
   "language": "python",
   "name": "python3"
  },
  "language_info": {
   "codemirror_mode": {
    "name": "ipython",
    "version": 3
   },
   "file_extension": ".py",
   "mimetype": "text/x-python",
   "name": "python",
   "nbconvert_exporter": "python",
   "pygments_lexer": "ipython3",
   "version": "3.9.6"
  }
 },
 "nbformat": 4,
 "nbformat_minor": 5
}

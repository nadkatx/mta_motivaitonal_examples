{
 "cells": [
  {
   "cell_type": "markdown",
   "id": "1b6639f4",
   "metadata": {},
   "source": [
    "# Exploratory Data Analysis on Google Merchandise Store Sequence Data\n",
    "\n",
    "Can you use python and data visualization to answer these different start questions? Can you think of any other questions that might be intresting or relevant to explore before building a model?"
   ]
  },
  {
   "cell_type": "code",
   "execution_count": null,
   "id": "9c431f84",
   "metadata": {},
   "outputs": [],
   "source": [
    "import pandas as pd\n",
    "import numpy as np\n",
    "import seaborn as sns"
   ]
  },
  {
   "cell_type": "code",
   "execution_count": null,
   "id": "db13e160",
   "metadata": {},
   "outputs": [],
   "source": [
    "df = pd.read_csv('../datasets/sequence_fact.csv')"
   ]
  },
  {
   "cell_type": "code",
   "execution_count": null,
   "id": "009fa7ba",
   "metadata": {},
   "outputs": [],
   "source": []
  },
  {
   "cell_type": "markdown",
   "id": "119bb015",
   "metadata": {},
   "source": [
    "**How big is the dataset?** (row count, column count, data storage size)"
   ]
  },
  {
   "cell_type": "code",
   "execution_count": null,
   "id": "fe636215",
   "metadata": {},
   "outputs": [],
   "source": []
  },
  {
   "cell_type": "markdown",
   "id": "90c3d50d",
   "metadata": {},
   "source": [
    "**Are there any nulls or missing fields?**"
   ]
  },
  {
   "cell_type": "code",
   "execution_count": null,
   "id": "e17f3923",
   "metadata": {},
   "outputs": [],
   "source": []
  },
  {
   "cell_type": "markdown",
   "id": "056eb5d7",
   "metadata": {},
   "source": [
    "**How many sequences are conversions vs dead ends?**"
   ]
  },
  {
   "cell_type": "code",
   "execution_count": null,
   "id": "d478e42e",
   "metadata": {},
   "outputs": [],
   "source": []
  },
  {
   "cell_type": "markdown",
   "id": "a583aadc",
   "metadata": {},
   "source": [
    "**What is the unique number of channels? What are they?**"
   ]
  },
  {
   "cell_type": "code",
   "execution_count": null,
   "id": "0a4a80f2",
   "metadata": {},
   "outputs": [],
   "source": []
  },
  {
   "cell_type": "markdown",
   "id": "69395860",
   "metadata": {},
   "source": [
    "**What is the average number of channel touchpoints per sequence?**"
   ]
  },
  {
   "cell_type": "code",
   "execution_count": null,
   "id": "7f60ea01",
   "metadata": {},
   "outputs": [],
   "source": []
  },
  {
   "cell_type": "markdown",
   "id": "7af7d4bb",
   "metadata": {},
   "source": [
    "**for each channel how many touches do they have?**"
   ]
  },
  {
   "cell_type": "code",
   "execution_count": null,
   "id": "ee85917f",
   "metadata": {},
   "outputs": [],
   "source": []
  },
  {
   "cell_type": "markdown",
   "id": "d7b11028",
   "metadata": {},
   "source": [
    "**for each channel how many sequences do they belong to**"
   ]
  },
  {
   "cell_type": "code",
   "execution_count": null,
   "id": "5bae4ec1",
   "metadata": {},
   "outputs": [],
   "source": []
  },
  {
   "cell_type": "markdown",
   "id": "5a90098c",
   "metadata": {},
   "source": [
    "**Given each channel is present in the sequence what is the conversion rate (conversion seqence count / total sequence count)**"
   ]
  },
  {
   "cell_type": "code",
   "execution_count": null,
   "id": "d5b04f5d",
   "metadata": {},
   "outputs": [],
   "source": []
  },
  {
   "cell_type": "markdown",
   "id": "504eb387",
   "metadata": {},
   "source": [
    "**is there correlations between the touchpoints?**"
   ]
  },
  {
   "cell_type": "code",
   "execution_count": null,
   "id": "43ca7014",
   "metadata": {},
   "outputs": [],
   "source": []
  },
  {
   "cell_type": "code",
   "execution_count": null,
   "id": "aeefd89f",
   "metadata": {},
   "outputs": [],
   "source": []
  },
  {
   "cell_type": "markdown",
   "id": "2e553862",
   "metadata": {},
   "source": [
    "**Can you think of any other things that would be good to know before we start modeling?**"
   ]
  },
  {
   "cell_type": "code",
   "execution_count": null,
   "id": "5d7db14e",
   "metadata": {},
   "outputs": [],
   "source": []
  }
 ],
 "metadata": {
  "kernelspec": {
   "display_name": "Python 3 (ipykernel)",
   "language": "python",
   "name": "python3"
  },
  "language_info": {
   "codemirror_mode": {
    "name": "ipython",
    "version": 3
   },
   "file_extension": ".py",
   "mimetype": "text/x-python",
   "name": "python",
   "nbconvert_exporter": "python",
   "pygments_lexer": "ipython3",
   "version": "3.9.6"
  }
 },
 "nbformat": 4,
 "nbformat_minor": 5
}
